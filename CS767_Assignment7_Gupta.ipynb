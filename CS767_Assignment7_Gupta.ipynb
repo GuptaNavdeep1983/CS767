{
  "nbformat": 4,
  "nbformat_minor": 0,
  "metadata": {
    "colab": {
      "name": "CS767_Assignment7_Gupta.ipynb",
      "provenance": [],
      "include_colab_link": true
    },
    "kernelspec": {
      "display_name": "Python 3",
      "language": "python",
      "name": "python3"
    },
    "language_info": {
      "codemirror_mode": {
        "name": "ipython",
        "version": 3
      },
      "file_extension": ".py",
      "mimetype": "text/x-python",
      "name": "python",
      "nbconvert_exporter": "python",
      "pygments_lexer": "ipython3",
      "version": "3.8.8"
    }
  },
  "cells": [
    {
      "cell_type": "markdown",
      "metadata": {
        "id": "view-in-github",
        "colab_type": "text"
      },
      "source": [
        "<a href=\"https://colab.research.google.com/github/GuptaNavdeep1983/CS767/blob/main/CS767_Assignment7_Gupta.ipynb\" target=\"_parent\"><img src=\"https://colab.research.google.com/assets/colab-badge.svg\" alt=\"Open In Colab\"/></a>"
      ]
    },
    {
      "cell_type": "code",
      "metadata": {
        "id": "425DisQaYCTP"
      },
      "source": [
        "import keras\n",
        "import tensorflow as tf\n",
        "import numpy as np\n",
        "import math\n",
        "from sklearn.model_selection import StratifiedKFold, train_test_split\n",
        "from keras.datasets import cifar10\n",
        "import pandas as pd\n",
        "import matplotlib.pyplot as plt"
      ],
      "execution_count": null,
      "outputs": []
    },
    {
      "cell_type": "code",
      "metadata": {
        "colab": {
          "base_uri": "https://localhost:8080/"
        },
        "id": "VLbk6F5KX3xf",
        "outputId": "ea2a2e83-2258-4405-cb39-02378d113ed1"
      },
      "source": [
        "# load cifar10 dataset\n",
        "(x_train, y_train), (x_test, y_test) = cifar10.load_data()"
      ],
      "execution_count": null,
      "outputs": [
        {
          "output_type": "stream",
          "text": [
            "Downloading data from https://www.cs.toronto.edu/~kriz/cifar-10-python.tar.gz\n",
            "170500096/170498071 [==============================] - 4s 0us/step\n",
            "170508288/170498071 [==============================] - 4s 0us/step\n"
          ],
          "name": "stdout"
        }
      ]
    },
    {
      "cell_type": "code",
      "metadata": {
        "id": "QG7C06mwX8MR"
      },
      "source": [
        "# random seed\n",
        "InitSeed = 767\n",
        "tf.random.set_seed(InitSeed)\n",
        "np.random.seed( InitSeed)"
      ],
      "execution_count": null,
      "outputs": []
    },
    {
      "cell_type": "code",
      "metadata": {
        "id": "hwy_23s2aS7l"
      },
      "source": [
        "#standardize images one by one\n",
        "x_train = tf.map_fn(lambda frame: tf.image.per_image_standardization(frame), x_train, dtype=tf.float32).numpy()"
      ],
      "execution_count": null,
      "outputs": []
    },
    {
      "cell_type": "code",
      "metadata": {
        "id": "kmkjdD33ySHD"
      },
      "source": [
        "#standardize images one by one\n",
        "x_test = tf.map_fn(lambda frame: tf.image.per_image_standardization(frame), x_test, dtype=tf.float32).numpy()"
      ],
      "execution_count": null,
      "outputs": []
    },
    {
      "cell_type": "markdown",
      "metadata": {
        "id": "nzvURxXRyQIC"
      },
      "source": [
        "# split train and validation sets using stratified datasets"
      ]
    },
    {
      "cell_type": "code",
      "metadata": {
        "id": "BZBqj9RYoZD3"
      },
      "source": [
        "x_train, x_valid, y_train, y_valid = train_test_split(x_train, y_train, test_size=0.1, random_state=42, stratify=y_train)"
      ],
      "execution_count": null,
      "outputs": []
    },
    {
      "cell_type": "code",
      "metadata": {
        "id": "Tzjt9IyvJb7a"
      },
      "source": [
        "# learning rate scheduler - #1\n",
        "def step_decay1(epoch):\n",
        "   initial_lrate = 0.001\n",
        "   drop = 0.0001\n",
        "   epochs_drop = 10.0\n",
        "   lrate = initial_lrate * math.pow(drop,  \n",
        "           math.floor((1+epoch)/epochs_drop))\n",
        "   return lrate\n",
        "lrate1 = tf.keras.callbacks.LearningRateScheduler(step_decay1)"
      ],
      "execution_count": null,
      "outputs": []
    },
    {
      "cell_type": "markdown",
      "metadata": {
        "id": "89_UvzXpyQIF"
      },
      "source": [
        "# learning rate scheduler - #2\n",
        "# Observed that this learning rate scheduler turned out to be very useful in achieveing a good validation accuracy"
      ]
    },
    {
      "cell_type": "code",
      "metadata": {
        "id": "EIo4g8OaKj5i"
      },
      "source": [
        "def step_decay2(epoch, lr):\n",
        "     return lr * tf.math.exp(-0.1)\n",
        "\n",
        "lrate2 = tf.keras.callbacks.LearningRateScheduler(step_decay2)"
      ],
      "execution_count": null,
      "outputs": []
    },
    {
      "cell_type": "markdown",
      "metadata": {
        "id": "8KsIcmpQyQIH"
      },
      "source": [
        "# MLP with total five layers, RelU activation function and callbacks (early stopping, ModelCheckpoint(save the best model) and Learning rate scheduler)\n",
        "# Batch size - 128\n",
        "# Increased the patience of EarlyStopping callback to 20\n",
        "# Using val_accuracy as the monitor for ModelCheckpoint"
      ]
    },
    {
      "cell_type": "code",
      "metadata": {
        "colab": {
          "base_uri": "https://localhost:8080/"
        },
        "id": "iQdaEigyjAXZ",
        "outputId": "56ca14dc-268e-475c-a663-b49cd2dcfd8b"
      },
      "source": [
        "# callbacks\n",
        "checkpoint_cb = keras.callbacks.ModelCheckpoint (\"my_cifar10.model.h5\" , save_best_only=True,monitor='val_accuracy')\n",
        "earlystopping_cb = keras.callbacks.EarlyStopping (patience=20, restore_best_weights=True)\n",
        "\n",
        "# epochs = 50\n",
        "# learning_rate = 0.001\n",
        "# decay_rate = learning_rate / epochs\n",
        "# momentum = 0.8\n",
        "\n",
        "# Model\n",
        "input1 = keras.layers.Flatten(input_shape=[32,32,3])\n",
        "hidden1 = keras.layers.Dense(2048, activation='relu', name=\"Hidden1\")\n",
        "hidden2 = keras.layers.Dense(1024, activation='relu', name=\"Hidden2\")\n",
        "hidden3 = keras.layers.Dense(512, activation='relu', name=\"Hidden3\")\n",
        "output = keras.layers.Dense(10, activation='softmax', name=\"Output\")\n",
        "\n",
        "model1 = keras.models.Sequential([input1, hidden1, hidden2, hidden3, output])\n",
        "\n",
        "model1.compile(loss='sparse_categorical_crossentropy', optimizer='Adam', metrics=['accuracy'])\n",
        "\n",
        "print(model1.summary())\n",
        "\n",
        "hist1 = model1.fit(x_train, y_train,epochs=100, batch_size=128, validation_data=(x_valid, y_valid), verbose=2, callbacks=[earlystopping_cb, checkpoint_cb, lrate2])"
      ],
      "execution_count": null,
      "outputs": [
        {
          "output_type": "stream",
          "text": [
            "Model: \"sequential_35\"\n",
            "_________________________________________________________________\n",
            "Layer (type)                 Output Shape              Param #   \n",
            "=================================================================\n",
            "flatten_35 (Flatten)         (None, 3072)              0         \n",
            "_________________________________________________________________\n",
            "Hidden1 (Dense)              (None, 2048)              6293504   \n",
            "_________________________________________________________________\n",
            "Hidden2 (Dense)              (None, 1024)              2098176   \n",
            "_________________________________________________________________\n",
            "Hidden3 (Dense)              (None, 512)               524800    \n",
            "_________________________________________________________________\n",
            "Output (Dense)               (None, 10)                5130      \n",
            "=================================================================\n",
            "Total params: 8,921,610\n",
            "Trainable params: 8,921,610\n",
            "Non-trainable params: 0\n",
            "_________________________________________________________________\n",
            "None\n",
            "Epoch 1/100\n",
            "352/352 - 28s - loss: 1.6805 - accuracy: 0.4095 - val_loss: 1.5134 - val_accuracy: 0.4566\n",
            "Epoch 2/100\n",
            "352/352 - 30s - loss: 1.3968 - accuracy: 0.5035 - val_loss: 1.4147 - val_accuracy: 0.4962\n",
            "Epoch 3/100\n",
            "352/352 - 28s - loss: 1.2428 - accuracy: 0.5578 - val_loss: 1.3666 - val_accuracy: 0.5158\n",
            "Epoch 4/100\n",
            "352/352 - 26s - loss: 1.1029 - accuracy: 0.6075 - val_loss: 1.3653 - val_accuracy: 0.5250\n",
            "Epoch 5/100\n",
            "352/352 - 26s - loss: 0.9567 - accuracy: 0.6582 - val_loss: 1.3692 - val_accuracy: 0.5372\n",
            "Epoch 6/100\n",
            "352/352 - 26s - loss: 0.7992 - accuracy: 0.7160 - val_loss: 1.4285 - val_accuracy: 0.5418\n",
            "Epoch 7/100\n",
            "352/352 - 29s - loss: 0.6482 - accuracy: 0.7699 - val_loss: 1.5314 - val_accuracy: 0.5432\n",
            "Epoch 8/100\n",
            "352/352 - 30s - loss: 0.4888 - accuracy: 0.8277 - val_loss: 1.6690 - val_accuracy: 0.5448\n",
            "Epoch 9/100\n",
            "352/352 - 26s - loss: 0.3513 - accuracy: 0.8790 - val_loss: 1.8108 - val_accuracy: 0.5474\n",
            "Epoch 10/100\n",
            "352/352 - 28s - loss: 0.2451 - accuracy: 0.9178 - val_loss: 2.0095 - val_accuracy: 0.5436\n",
            "Epoch 11/100\n",
            "352/352 - 30s - loss: 0.1585 - accuracy: 0.9491 - val_loss: 2.1687 - val_accuracy: 0.5468\n",
            "Epoch 12/100\n",
            "352/352 - 27s - loss: 0.0995 - accuracy: 0.9694 - val_loss: 2.3853 - val_accuracy: 0.5556\n",
            "Epoch 13/100\n",
            "352/352 - 27s - loss: 0.0582 - accuracy: 0.9837 - val_loss: 2.5524 - val_accuracy: 0.5602\n",
            "Epoch 14/100\n",
            "352/352 - 30s - loss: 0.0333 - accuracy: 0.9920 - val_loss: 2.7381 - val_accuracy: 0.5518\n",
            "Epoch 15/100\n",
            "352/352 - 28s - loss: 0.0205 - accuracy: 0.9958 - val_loss: 2.9167 - val_accuracy: 0.5586\n",
            "Epoch 16/100\n",
            "352/352 - 32s - loss: 0.0112 - accuracy: 0.9982 - val_loss: 3.0398 - val_accuracy: 0.5654\n",
            "Epoch 17/100\n",
            "352/352 - 30s - loss: 0.0068 - accuracy: 0.9990 - val_loss: 3.1492 - val_accuracy: 0.5668\n",
            "Epoch 18/100\n",
            "352/352 - 31s - loss: 0.0042 - accuracy: 0.9994 - val_loss: 3.2183 - val_accuracy: 0.5656\n",
            "Epoch 19/100\n",
            "352/352 - 28s - loss: 0.0032 - accuracy: 0.9995 - val_loss: 3.3160 - val_accuracy: 0.5630\n",
            "Epoch 20/100\n",
            "352/352 - 28s - loss: 0.0021 - accuracy: 0.9997 - val_loss: 3.3834 - val_accuracy: 0.5642\n",
            "Epoch 21/100\n",
            "352/352 - 28s - loss: 0.0016 - accuracy: 0.9998 - val_loss: 3.4367 - val_accuracy: 0.5660\n",
            "Epoch 22/100\n",
            "352/352 - 30s - loss: 0.0017 - accuracy: 0.9997 - val_loss: 3.4869 - val_accuracy: 0.5640\n",
            "Epoch 23/100\n",
            "352/352 - 27s - loss: 0.0017 - accuracy: 0.9997 - val_loss: 3.5404 - val_accuracy: 0.5658\n",
            "Epoch 24/100\n",
            "352/352 - 27s - loss: 0.0014 - accuracy: 0.9997 - val_loss: 3.5727 - val_accuracy: 0.5622\n"
          ],
          "name": "stdout"
        }
      ]
    },
    {
      "cell_type": "markdown",
      "metadata": {
        "id": "keVltDMHyQIJ"
      },
      "source": [
        "# Model produced a validation accuracy of 56.45%\n",
        "# Even though validation accuracy was improving, validation loss continued to deteriorate after a certain epoch, pointing to the fact that model started to overfit from their onwards. "
      ]
    },
    {
      "cell_type": "code",
      "metadata": {
        "id": "bsebNVKCfMgh",
        "outputId": "6855e322-e831-46b8-b498-eab86f71ac94"
      },
      "source": [
        "# Evaluate the model\n",
        "df = pd.DataFrame(hist1.history)\n",
        "plt.plot(df)\n",
        "plt.legend(df.columns)\n",
        "\n",
        "model = keras.models.load_model('my_cifar10.model-validation-accuracy56.54.h5')\n",
        "score = model.evaluate(x_test, y_test, verbose=2)\n",
        "print('\\n', 'Test accuracy:', score[1])"
      ],
      "execution_count": null,
      "outputs": [
        {
          "output_type": "stream",
          "text": [
            "313/313 - 3s - loss: 230.1946 - accuracy: 0.4732\n",
            "\n",
            " Test accuracy: 0.4731999933719635\n"
          ],
          "name": "stdout"
        },
        {
          "output_type": "display_data",
          "data": {
            "image/png": "[encoded data removed]",
            "text/plain": [
              "<Figure size 432x288 with 1 Axes>"
            ]
          },
          "metadata": {
            "tags": [],
            "needs_background": "light"
          }
        }
      ]
    },
    {
      "cell_type": "markdown",
      "metadata": {
        "id": "2OuLTTfiyQIL"
      },
      "source": [
        "# Model produced a Test accuracy of 47.3%"
      ]
    },
    {
      "cell_type": "code",
      "metadata": {
        "id": "moPuRkBryQIM"
      },
      "source": [
        "# class MyCallback(tf.keras.callbacks.Callback):\n",
        "#     def get_config(self):\n",
        "#         cfg = super().get_config()\n",
        "#         return cfg  \n",
        "#     def on_epoch_end(self, epoch, logs=None):\n",
        "#         self.model.save('model.h5')"
      ],
      "execution_count": null,
      "outputs": []
    },
    {
      "cell_type": "markdown",
      "metadata": {
        "id": "t9Sf5oZpyQIN"
      },
      "source": [
        "# MLP with total five layers(input,3 hidden layers and output), RelU activation function and callbacks (early stopping, ModelCheckpoint(save the best model) and Learning rate scheduler).\n",
        "# Also added BatchNormalization layer after each hidden layer with activation functions\n",
        "# Using ModelCheckPoint callback, I could only save weights as saving other parameters errored out (Seems that it needed me to override get_config during initialization to load the right weights again)"
      ]
    },
    {
      "cell_type": "code",
      "metadata": {
        "id": "AIKMtojnyQIN",
        "outputId": "a71cfa71-400e-45de-d9ac-f4af2509b131"
      },
      "source": [
        "# Include Batch Normalization \n",
        "# ModelCheckPoint only save the weights\n",
        "checkpoint_cb = keras.callbacks.ModelCheckpoint(\"my_cifar10.model_weights.h5\", save_best_only=True,monitor='val_accuracy', save_weights_only=True)\n",
        "earlystopping_cb = keras.callbacks.EarlyStopping (patience=20, restore_best_weights=True)\n",
        "\n",
        "input1 = keras.layers.Flatten(input_shape=[32,32,3])\n",
        "hidden1 = keras.layers.Dense(2048, activation='relu', name=\"Hidden1\")\n",
        "batch_normalization1 = tf.keras.layers.BatchNormalization()\n",
        "hidden2 = keras.layers.Dense(1024, activation='relu', name=\"Hidden2\")\n",
        "batch_normalization2 = tf.keras.layers.BatchNormalization()\n",
        "hidden3 = keras.layers.Dense(512, activation='relu', name=\"Hidden3\")\n",
        "batch_normalization3 = tf.keras.layers.BatchNormalization()\n",
        "output = keras.layers.Dense(10, activation='softmax', name=\"Output\")\n",
        "\n",
        "model1 = keras.models.Sequential([input1, hidden1,batch_normalization1 , hidden2,batch_normalization2, hidden3, batch_normalization3, output])\n",
        "\n",
        "model1.compile(loss='sparse_categorical_crossentropy', optimizer='Adam', metrics=['accuracy'])\n",
        "print(model1.optimizer.learning_rate)\n",
        "hist1 = model1.fit(x_train, y_train,epochs=100, batch_size=128, validation_data=(x_valid, y_valid), verbose=2, callbacks=[earlystopping_cb,checkpoint_cb, lrate2])\n",
        "\n",
        "df = pd.DataFrame(hist1.history)\n",
        "plt.plot(df)\n",
        "plt.legend(df.columns)\n",
        "\n",
        "model1.load_weights('my_cifar10.model_weights.h5')\n",
        "score = model.evaluate(x_test, y_test, verbose=2)\n",
        "print('\\n', 'Test accuracy:', score[1])\n"
      ],
      "execution_count": null,
      "outputs": [
        {
          "output_type": "stream",
          "text": [
            "<tf.Variable 'learning_rate:0' shape=() dtype=float32, numpy=0.001>\n",
            "Epoch 1/100\n",
            "352/352 - 31s - loss: 1.6957 - accuracy: 0.4069 - val_loss: 1.5615 - val_accuracy: 0.4650\n",
            "Epoch 2/100\n",
            "352/352 - 29s - loss: 1.3918 - accuracy: 0.5066 - val_loss: 1.4746 - val_accuracy: 0.4750\n",
            "Epoch 3/100\n",
            "352/352 - 29s - loss: 1.2360 - accuracy: 0.5657 - val_loss: 1.3922 - val_accuracy: 0.5122\n",
            "Epoch 4/100\n",
            "352/352 - 33s - loss: 1.0913 - accuracy: 0.6156 - val_loss: 1.3694 - val_accuracy: 0.5262\n",
            "Epoch 5/100\n",
            "352/352 - 31s - loss: 0.9437 - accuracy: 0.6667 - val_loss: 1.4050 - val_accuracy: 0.5358\n",
            "Epoch 6/100\n",
            "352/352 - 31s - loss: 0.7964 - accuracy: 0.7191 - val_loss: 1.3918 - val_accuracy: 0.5452\n",
            "Epoch 7/100\n",
            "352/352 - 30s - loss: 0.6390 - accuracy: 0.7756 - val_loss: 1.5651 - val_accuracy: 0.5272\n",
            "Epoch 8/100\n",
            "352/352 - 31s - loss: 0.4867 - accuracy: 0.8300 - val_loss: 1.5999 - val_accuracy: 0.5482\n",
            "Epoch 9/100\n",
            "352/352 - 29s - loss: 0.3454 - accuracy: 0.8836 - val_loss: 1.7695 - val_accuracy: 0.5552\n",
            "Epoch 10/100\n",
            "352/352 - 31s - loss: 0.2320 - accuracy: 0.9230 - val_loss: 1.9413 - val_accuracy: 0.5372\n",
            "Epoch 11/100\n",
            "352/352 - 30s - loss: 0.1556 - accuracy: 0.9511 - val_loss: 1.9679 - val_accuracy: 0.5540\n",
            "Epoch 12/100\n",
            "352/352 - 30s - loss: 0.1032 - accuracy: 0.9682 - val_loss: 2.0893 - val_accuracy: 0.5606\n",
            "Epoch 13/100\n",
            "352/352 - 29s - loss: 0.0646 - accuracy: 0.9824 - val_loss: 2.1573 - val_accuracy: 0.5628\n",
            "Epoch 14/100\n",
            "352/352 - 34s - loss: 0.0450 - accuracy: 0.9883 - val_loss: 2.2687 - val_accuracy: 0.5596\n",
            "Epoch 15/100\n",
            "352/352 - 41s - loss: 0.0317 - accuracy: 0.9925 - val_loss: 2.3423 - val_accuracy: 0.5668\n",
            "Epoch 16/100\n",
            "352/352 - 31s - loss: 0.0274 - accuracy: 0.9933 - val_loss: 2.4246 - val_accuracy: 0.5614\n",
            "Epoch 17/100\n",
            "352/352 - 35s - loss: 0.0183 - accuracy: 0.9959 - val_loss: 2.4019 - val_accuracy: 0.5672\n",
            "Epoch 18/100\n",
            "352/352 - 32s - loss: 0.0143 - accuracy: 0.9971 - val_loss: 2.4819 - val_accuracy: 0.5634\n",
            "Epoch 19/100\n",
            "352/352 - 32s - loss: 0.0088 - accuracy: 0.9986 - val_loss: 2.5108 - val_accuracy: 0.5706\n",
            "Epoch 20/100\n",
            "352/352 - 30s - loss: 0.0062 - accuracy: 0.9992 - val_loss: 2.5418 - val_accuracy: 0.5716\n",
            "Epoch 21/100\n",
            "352/352 - 30s - loss: 0.0045 - accuracy: 0.9995 - val_loss: 2.5710 - val_accuracy: 0.5726\n",
            "Epoch 22/100\n",
            "352/352 - 30s - loss: 0.0030 - accuracy: 0.9996 - val_loss: 2.5969 - val_accuracy: 0.5742\n",
            "Epoch 23/100\n",
            "352/352 - 30s - loss: 0.0026 - accuracy: 0.9998 - val_loss: 2.6329 - val_accuracy: 0.5706\n",
            "Epoch 24/100\n",
            "352/352 - 36s - loss: 0.0023 - accuracy: 0.9998 - val_loss: 2.6657 - val_accuracy: 0.5710\n",
            "313/313 - 5s - loss: 2.4613 - accuracy: 0.4027\n",
            "\n",
            " Test accuracy: 0.4027000069618225\n"
          ],
          "name": "stdout"
        }
      ]
    },
    {
      "cell_type": "markdown",
      "metadata": {
        "id": "2am3XDkZyQIP"
      },
      "source": [
        "# Adding Batch normalization in first two hidden layers improved the validation accuracy to 58.3%"
      ]
    },
    {
      "cell_type": "markdown",
      "metadata": {
        "id": "NYO3jleSyQIQ"
      },
      "source": [
        "# MLP with total five layers(input,3 hidden layers and output), hyperbolic tangent (tanh) activation function and callbacks (early stopping, ModelCheckpoint(save the best model) and Learning rate scheduler)."
      ]
    },
    {
      "cell_type": "code",
      "metadata": {
        "id": "YEI_hBvVyQIQ",
        "outputId": "5e0b7e31-356e-4fc6-982b-112d59296deb"
      },
      "source": [
        "# Using Tanh activation function\n",
        "checkpoint_cb = keras.callbacks.ModelCheckpoint (\"my_cifar10.model.h5\" , save_best_only=True,monitor='val_accuracy')\n",
        "earlystopping_cb = keras.callbacks.EarlyStopping (patience=20, restore_best_weights=True)\n",
        "\n",
        "input1 = keras.layers.Flatten(input_shape=[32,32,3])\n",
        "hidden1 = keras.layers.Dense(2048, activation='tanh', name=\"Hidden1\")\n",
        "hidden2 = keras.layers.Dense(1024, activation='tanh', name=\"Hidden2\")\n",
        "hidden3 = keras.layers.Dense(512, activation='tanh', name=\"Hidden3\")\n",
        "output = keras.layers.Dense(10, activation='softmax', name=\"Output\")\n",
        "\n",
        "model1 = keras.models.Sequential([input1, hidden1, hidden2, hidden3, output])\n",
        "\n",
        "model1.compile(loss='sparse_categorical_crossentropy', optimizer='Adam', metrics=['accuracy'])\n",
        "print(model1.optimizer.learning_rate)\n",
        "hist1 = model1.fit(x_train, y_train,epochs=100, batch_size=128, validation_data=(x_valid, y_valid), verbose=2, callbacks=[earlystopping_cb, checkpoint_cb, lrate2])\n",
        "\n",
        "df = pd.DataFrame(hist1.history)\n",
        "plt.plot(df)\n",
        "plt.legend(df.columns)\n",
        "\n",
        "model = keras.models.load_model('my_cifar10.model.h5')\n",
        "score = model.evaluate(x_test, y_test, verbose=2)\n",
        "print('\\n', 'Test accuracy:', score[1])\n"
      ],
      "execution_count": null,
      "outputs": [
        {
          "output_type": "stream",
          "text": [
            "<tf.Variable 'learning_rate:0' shape=() dtype=float32, numpy=0.001>\n",
            "Epoch 1/100\n",
            "352/352 - 30s - loss: 1.9047 - accuracy: 0.3483 - val_loss: 1.7624 - val_accuracy: 0.3910\n",
            "Epoch 2/100\n",
            "352/352 - 27s - loss: 1.6736 - accuracy: 0.4242 - val_loss: 1.6726 - val_accuracy: 0.4220\n",
            "Epoch 3/100\n",
            "352/352 - 29s - loss: 1.5760 - accuracy: 0.4571 - val_loss: 1.5984 - val_accuracy: 0.4512\n",
            "Epoch 4/100\n",
            "352/352 - 31s - loss: 1.4614 - accuracy: 0.4979 - val_loss: 1.5814 - val_accuracy: 0.4550\n",
            "Epoch 5/100\n",
            "352/352 - 29s - loss: 1.3604 - accuracy: 0.5317 - val_loss: 1.5588 - val_accuracy: 0.4678\n",
            "Epoch 6/100\n",
            "352/352 - 29s - loss: 1.2482 - accuracy: 0.5719 - val_loss: 1.5682 - val_accuracy: 0.4644\n",
            "Epoch 7/100\n",
            "352/352 - 28s - loss: 1.1227 - accuracy: 0.6167 - val_loss: 1.5843 - val_accuracy: 0.4716\n",
            "Epoch 8/100\n",
            "352/352 - 27s - loss: 0.9803 - accuracy: 0.6702 - val_loss: 1.6200 - val_accuracy: 0.4764\n",
            "Epoch 9/100\n",
            "352/352 - 27s - loss: 0.8234 - accuracy: 0.7261 - val_loss: 1.6456 - val_accuracy: 0.4874\n",
            "Epoch 10/100\n",
            "352/352 - 32s - loss: 0.6489 - accuracy: 0.7896 - val_loss: 1.7435 - val_accuracy: 0.4734\n",
            "Epoch 11/100\n",
            "352/352 - 28s - loss: 0.4812 - accuracy: 0.8491 - val_loss: 1.8658 - val_accuracy: 0.4684\n",
            "Epoch 12/100\n",
            "352/352 - 28s - loss: 0.3320 - accuracy: 0.9015 - val_loss: 2.0377 - val_accuracy: 0.4706\n",
            "Epoch 13/100\n",
            "352/352 - 27s - loss: 0.2140 - accuracy: 0.9417 - val_loss: 2.1955 - val_accuracy: 0.4706\n",
            "Epoch 14/100\n",
            "352/352 - 29s - loss: 0.1277 - accuracy: 0.9704 - val_loss: 2.3535 - val_accuracy: 0.4730\n",
            "Epoch 15/100\n",
            "352/352 - 27s - loss: 0.0716 - accuracy: 0.9863 - val_loss: 2.5198 - val_accuracy: 0.4756\n",
            "Epoch 16/100\n",
            "352/352 - 27s - loss: 0.0351 - accuracy: 0.9952 - val_loss: 2.6527 - val_accuracy: 0.4756\n",
            "Epoch 17/100\n",
            "352/352 - 28s - loss: 0.0174 - accuracy: 0.9981 - val_loss: 2.7758 - val_accuracy: 0.4736\n",
            "Epoch 18/100\n",
            "352/352 - 27s - loss: 0.0085 - accuracy: 0.9998 - val_loss: 2.8671 - val_accuracy: 0.4736\n",
            "Epoch 19/100\n",
            "352/352 - 30s - loss: 0.0040 - accuracy: 1.0000 - val_loss: 2.9290 - val_accuracy: 0.4728\n",
            "Epoch 20/100\n",
            "352/352 - 26s - loss: 0.0028 - accuracy: 1.0000 - val_loss: 2.9869 - val_accuracy: 0.4738\n",
            "Epoch 21/100\n",
            "352/352 - 28s - loss: 0.0023 - accuracy: 1.0000 - val_loss: 3.0344 - val_accuracy: 0.4746\n",
            "Epoch 22/100\n",
            "352/352 - 31s - loss: 0.0019 - accuracy: 1.0000 - val_loss: 3.0810 - val_accuracy: 0.4726\n",
            "Epoch 23/100\n",
            "352/352 - 32s - loss: 0.0016 - accuracy: 1.0000 - val_loss: 3.1230 - val_accuracy: 0.4736\n",
            "Epoch 24/100\n",
            "352/352 - 32s - loss: 0.0014 - accuracy: 1.0000 - val_loss: 3.1649 - val_accuracy: 0.4724\n",
            "Epoch 25/100\n",
            "352/352 - 32s - loss: 0.0012 - accuracy: 1.0000 - val_loss: 3.2031 - val_accuracy: 0.4724\n",
            "313/313 - 5s - loss: 1.9950 - accuracy: 0.4190\n",
            "\n",
            " Test accuracy: 0.4189999997615814\n"
          ],
          "name": "stdout"
        }
      ]
    },
    {
      "cell_type": "markdown",
      "metadata": {
        "id": "ivSZmuEOyQIS"
      },
      "source": [
        "## Using hyperbolic tangent function did not improve the validation accuracy which was capped at 48.74, even though training accuracy easily reached to optimal 1."
      ]
    },
    {
      "cell_type": "markdown",
      "metadata": {
        "id": "gd91vsJkyQIT"
      },
      "source": [
        "# MLP with total five layers(input,3 hidden layers and output), Sigmoid activation function and callbacks (early stopping, ModelCheckpoint(save the best model) and Learning rate scheduler)."
      ]
    },
    {
      "cell_type": "code",
      "metadata": {
        "id": "gRv2GCiGyQIT",
        "outputId": "4fc37f47-5af0-4d8a-e09d-3da704c261b7"
      },
      "source": [
        "# Using sigmoid activation function\n",
        "checkpoint_cb = keras.callbacks.ModelCheckpoint (\"my_cifar10.model.h5\" , save_best_only=True,monitor='val_accuracy')\n",
        "earlystopping_cb = keras.callbacks.EarlyStopping (patience=20, restore_best_weights=True)\n",
        "\n",
        "input1 = keras.layers.Flatten(input_shape=[32,32,3])\n",
        "hidden1 = keras.layers.Dense(2048, activation='sigmoid', name=\"Hidden1\")\n",
        "hidden2 = keras.layers.Dense(1024, activation='sigmoid', name=\"Hidden2\")\n",
        "hidden3 = keras.layers.Dense(512, activation='sigmoid', name=\"Hidden3\")\n",
        "output = keras.layers.Dense(10, activation='softmax', name=\"Output\")\n",
        "\n",
        "model1 = keras.models.Sequential([input1, hidden1, hidden2, hidden3, output])\n",
        "\n",
        "model1.compile(loss='sparse_categorical_crossentropy', optimizer='Adam', metrics=['accuracy'])\n",
        "print(model1.optimizer.learning_rate)\n",
        "hist1 = model1.fit(x_train, y_train,epochs=100, batch_size=128, validation_data=(x_valid, y_valid), verbose=2, callbacks=[earlystopping_cb, checkpoint_cb, lrate2])\n",
        "\n",
        "df = pd.DataFrame(hist1.history)\n",
        "plt.plot(df)\n",
        "plt.legend(df.columns)\n",
        "\n",
        "model = keras.models.load_model('my_cifar10.model.h5')\n",
        "score = model.evaluate(x_test, y_test, verbose=2)\n",
        "print('\\n', 'Test accuracy:', score[1])\n"
      ],
      "execution_count": null,
      "outputs": [
        {
          "output_type": "stream",
          "text": [
            "<tf.Variable 'learning_rate:0' shape=() dtype=float32, numpy=0.001>\n",
            "Epoch 1/100\n",
            "352/352 - 32s - loss: 1.7353 - accuracy: 0.3781 - val_loss: 1.5619 - val_accuracy: 0.4468\n",
            "Epoch 2/100\n",
            "352/352 - 28s - loss: 1.4750 - accuracy: 0.4766 - val_loss: 1.4713 - val_accuracy: 0.4818\n",
            "Epoch 3/100\n",
            "352/352 - 29s - loss: 1.3332 - accuracy: 0.5301 - val_loss: 1.4100 - val_accuracy: 0.5016\n",
            "Epoch 4/100\n",
            "352/352 - 34s - loss: 1.2004 - accuracy: 0.5773 - val_loss: 1.4183 - val_accuracy: 0.5032\n",
            "Epoch 5/100\n",
            "352/352 - 31s - loss: 1.0583 - accuracy: 0.6254 - val_loss: 1.4078 - val_accuracy: 0.5132\n",
            "Epoch 6/100\n",
            "352/352 - 31s - loss: 0.8875 - accuracy: 0.6906 - val_loss: 1.4363 - val_accuracy: 0.5258\n",
            "Epoch 7/100\n",
            "352/352 - 27s - loss: 0.7052 - accuracy: 0.7543 - val_loss: 1.6025 - val_accuracy: 0.5044\n",
            "Epoch 8/100\n",
            "352/352 - 29s - loss: 0.5362 - accuracy: 0.8171 - val_loss: 1.6412 - val_accuracy: 0.5286\n",
            "Epoch 9/100\n",
            "352/352 - 29s - loss: 0.3721 - accuracy: 0.8776 - val_loss: 1.8267 - val_accuracy: 0.5118\n",
            "Epoch 10/100\n",
            "352/352 - 28s - loss: 0.2474 - accuracy: 0.9235 - val_loss: 1.9257 - val_accuracy: 0.5070\n",
            "Epoch 11/100\n",
            "352/352 - 30s - loss: 0.1514 - accuracy: 0.9584 - val_loss: 2.1101 - val_accuracy: 0.5180\n",
            "Epoch 12/100\n",
            "352/352 - 29s - loss: 0.0850 - accuracy: 0.9827 - val_loss: 2.3074 - val_accuracy: 0.5064\n",
            "Epoch 13/100\n",
            "352/352 - 30s - loss: 0.0417 - accuracy: 0.9947 - val_loss: 2.4052 - val_accuracy: 0.5190\n",
            "Epoch 14/100\n",
            "352/352 - 35s - loss: 0.0205 - accuracy: 0.9987 - val_loss: 2.4819 - val_accuracy: 0.5108\n",
            "Epoch 15/100\n",
            "352/352 - 30s - loss: 0.0104 - accuracy: 0.9998 - val_loss: 2.5624 - val_accuracy: 0.5158\n",
            "Epoch 16/100\n",
            "352/352 - 28s - loss: 0.0064 - accuracy: 0.9999 - val_loss: 2.6276 - val_accuracy: 0.5128\n",
            "Epoch 17/100\n",
            "352/352 - 26s - loss: 0.0046 - accuracy: 1.0000 - val_loss: 2.6909 - val_accuracy: 0.5170\n",
            "Epoch 18/100\n",
            "352/352 - 26s - loss: 0.0036 - accuracy: 1.0000 - val_loss: 2.7328 - val_accuracy: 0.5172\n",
            "Epoch 19/100\n",
            "352/352 - 28s - loss: 0.0030 - accuracy: 1.0000 - val_loss: 2.7854 - val_accuracy: 0.5166\n",
            "Epoch 20/100\n",
            "352/352 - 28s - loss: 0.0025 - accuracy: 1.0000 - val_loss: 2.8254 - val_accuracy: 0.5162\n",
            "Epoch 21/100\n",
            "352/352 - 30s - loss: 0.0021 - accuracy: 1.0000 - val_loss: 2.8643 - val_accuracy: 0.5172\n",
            "Epoch 22/100\n",
            "352/352 - 29s - loss: 0.0018 - accuracy: 1.0000 - val_loss: 2.9029 - val_accuracy: 0.5180\n",
            "Epoch 23/100\n",
            "352/352 - 27s - loss: 0.0016 - accuracy: 1.0000 - val_loss: 2.9368 - val_accuracy: 0.5160\n",
            "Epoch 24/100\n",
            "352/352 - 26s - loss: 0.0013 - accuracy: 1.0000 - val_loss: 2.9757 - val_accuracy: 0.5162\n",
            "Epoch 25/100\n",
            "352/352 - 30s - loss: 0.0012 - accuracy: 1.0000 - val_loss: 3.0083 - val_accuracy: 0.5162\n",
            "313/313 - 6s - loss: 2.4613 - accuracy: 0.4027\n",
            "\n",
            " Test accuracy: 0.4027000069618225\n"
          ],
          "name": "stdout"
        }
      ]
    },
    {
      "cell_type": "markdown",
      "metadata": {
        "id": "z6q3GRxNyQIV"
      },
      "source": [
        "## Using Sigmoid function, did not improve the validation accuracy which was capped at around 53% mark, even though training accuracy easily reached to optimal 1."
      ]
    }
  ]
}