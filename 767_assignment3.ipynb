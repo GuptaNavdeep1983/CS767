{
  "nbformat": 4,
  "nbformat_minor": 0,
  "metadata": {
    "colab": {
      "name": "Untitled32.ipynb",
      "provenance": [],
      "authorship_tag": "ABX9TyNKqV4PuKvRdxgFa41/wjPr",
      "include_colab_link": true
    },
    "kernelspec": {
      "name": "python3",
      "display_name": "Python 3"
    },
    "language_info": {
      "name": "python"
    }
  },
  "cells": [
    {
      "cell_type": "markdown",
      "metadata": {
        "id": "view-in-github",
        "colab_type": "text"
      },
      "source": [
        "<a href=\"https://colab.research.google.com/github/GuptaNavdeep1983/CS767/blob/main/767_assignment3.ipynb\" target=\"_parent\"><img src=\"https://colab.research.google.com/assets/colab-badge.svg\" alt=\"Open In Colab\"/></a>"
      ]
    },
    {
      "cell_type": "code",
      "metadata": {
        "id": "niAs2D4dVasb"
      },
      "source": [
        "import pandas as pd\n",
        "import matplotlib.pyplot as plt\n",
        "import numpy as np\n",
        "import math\n",
        "import random\n",
        "from enum import Enum\n",
        "from sklearn.preprocessing import StandardScaler \n",
        "from sklearn.model_selection import train_test_split"
      ],
      "execution_count": 48,
      "outputs": []
    },
    {
      "cell_type": "code",
      "metadata": {
        "id": "ZabgPKeeVpbc"
      },
      "source": [
        "df = pd.read_csv(\"./Assignment_3_Hitters.csv\")\n",
        "df.rename( columns={'Unnamed: 0':'hitter_name'}, inplace=True )\n",
        "\n",
        "# convert categorical values using one hot encoding\n",
        "df = pd.get_dummies(df, columns=['League', 'Division', 'NewLeague'], prefix=[\"League_is\", \"Division_is\", \"NewLeague\"] )\n",
        "\n",
        "# separate training and test datasets\n",
        "X_train = df.loc[~df.isnull().any(axis=1), ~df.columns.isin(['Salary', 'hitter_name'])]\n",
        "y_train = df.loc[~df.isnull().any(axis=1), ['Salary']]\n",
        "X_test = df.loc[df.isnull().any(axis=1), ~df.columns.isin(['Salary', 'hitter_name'])]\n",
        "X_train.reset_index(drop=True, inplace=True)\n",
        "y_train.reset_index(drop=True, inplace=True)"
      ],
      "execution_count": 46,
      "outputs": []
    },
    {
      "cell_type": "code",
      "metadata": {
        "id": "hSAuDMtMWL58"
      },
      "source": [
        "## Standardization across features\n",
        "scaler_training = StandardScaler() \n",
        "scaler_training.fit(X_train)\n",
        "scaled_values_training = scaler_training.transform(X_train)\n",
        "scaled_values_testing = scaler_training.transform(X_test)\n",
        "\n",
        "X_train = pd.DataFrame(scaled_values_training, columns=[*X_train.columns.values])\n",
        "X_test = pd.DataFrame(scaled_values_testing, columns=[*X_test.columns.values])"
      ],
      "execution_count": 47,
      "outputs": []
    },
    {
      "cell_type": "code",
      "metadata": {
        "id": "Wb9ySv7QcjH8"
      },
      "source": [
        "number_of_features = len(X_train.columns.values)\n",
        "final_output = []"
      ],
      "execution_count": 3,
      "outputs": []
    },
    {
      "cell_type": "code",
      "metadata": {
        "id": "QKKJyutQYRtK"
      },
      "source": [
        "class Regularization(Enum):\n",
        "     L2 = 1\n",
        "     Lasso = 2\n",
        "     No_regularization = 3"
      ],
      "execution_count": 4,
      "outputs": []
    },
    {
      "cell_type": "code",
      "metadata": {
        "id": "GlyUXkZsZz3M"
      },
      "source": [
        "def predict(row, weights, bias):\n",
        "  output = bias\n",
        "  for index, weight in enumerate(weights):\n",
        "    output += weight * row[index]\n",
        "    # leaky ReLu\n",
        "  output = output if output > 0.0 else output * 0.05\n",
        "  # print(output)\n",
        "  return output\n",
        "\n",
        "# Lasso Regularizer\n",
        "def lasso_regularization(weights, lambda_val):\n",
        "  return sum([abs(weight) for weight in weights]) * lambda_val\n",
        "# L2 regularizer\n",
        "def l2_regularization(weights, lambda_val):\n",
        "  return sum([weight**2 for weight in weights]) * (lambda_val/2)\n",
        "\n",
        "# get regularizer component based on choice of regularizer and weights and lambda value \n",
        "def calculate_regularzation_component(regularization, weights, lambda_val):\n",
        "  if regularization == Regularization.L2:\n",
        "    return l2_regularization(weights, lambda_val)\n",
        "  elif regularization == Regularization.Lasso:\n",
        "    return lasso_regularization(weights, lambda_val)\n",
        "  else:\n",
        "    return 0\n",
        "\n",
        "# initialize weights using He initialization\n",
        "def initialize_weights():\n",
        "  return [random.uniform(-2,2)* math.sqrt(2/number_of_features) for i in range(number_of_features)]\n",
        "# train model\n",
        "def train_model(X_train, y_train, num_epochs, learning_rate, lambda_val, regularization_component, alpha_val=0.9, batch_size=12):\n",
        "  # weights for all the features \n",
        "  weights = initialize_weights()\n",
        "  bias = 0\n",
        "  epoch = 0\n",
        "  plot_values = []\n",
        "  while epoch < num_epochs:\n",
        "    mse = 0.0\n",
        "    total_gradient = [0 for _ in range(number_of_features)]\n",
        "    mini_batch = X_train.sample(n = batch_size, random_state=42)\n",
        "    regularization = calculate_regularzation_component(regularization_component, weights, lambda_val)\n",
        "    for rowIndex, row in mini_batch.iterrows():\n",
        "      # print(row)\n",
        "      # Predict\n",
        "      predicted_value = predict(row, weights, bias)\n",
        "      # Calculate error\n",
        "      error = (y_train.loc[rowIndex,'Salary'] - predicted_value)\n",
        "      # Add regularizer\n",
        "      error_with_regularization = error + regularization\n",
        "      # sum up all errors\n",
        "      mse += error**2\n",
        "      # add up gradients\n",
        "      total_gradient = [gradient + (error_with_regularization * row[gradient_index]) for gradient_index, gradient in enumerate(total_gradient)] \n",
        "    mse_with_regularization = mse + regularization\n",
        "    # add momentum\n",
        "    total_gradient = [(alpha_val * gradient) + gradient for gradient in total_gradient] \n",
        "    #adjust weights and bias\n",
        "    bias = bias + learning_rate * (mse_with_regularization/mini_batch.shape[0])\n",
        "    weights = [weight + learning_rate * (total_gradient[weight_index]/mini_batch.shape[0]) for weight_index, weight in enumerate(weights)]\n",
        "\n",
        "    epoch = epoch + 1\n",
        "    plot_values.append((epoch, mse_with_regularization/mini_batch.shape[0]))\n",
        "    # print('>epoch=%d, lrate=%.3f, error=%.3f' % (epoch, learning_rate, mse_with_regularization/mini_batch.shape[0]))\n",
        "  df_plot_values = pd.DataFrame(plot_values, columns=['epoch', 'MSE'])\n",
        "\n",
        "  \n",
        "  return weights, bias, df_plot_values"
      ],
      "execution_count": 58,
      "outputs": []
    },
    {
      "cell_type": "markdown",
      "metadata": {
        "id": "28Gs-WI6ipi4"
      },
      "source": [
        "#Learning Rate\n",
        "\n",
        "To choose the learning rate, checked the graph of MSE vs epoch's and chooses the one with which the MSE is decreasing gradually.\n",
        "\n",
        "#Underfitting\n",
        "Choosing the number of iterations only based on training sets as the number of tuples is quite less and after certain iterations, the model tends to perform badly during training itself."
      ]
    },
    {
      "cell_type": "code",
      "metadata": {
        "colab": {
          "base_uri": "https://localhost:8080/",
          "height": 295
        },
        "id": "GRpZWCYqiDei",
        "outputId": "4d3447b0-792b-4942-c45f-73ab08a44530"
      },
      "source": [
        "final_output = []\n",
        "(weights, bias, df_plot_values) = train_model(X_train, y_train, num_epochs=500, learning_rate=0.00001, lambda_val=0.01, regularization_component=Regularization.No_regularization)\n",
        "plt.plot(df_plot_values['epoch'], df_plot_values['MSE'], marker='o', color='blue')\n",
        "plt.title(\"MSE against iteration with No regularization\")\n",
        "plt.xlabel(\"Iterations\")\n",
        "plt.ylabel(\"MSE with regularization\")\n",
        "plt.show()\n",
        "final_output.append((\"No_regularization\", *weights))\n"
      ],
      "execution_count": 65,
      "outputs": [
        {
          "output_type": "display_data",
          "data": {
            "image/png": "[encoded data removed]",
            "text/plain": [
              "<Figure size 432x288 with 1 Axes>"
            ]
          },
          "metadata": {
            "tags": [],
            "needs_background": "light"
          }
        }
      ]
    },
    {
      "cell_type": "code",
      "metadata": {
        "id": "hLssk9KQEs4i",
        "colab": {
          "base_uri": "https://localhost:8080/",
          "height": 573
        },
        "outputId": "7c3fc5d6-29bc-417e-f7dd-d8fc560e6479"
      },
      "source": [
        "(weights, bias, df_plot_values) = train_model(X_train, y_train, num_epochs=500, learning_rate=0.00001, lambda_val=0.01, regularization_component=Regularization.Lasso)\n",
        "plt.plot(df_plot_values['epoch'], df_plot_values['MSE'], marker='o', color='blue')\n",
        "plt.title(\"MSE against iteration with Lasso regularization (lambda 0.01)\")\n",
        "plt.xlabel(\"Iterations\")\n",
        "plt.ylabel(\"MSE with regularization\")\n",
        "plt.show()\n",
        "final_output.append((\"Lasso_regularization_with_lambda_0.01\", *weights))\n",
        "(weights, bias, df_plot_values) = train_model(X_train, y_train, num_epochs=500, learning_rate=0.00001, lambda_val=10, regularization_component=Regularization.Lasso)\n",
        "plt.plot(df_plot_values['epoch'], df_plot_values['MSE'], marker='o', color='blue')\n",
        "plt.title(\"MSE against iteration with Lasso regularization (lambda 10)\")\n",
        "plt.xlabel(\"Iterations\")\n",
        "plt.ylabel(\"MSE with regularization\")\n",
        "plt.show()\n",
        "final_output.append((\"Lasso_regularization_with_lambda_10\", *weights))"
      ],
      "execution_count": 66,
      "outputs": [
        {
          "output_type": "display_data",
          "data": {
            "image/png": "[encoded data removed]",
            "text/plain": [
              "<Figure size 432x288 with 1 Axes>"
            ]
          },
          "metadata": {
            "tags": [],
            "needs_background": "light"
          }
        },
        {
          "output_type": "display_data",
          "data": {
            "image/png": "[encoded data removed]",
            "text/plain": [
              "<Figure size 432x288 with 1 Axes>"
            ]
          },
          "metadata": {
            "tags": [],
            "needs_background": "light"
          }
        }
      ]
    },
    {
      "cell_type": "code",
      "metadata": {
        "colab": {
          "base_uri": "https://localhost:8080/",
          "height": 573
        },
        "id": "jyQzJn2_aSjB",
        "outputId": "b715ac0b-5119-46ae-9ff8-b6437c230c8f"
      },
      "source": [
        "(weights, bias, df_plot_values) = train_model(X_train, y_train, num_epochs=500, learning_rate=0.00001, lambda_val=0.01, regularization_component=Regularization.L2)\n",
        "plt.plot(df_plot_values['epoch'], df_plot_values['MSE'], marker='o', color='blue')\n",
        "plt.title(\"MSE against iteration with L2 regularization (lambda 0.01)\")\n",
        "plt.xlabel(\"Iterations\")\n",
        "plt.ylabel(\"MSE with regularization\")\n",
        "plt.show()\n",
        "final_output.append((\"L2_regularization_with_lambda_0.01\", *weights))\n",
        "(weights, bias, df_plot_values) = train_model(X_train, y_train, num_epochs=500, learning_rate=0.00001, lambda_val=10, regularization_component=Regularization.L2)\n",
        "plt.plot(df_plot_values['epoch'], df_plot_values['MSE'], marker='o', color='blue')\n",
        "plt.title(\"MSE against iteration with L2 regularization (lambda 10)\")\n",
        "plt.xlabel(\"Iterations\")\n",
        "plt.ylabel(\"MSE with regularization\")\n",
        "plt.show()\n",
        "final_output.append((\"L2_regularization_with_lambda_10\", *weights))"
      ],
      "execution_count": 67,
      "outputs": [
        {
          "output_type": "display_data",
          "data": {
            "image/png": "[encoded data removed]",
            "text/plain": [
              "<Figure size 432x288 with 1 Axes>"
            ]
          },
          "metadata": {
            "tags": [],
            "needs_background": "light"
          }
        },
        {
          "output_type": "display_data",
          "data": {
            "image/png": "[encoded data removed]",
            "text/plain": [
              "<Figure size 432x288 with 1 Axes>"
            ]
          },
          "metadata": {
            "tags": [],
            "needs_background": "light"
          }
        }
      ]
    },
    {
      "cell_type": "code",
      "metadata": {
        "colab": {
          "base_uri": "https://localhost:8080/",
          "height": 223
        },
        "id": "zfX4IcRzi1AU",
        "outputId": "a794123a-c861-401a-c32d-6e2a014c6eff"
      },
      "source": [
        "df_output = pd.DataFrame(final_output, columns=[\"Regularization\", *X_train.columns.values])\n",
        "df_output"
      ],
      "execution_count": 68,
      "outputs": [
        {
          "output_type": "execute_result",
          "data": {
            "text/html": [
              "<div>\n",
              "<style scoped>\n",
              "    .dataframe tbody tr th:only-of-type {\n",
              "        vertical-align: middle;\n",
              "    }\n",
              "\n",
              "    .dataframe tbody tr th {\n",
              "        vertical-align: top;\n",
              "    }\n",
              "\n",
              "    .dataframe thead th {\n",
              "        text-align: right;\n",
              "    }\n",
              "</style>\n",
              "<table border=\"1\" class=\"dataframe\">\n",
              "  <thead>\n",
              "    <tr style=\"text-align: right;\">\n",
              "      <th></th>\n",
              "      <th>Regularization</th>\n",
              "      <th>AtBat</th>\n",
              "      <th>Hits</th>\n",
              "      <th>HmRun</th>\n",
              "      <th>Runs</th>\n",
              "      <th>RBI</th>\n",
              "      <th>Walks</th>\n",
              "      <th>Years</th>\n",
              "      <th>CAtBat</th>\n",
              "      <th>CHits</th>\n",
              "      <th>CHmRun</th>\n",
              "      <th>CRuns</th>\n",
              "      <th>CRBI</th>\n",
              "      <th>CWalks</th>\n",
              "      <th>PutOuts</th>\n",
              "      <th>Assists</th>\n",
              "      <th>Errors</th>\n",
              "      <th>League_is_A</th>\n",
              "      <th>League_is_N</th>\n",
              "      <th>Division_is_E</th>\n",
              "      <th>Division_is_W</th>\n",
              "      <th>NewLeague_A</th>\n",
              "      <th>NewLeague_N</th>\n",
              "    </tr>\n",
              "  </thead>\n",
              "  <tbody>\n",
              "    <tr>\n",
              "      <th>0</th>\n",
              "      <td>No_regularization</td>\n",
              "      <td>1.206164</td>\n",
              "      <td>1.031589</td>\n",
              "      <td>-0.119755</td>\n",
              "      <td>0.771448</td>\n",
              "      <td>-0.362365</td>\n",
              "      <td>1.377355</td>\n",
              "      <td>1.130248</td>\n",
              "      <td>2.323742</td>\n",
              "      <td>2.404887</td>\n",
              "      <td>0.198199</td>\n",
              "      <td>2.018635</td>\n",
              "      <td>1.339131</td>\n",
              "      <td>2.554870</td>\n",
              "      <td>-0.339266</td>\n",
              "      <td>1.119083</td>\n",
              "      <td>1.133966</td>\n",
              "      <td>0.520935</td>\n",
              "      <td>-0.864326</td>\n",
              "      <td>0.076695</td>\n",
              "      <td>0.026676</td>\n",
              "      <td>1.176670</td>\n",
              "      <td>-0.516724</td>\n",
              "    </tr>\n",
              "    <tr>\n",
              "      <th>1</th>\n",
              "      <td>Lasso_regularization_with_lambda_0.01</td>\n",
              "      <td>1.382004</td>\n",
              "      <td>1.136750</td>\n",
              "      <td>-0.558125</td>\n",
              "      <td>0.717494</td>\n",
              "      <td>-0.097004</td>\n",
              "      <td>1.864929</td>\n",
              "      <td>1.359754</td>\n",
              "      <td>1.865528</td>\n",
              "      <td>1.657708</td>\n",
              "      <td>0.055919</td>\n",
              "      <td>1.469097</td>\n",
              "      <td>1.737444</td>\n",
              "      <td>1.965772</td>\n",
              "      <td>-0.090932</td>\n",
              "      <td>1.573912</td>\n",
              "      <td>0.272494</td>\n",
              "      <td>0.476034</td>\n",
              "      <td>-1.088589</td>\n",
              "      <td>0.295165</td>\n",
              "      <td>-0.939447</td>\n",
              "      <td>0.465145</td>\n",
              "      <td>-0.856476</td>\n",
              "    </tr>\n",
              "    <tr>\n",
              "      <th>2</th>\n",
              "      <td>Lasso_regularization_with_lambda_10</td>\n",
              "      <td>1.018132</td>\n",
              "      <td>1.693237</td>\n",
              "      <td>-1.310983</td>\n",
              "      <td>1.682161</td>\n",
              "      <td>-0.582744</td>\n",
              "      <td>2.125554</td>\n",
              "      <td>2.947941</td>\n",
              "      <td>2.332862</td>\n",
              "      <td>2.953806</td>\n",
              "      <td>0.650313</td>\n",
              "      <td>3.074723</td>\n",
              "      <td>1.712756</td>\n",
              "      <td>3.633299</td>\n",
              "      <td>-1.004872</td>\n",
              "      <td>2.713710</td>\n",
              "      <td>2.115898</td>\n",
              "      <td>0.400002</td>\n",
              "      <td>-0.765376</td>\n",
              "      <td>0.554393</td>\n",
              "      <td>-0.253244</td>\n",
              "      <td>-0.011593</td>\n",
              "      <td>-0.647849</td>\n",
              "    </tr>\n",
              "    <tr>\n",
              "      <th>3</th>\n",
              "      <td>L2_regularization_with_lambda_0.01</td>\n",
              "      <td>0.751725</td>\n",
              "      <td>0.677719</td>\n",
              "      <td>0.180059</td>\n",
              "      <td>0.836216</td>\n",
              "      <td>0.262317</td>\n",
              "      <td>0.883236</td>\n",
              "      <td>1.914273</td>\n",
              "      <td>2.422632</td>\n",
              "      <td>2.074238</td>\n",
              "      <td>0.420411</td>\n",
              "      <td>2.284378</td>\n",
              "      <td>1.274716</td>\n",
              "      <td>1.664010</td>\n",
              "      <td>-0.476801</td>\n",
              "      <td>1.792214</td>\n",
              "      <td>0.419808</td>\n",
              "      <td>0.583531</td>\n",
              "      <td>-0.699431</td>\n",
              "      <td>0.263050</td>\n",
              "      <td>-0.291318</td>\n",
              "      <td>1.056012</td>\n",
              "      <td>-0.792781</td>\n",
              "    </tr>\n",
              "    <tr>\n",
              "      <th>4</th>\n",
              "      <td>L2_regularization_with_lambda_10</td>\n",
              "      <td>1.111403</td>\n",
              "      <td>1.409277</td>\n",
              "      <td>-1.056194</td>\n",
              "      <td>0.803016</td>\n",
              "      <td>-0.479526</td>\n",
              "      <td>1.282227</td>\n",
              "      <td>1.619555</td>\n",
              "      <td>1.947684</td>\n",
              "      <td>1.617038</td>\n",
              "      <td>-0.354100</td>\n",
              "      <td>2.297158</td>\n",
              "      <td>0.799769</td>\n",
              "      <td>2.367771</td>\n",
              "      <td>-0.587678</td>\n",
              "      <td>1.546880</td>\n",
              "      <td>1.162255</td>\n",
              "      <td>0.861196</td>\n",
              "      <td>-0.240097</td>\n",
              "      <td>0.693194</td>\n",
              "      <td>-0.028975</td>\n",
              "      <td>0.354662</td>\n",
              "      <td>-0.904008</td>\n",
              "    </tr>\n",
              "  </tbody>\n",
              "</table>\n",
              "</div>"
            ],
            "text/plain": [
              "                          Regularization     AtBat  ...  NewLeague_A  NewLeague_N\n",
              "0                      No_regularization  1.206164  ...     1.176670    -0.516724\n",
              "1  Lasso_regularization_with_lambda_0.01  1.382004  ...     0.465145    -0.856476\n",
              "2    Lasso_regularization_with_lambda_10  1.018132  ...    -0.011593    -0.647849\n",
              "3     L2_regularization_with_lambda_0.01  0.751725  ...     1.056012    -0.792781\n",
              "4       L2_regularization_with_lambda_10  1.111403  ...     0.354662    -0.904008\n",
              "\n",
              "[5 rows x 23 columns]"
            ]
          },
          "metadata": {
            "tags": []
          },
          "execution_count": 68
        }
      ]
    },
    {
      "cell_type": "markdown",
      "metadata": {
        "id": "GNRNSlM9ZiSY"
      },
      "source": [
        "#Observations\n",
        "With Lasso regularization, the features which are contributing less towards the prediction, are drifting towards 0.\n",
        "With L2 regularization and lambda value smaller, the correlated features are equally faired, but with higher lambda value, the correlated features are drifted away from each other."
      ]
    }
  ]
}