{
  "nbformat": 4,
  "nbformat_minor": 0,
  "metadata": {
    "colab": {
      "name": "Untitled32.ipynb",
      "provenance": [],
      "authorship_tag": "ABX9TyMpIY0nbrSPYS+008Mq4xTk",
      "include_colab_link": true
    },
    "kernelspec": {
      "name": "python3",
      "display_name": "Python 3"
    },
    "language_info": {
      "name": "python"
    }
  },
  "cells": [
    {
      "cell_type": "markdown",
      "metadata": {
        "id": "view-in-github",
        "colab_type": "text"
      },
      "source": [
        "<a href=\"https://colab.research.google.com/github/GuptaNavdeep1983/CS767/blob/main/767_assignment2.ipynb\" target=\"_parent\"><img src=\"https://colab.research.google.com/assets/colab-badge.svg\" alt=\"Open In Colab\"/></a>"
      ]
    },
    {
      "cell_type": "code",
      "metadata": {
        "id": "niAs2D4dVasb"
      },
      "source": [
        "import pandas as pd\n",
        "import matplotlib.pyplot as plt\n",
        "import numpy as np\n",
        "import math\n",
        "import random\n"
      ],
      "execution_count": 16,
      "outputs": []
    },
    {
      "cell_type": "code",
      "metadata": {
        "id": "ZabgPKeeVpbc"
      },
      "source": [
        "df = pd.read_csv(\"./Assignment_3_Hitters.csv\")\n",
        "df.rename( columns={'Unnamed: 0':'hitter_name'}, inplace=True )\n",
        "\n",
        "# convert categorical values using one hot encoding\n",
        "df = pd.get_dummies(df, columns=['League', 'Division', 'NewLeague'], prefix=[\"League_is\", \"Division_is\", \"NewLeague\"] )\n",
        "\n",
        "X_train = df.loc[~df.isnull().any(axis=1), ~df.columns.isin(['Salary', 'hitter_name'])]\n",
        "y_train = df.loc[~df.isnull().any(axis=1), ['Salary']]\n",
        "X_test = df.loc[df.isnull().any(axis=1), ~df.columns.isin(['Salary', 'hitter_name'])]\n"
      ],
      "execution_count": 17,
      "outputs": []
    },
    {
      "cell_type": "code",
      "metadata": {
        "id": "Wb9ySv7QcjH8"
      },
      "source": [
        "number_of_features = len(X_train.columns.values)\n",
        "final_output = []"
      ],
      "execution_count": 18,
      "outputs": []
    },
    {
      "cell_type": "code",
      "metadata": {
        "id": "QKKJyutQYRtK"
      },
      "source": [
        "from enum import Enum\n",
        "class Regularization(Enum):\n",
        "     L2 = 1\n",
        "     Lasso = 2\n",
        "     No_regularization = 3"
      ],
      "execution_count": 19,
      "outputs": []
    },
    {
      "cell_type": "code",
      "metadata": {
        "id": "GlyUXkZsZz3M"
      },
      "source": [
        "def predict(row, weights, bias):\n",
        "  output = bias\n",
        "  for index, weight in enumerate(weights):\n",
        "    output += weight * row[index]\n",
        "    # leaky ReLu\n",
        "  return output if output > 0.0 else output * 0.05\n",
        "\n",
        "# Lasso Regularizer\n",
        "def lasso_regularization(weights, lambda_val):\n",
        "  return sum([abs(weight) for weight in weights]) * lambda_val\n",
        "# L2 regularizer\n",
        "def l2_regularization(weights, lambda_val):\n",
        "  return sum([weight**2 for weight in weights]) * (lambda_val/2)\n",
        "\n",
        "# get regularizer component based on choice of regularizer and weights and lambda value \n",
        "def calculate_regularzation_component(regularization, weights, lambda_val):\n",
        "  if regularization == Regularization.L2:\n",
        "    return l2_regularization(weights, lambda_val)\n",
        "  elif regularization == Regularization.Lasso:\n",
        "    return lasso_regularization(weights, lambda_val)\n",
        "  else:\n",
        "    return 0\n",
        "\n",
        "# initialize weights using He initialization\n",
        "def initialize_weights():\n",
        "  return [random.uniform(-2,2)* math.sqrt(2/number_of_features) for i in range(number_of_features)]\n",
        "# train model\n",
        "def train_model(X_train, y_train, num_epochs, learning_rate, lambda_val, regularization_component, alpha_val=0.9, batch_size=12):\n",
        "  # weights for all the features \n",
        "  weights = initialize_weights()\n",
        "  bias = 0\n",
        "  epoch = 0\n",
        "  plot_values = []\n",
        "  while epoch < num_epochs:\n",
        "    mse = 0.0\n",
        "    total_gradient = [0 for _ in range(number_of_features)]\n",
        "    mini_batch = X_train.sample(n = batch_size, random_state=42)\n",
        "    regularization = calculate_regularzation_component(regularization_component, weights, lambda_val)\n",
        "    for rowIndex, row in mini_batch.iterrows():\n",
        "      # Predict\n",
        "      predicted_value = predict(row, weights, bias)\n",
        "      # Calculate error\n",
        "      error = (y_train.loc[rowIndex,'Salary'] - predicted_value)\n",
        "      # Add regularizer\n",
        "      error_with_regularization = error + regularization\n",
        "      # sum up all errors\n",
        "      mse += error**2\n",
        "      # add up gradients\n",
        "      total_gradient = [gradient + (error_with_regularization * row[gradient_index]) for gradient_index, gradient in enumerate(total_gradient)] \n",
        "    mse_with_regularization = mse + regularization\n",
        "    # add momentum\n",
        "    total_gradient = [(alpha_val * gradient) + gradient for gradient in total_gradient] \n",
        "    #adjust weights and bias\n",
        "    bias = bias + learning_rate * (mse_with_regularization/mini_batch.shape[0])\n",
        "    weights = [weight + learning_rate * (total_gradient[weight_index]/mini_batch.shape[0]) for weight_index, weight in enumerate(weights)]\n",
        "\n",
        "    epoch = epoch + 1\n",
        "    plot_values.append((epoch, mse_with_regularization/mini_batch.shape[0]))\n",
        "    # print('>epoch=%d, lrate=%.3f, error=%.3f' % (epoch, learning_rate, mse_with_regularization/mini_batch.shape[0]))\n",
        "  df_plot_values = pd.DataFrame(plot_values, columns=['epoch', 'MSE'])\n",
        "\n",
        "  \n",
        "  return weights, bias, df_plot_values"
      ],
      "execution_count": 20,
      "outputs": []
    },
    {
      "cell_type": "markdown",
      "metadata": {
        "id": "28Gs-WI6ipi4"
      },
      "source": [
        "#Learning Rate\n",
        "\n",
        "To choose the learning rate, checked the graph of MSE for each iteration and chooses the one with which the MSE is decreasing gradually"
      ]
    },
    {
      "cell_type": "code",
      "metadata": {
        "colab": {
          "base_uri": "https://localhost:8080/",
          "height": 295
        },
        "id": "GRpZWCYqiDei",
        "outputId": "2d391998-88c0-4f00-c0a6-99698b3d28b0"
      },
      "source": [
        "(weights, bias, df_plot_values) = train_model(X_train, y_train, num_epochs=2000, learning_rate=0.00000001, lambda_val=0.01, regularization_component=Regularization.No_regularization)\n",
        "plt.plot(df_plot_values['epoch'], df_plot_values['MSE'], marker='o', color='blue')\n",
        "plt.title(\"MSE against iteration with No regularization\")\n",
        "plt.xlabel(\"Iterations\")\n",
        "plt.ylabel(\"MSE with regularization\")\n",
        "plt.show()\n",
        "final_output.append((\"No_regularization\", *weights))"
      ],
      "execution_count": 21,
      "outputs": [
        {
          "output_type": "display_data",
          "data": {
            "image/png": "[encoded data removed]",
            "text/plain": [
              "<Figure size 432x288 with 1 Axes>"
            ]
          },
          "metadata": {
            "tags": [],
            "needs_background": "light"
          }
        }
      ]
    },
    {
      "cell_type": "code",
      "metadata": {
        "id": "hLssk9KQEs4i",
        "colab": {
          "base_uri": "https://localhost:8080/",
          "height": 573
        },
        "outputId": "2dd9dc3d-471c-421e-d143-e93c6e16d7ba"
      },
      "source": [
        "(weights, bias, df_plot_values) = train_model(X_train, y_train, num_epochs=2000, learning_rate=0.00000001, lambda_val=0.01, regularization_component=Regularization.Lasso)\n",
        "plt.plot(df_plot_values['epoch'], df_plot_values['MSE'], marker='o', color='blue')\n",
        "plt.title(\"MSE against iteration with Lasso regularization (lambda 0.01)\")\n",
        "plt.xlabel(\"Iterations\")\n",
        "plt.ylabel(\"MSE with regularization\")\n",
        "plt.show()\n",
        "final_output.append((\"Lasso_regularization_with_lambda_0.01\", *weights))\n",
        "(weights, bias, df_plot_values) = train_model(X_train, y_train, num_epochs=2000, learning_rate=0.00000001, lambda_val=10, regularization_component=Regularization.Lasso)\n",
        "plt.plot(df_plot_values['epoch'], df_plot_values['MSE'], marker='o', color='blue')\n",
        "plt.title(\"MSE against iteration with Lasso regularization (lambda 10)\")\n",
        "plt.xlabel(\"Iterations\")\n",
        "plt.ylabel(\"MSE with regularization\")\n",
        "plt.show()\n",
        "final_output.append((\"Lasso_regularization_with_lambda_10\", *weights))"
      ],
      "execution_count": 22,
      "outputs": [
        {
          "output_type": "display_data",
          "data": {
            "image/png": "[encoded data removed]",
            "text/plain": [
              "<Figure size 432x288 with 1 Axes>"
            ]
          },
          "metadata": {
            "tags": [],
            "needs_background": "light"
          }
        },
        {
          "output_type": "display_data",
          "data": {
            "image/png": "[encoded data removed]",
            "text/plain": [
              "<Figure size 432x288 with 1 Axes>"
            ]
          },
          "metadata": {
            "tags": [],
            "needs_background": "light"
          }
        }
      ]
    },
    {
      "cell_type": "code",
      "metadata": {
        "colab": {
          "base_uri": "https://localhost:8080/",
          "height": 573
        },
        "id": "jyQzJn2_aSjB",
        "outputId": "5b72bdc2-130a-46c7-96a7-885221f2e801"
      },
      "source": [
        "(weights, bias, df_plot_values) = train_model(X_train, y_train, num_epochs=2000, learning_rate=0.00000001, lambda_val=0.01, regularization_component=Regularization.L2)\n",
        "plt.plot(df_plot_values['epoch'], df_plot_values['MSE'], marker='o', color='blue')\n",
        "plt.title(\"MSE against iteration with L2 regularization (lambda 0.01)\")\n",
        "plt.xlabel(\"Iterations\")\n",
        "plt.ylabel(\"MSE with regularization\")\n",
        "plt.show()\n",
        "final_output.append((\"L2_regularization_with_lambda_0.01\", *weights))\n",
        "(weights, bias, df_plot_values) = train_model(X_train, y_train, num_epochs=2000, learning_rate=0.00000001, lambda_val=10, regularization_component=Regularization.L2)\n",
        "plt.plot(df_plot_values['epoch'], df_plot_values['MSE'], marker='o', color='blue')\n",
        "plt.title(\"MSE against iteration with L2 regularization (lambda 10)\")\n",
        "plt.xlabel(\"Iterations\")\n",
        "plt.ylabel(\"MSE with regularization\")\n",
        "plt.show()\n",
        "final_output.append((\"L2_regularization_with_lambda_10\", *weights))"
      ],
      "execution_count": 23,
      "outputs": [
        {
          "output_type": "display_data",
          "data": {
            "image/png": "[encoded data removed]",
            "text/plain": [
              "<Figure size 432x288 with 1 Axes>"
            ]
          },
          "metadata": {
            "tags": [],
            "needs_background": "light"
          }
        },
        {
          "output_type": "display_data",
          "data": {
            "image/png": "[encoded data removed]",
            "text/plain": [
              "<Figure size 432x288 with 1 Axes>"
            ]
          },
          "metadata": {
            "tags": [],
            "needs_background": "light"
          }
        }
      ]
    },
    {
      "cell_type": "code",
      "metadata": {
        "colab": {
          "base_uri": "https://localhost:8080/",
          "height": 224
        },
        "id": "zfX4IcRzi1AU",
        "outputId": "75687c6d-13ef-49ca-d343-b87b8218e56b"
      },
      "source": [
        "df_output = pd.DataFrame(final_output, columns=[\"Regularization\", *X_train.columns.values])\n",
        "df_output"
      ],
      "execution_count": 24,
      "outputs": [
        {
          "output_type": "execute_result",
          "data": {
            "text/html": [
              "<div>\n",
              "<style scoped>\n",
              "    .dataframe tbody tr th:only-of-type {\n",
              "        vertical-align: middle;\n",
              "    }\n",
              "\n",
              "    .dataframe tbody tr th {\n",
              "        vertical-align: top;\n",
              "    }\n",
              "\n",
              "    .dataframe thead th {\n",
              "        text-align: right;\n",
              "    }\n",
              "</style>\n",
              "<table border=\"1\" class=\"dataframe\">\n",
              "  <thead>\n",
              "    <tr style=\"text-align: right;\">\n",
              "      <th></th>\n",
              "      <th>Regularization</th>\n",
              "      <th>AtBat</th>\n",
              "      <th>Hits</th>\n",
              "      <th>HmRun</th>\n",
              "      <th>Runs</th>\n",
              "      <th>RBI</th>\n",
              "      <th>Walks</th>\n",
              "      <th>Years</th>\n",
              "      <th>CAtBat</th>\n",
              "      <th>CHits</th>\n",
              "      <th>CHmRun</th>\n",
              "      <th>CRuns</th>\n",
              "      <th>CRBI</th>\n",
              "      <th>CWalks</th>\n",
              "      <th>PutOuts</th>\n",
              "      <th>Assists</th>\n",
              "      <th>Errors</th>\n",
              "      <th>League_is_A</th>\n",
              "      <th>League_is_N</th>\n",
              "      <th>Division_is_E</th>\n",
              "      <th>Division_is_W</th>\n",
              "      <th>NewLeague_A</th>\n",
              "      <th>NewLeague_N</th>\n",
              "    </tr>\n",
              "  </thead>\n",
              "  <tbody>\n",
              "    <tr>\n",
              "      <th>0</th>\n",
              "      <td>No_regularization</td>\n",
              "      <td>0.551991</td>\n",
              "      <td>-0.449282</td>\n",
              "      <td>-0.093335</td>\n",
              "      <td>-0.047301</td>\n",
              "      <td>0.290383</td>\n",
              "      <td>-0.515897</td>\n",
              "      <td>-0.129045</td>\n",
              "      <td>0.092401</td>\n",
              "      <td>0.151376</td>\n",
              "      <td>-0.351593</td>\n",
              "      <td>-0.195774</td>\n",
              "      <td>-0.355110</td>\n",
              "      <td>0.086098</td>\n",
              "      <td>0.141576</td>\n",
              "      <td>0.057182</td>\n",
              "      <td>-0.148651</td>\n",
              "      <td>-0.201783</td>\n",
              "      <td>0.597151</td>\n",
              "      <td>0.163052</td>\n",
              "      <td>0.074151</td>\n",
              "      <td>-0.343053</td>\n",
              "      <td>-0.345824</td>\n",
              "    </tr>\n",
              "    <tr>\n",
              "      <th>1</th>\n",
              "      <td>Lasso_regularization_with_lambda_0.01</td>\n",
              "      <td>-0.104252</td>\n",
              "      <td>-0.104136</td>\n",
              "      <td>0.258885</td>\n",
              "      <td>0.360895</td>\n",
              "      <td>-0.478853</td>\n",
              "      <td>-0.027769</td>\n",
              "      <td>0.498624</td>\n",
              "      <td>0.131253</td>\n",
              "      <td>0.105402</td>\n",
              "      <td>-0.003283</td>\n",
              "      <td>-0.256057</td>\n",
              "      <td>-0.371715</td>\n",
              "      <td>-0.007686</td>\n",
              "      <td>0.535865</td>\n",
              "      <td>0.472574</td>\n",
              "      <td>0.147116</td>\n",
              "      <td>-0.109381</td>\n",
              "      <td>-0.237824</td>\n",
              "      <td>-0.345627</td>\n",
              "      <td>-0.467526</td>\n",
              "      <td>0.439902</td>\n",
              "      <td>-0.230146</td>\n",
              "    </tr>\n",
              "    <tr>\n",
              "      <th>2</th>\n",
              "      <td>Lasso_regularization_with_lambda_10</td>\n",
              "      <td>0.432239</td>\n",
              "      <td>-0.524801</td>\n",
              "      <td>-0.492910</td>\n",
              "      <td>-0.106202</td>\n",
              "      <td>0.483225</td>\n",
              "      <td>-0.550877</td>\n",
              "      <td>-0.313738</td>\n",
              "      <td>0.085144</td>\n",
              "      <td>0.077749</td>\n",
              "      <td>-0.541676</td>\n",
              "      <td>0.019246</td>\n",
              "      <td>-0.386616</td>\n",
              "      <td>0.231946</td>\n",
              "      <td>0.408471</td>\n",
              "      <td>0.171083</td>\n",
              "      <td>0.456342</td>\n",
              "      <td>0.252517</td>\n",
              "      <td>-0.399830</td>\n",
              "      <td>-0.170783</td>\n",
              "      <td>-0.310773</td>\n",
              "      <td>-0.420183</td>\n",
              "      <td>0.382506</td>\n",
              "    </tr>\n",
              "    <tr>\n",
              "      <th>3</th>\n",
              "      <td>L2_regularization_with_lambda_0.01</td>\n",
              "      <td>0.036080</td>\n",
              "      <td>0.317754</td>\n",
              "      <td>0.563415</td>\n",
              "      <td>0.218691</td>\n",
              "      <td>-0.082268</td>\n",
              "      <td>-0.441445</td>\n",
              "      <td>0.052109</td>\n",
              "      <td>0.194648</td>\n",
              "      <td>-0.180236</td>\n",
              "      <td>-0.704454</td>\n",
              "      <td>0.370659</td>\n",
              "      <td>-0.693328</td>\n",
              "      <td>-0.072138</td>\n",
              "      <td>-0.051628</td>\n",
              "      <td>0.362534</td>\n",
              "      <td>0.341840</td>\n",
              "      <td>0.319929</td>\n",
              "      <td>-0.224284</td>\n",
              "      <td>0.434958</td>\n",
              "      <td>-0.404128</td>\n",
              "      <td>-0.598555</td>\n",
              "      <td>-0.521214</td>\n",
              "    </tr>\n",
              "    <tr>\n",
              "      <th>4</th>\n",
              "      <td>L2_regularization_with_lambda_10</td>\n",
              "      <td>0.047325</td>\n",
              "      <td>0.096605</td>\n",
              "      <td>0.210080</td>\n",
              "      <td>0.195353</td>\n",
              "      <td>-0.113490</td>\n",
              "      <td>-0.304196</td>\n",
              "      <td>0.198121</td>\n",
              "      <td>0.212828</td>\n",
              "      <td>-0.092694</td>\n",
              "      <td>-0.349686</td>\n",
              "      <td>-0.080833</td>\n",
              "      <td>-0.620906</td>\n",
              "      <td>-0.084317</td>\n",
              "      <td>0.260053</td>\n",
              "      <td>0.294769</td>\n",
              "      <td>0.525751</td>\n",
              "      <td>-0.517864</td>\n",
              "      <td>0.548518</td>\n",
              "      <td>0.476746</td>\n",
              "      <td>0.311844</td>\n",
              "      <td>0.250535</td>\n",
              "      <td>-0.237942</td>\n",
              "    </tr>\n",
              "  </tbody>\n",
              "</table>\n",
              "</div>"
            ],
            "text/plain": [
              "                          Regularization     AtBat  ...  NewLeague_A  NewLeague_N\n",
              "0                      No_regularization  0.551991  ...    -0.343053    -0.345824\n",
              "1  Lasso_regularization_with_lambda_0.01 -0.104252  ...     0.439902    -0.230146\n",
              "2    Lasso_regularization_with_lambda_10  0.432239  ...    -0.420183     0.382506\n",
              "3     L2_regularization_with_lambda_0.01  0.036080  ...    -0.598555    -0.521214\n",
              "4       L2_regularization_with_lambda_10  0.047325  ...     0.250535    -0.237942\n",
              "\n",
              "[5 rows x 23 columns]"
            ]
          },
          "metadata": {
            "tags": []
          },
          "execution_count": 24
        }
      ]
    }
  ]
}
