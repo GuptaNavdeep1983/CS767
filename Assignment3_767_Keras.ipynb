{
  "nbformat": 4,
  "nbformat_minor": 0,
  "metadata": {
    "colab": {
      "name": "Assignment3_767_Keras.ipynb",
      "provenance": [],
      "authorship_tag": "ABX9TyMTwAPbcRUXkIEyqH3DlHAm",
      "include_colab_link": true
    },
    "kernelspec": {
      "name": "python3",
      "display_name": "Python 3"
    },
    "language_info": {
      "name": "python"
    }
  },
  "cells": [
    {
      "cell_type": "markdown",
      "metadata": {
        "id": "view-in-github",
        "colab_type": "text"
      },
      "source": [
        "<a href=\"https://colab.research.google.com/github/GuptaNavdeep1983/CS767/blob/main/Assignment3_767_Keras.ipynb\" target=\"_parent\"><img src=\"https://colab.research.google.com/assets/colab-badge.svg\" alt=\"Open In Colab\"/></a>"
      ]
    },
    {
      "cell_type": "code",
      "metadata": {
        "id": "NP6AsmkMjTnI"
      },
      "source": [
        "from keras.models import Sequential\n",
        "from keras.optimizers import Adam, SGD\n",
        "from keras.layers import Dense\n",
        "from keras.activations import relu\n",
        "import pandas as pd\n",
        "import matplotlib.pyplot as plt\n",
        "import numpy as np\n",
        "import math\n",
        "import random\n",
        "from keras import backend as K\n",
        "from keras.regularizers import l2"
      ],
      "execution_count": 56,
      "outputs": []
    },
    {
      "cell_type": "code",
      "metadata": {
        "id": "GMvll8Klkjje"
      },
      "source": [
        "df = pd.read_csv(\"./Assignment_3_Hitters.csv\")\n",
        "df.rename( columns={'Unnamed: 0':'hitter_name'}, inplace=True )\n",
        "\n",
        "df = pd.get_dummies(df, columns=['League', 'Division', 'NewLeague'], prefix=[\"League_is\", \"Division_is\", \"NewLeague\"] )\n",
        "\n",
        "X_train = df.loc[~df.isnull().any(axis=1), ~df.columns.isin(['Salary', 'hitter_name'])]\n",
        "y_train = df.loc[~df.isnull().any(axis=1), ['Salary']]\n",
        "X_test = df.loc[df.isnull().any(axis=1), ~df.columns.isin(['Salary', 'hitter_name'])]\n"
      ],
      "execution_count": 4,
      "outputs": []
    },
    {
      "cell_type": "code",
      "metadata": {
        "id": "VRt-Jwpiklyq"
      },
      "source": [
        "number_of_features = len(X_train.columns.values)\n",
        "final_output = []"
      ],
      "execution_count": 5,
      "outputs": []
    },
    {
      "cell_type": "code",
      "metadata": {
        "colab": {
          "base_uri": "https://localhost:8080/",
          "height": 265
        },
        "id": "OgO-WHlVjd2B",
        "outputId": "a7edecb7-66a7-4189-f261-47297dccf85b"
      },
      "source": [
        "model = Sequential([\n",
        "                    # Dense(30, input_dim=22, activation='relu'),\n",
        "                    Dense(1, input_dim=22, activation='relu', kernel_regularizer=l2(0.05), bias_regularizer=l2(0.05))\n",
        "])\n",
        "model.compile(loss='mse', optimizer='Adam', metrics=['mse'])\n",
        "K.set_value(model.optimizer.learning_rate, 0.001)\n",
        "hist = model.fit(X_train, y_train, epochs=500, batch_size=10, verbose=0)\n",
        "trained_weight = model.get_weights()[0]\n",
        "trained_bias = model.get_weights()[1]\n",
        "\n",
        "plt.plot(hist.history['loss'], marker='o', color='b')\n",
        "plt.show()"
      ],
      "execution_count": 64,
      "outputs": [
        {
          "output_type": "display_data",
          "data": {
            "image/png": "[encoded data removed]",
            "text/plain": [
              "<Figure size 432x288 with 1 Axes>"
            ]
          },
          "metadata": {
            "tags": [],
            "needs_background": "light"
          }
        }
      ]
    },
    {
      "cell_type": "code",
      "metadata": {
        "id": "LeZgfeE5oYnj"
      },
      "source": [
        "trained_weight = trained_weight.transpose()\n"
      ],
      "execution_count": 45,
      "outputs": []
    },
    {
      "cell_type": "code",
      "metadata": {
        "colab": {
          "base_uri": "https://localhost:8080/",
          "height": 100
        },
        "id": "FLQbu1r6nq4T",
        "outputId": "e23edbea-8b7e-48df-d156-995b8bef49ce"
      },
      "source": [
        "pd.DataFrame(trained_weight, columns=[*X_train.columns.values])"
      ],
      "execution_count": 46,
      "outputs": [
        {
          "output_type": "execute_result",
          "data": {
            "text/html": [
              "<div>\n",
              "<style scoped>\n",
              "    .dataframe tbody tr th:only-of-type {\n",
              "        vertical-align: middle;\n",
              "    }\n",
              "\n",
              "    .dataframe tbody tr th {\n",
              "        vertical-align: top;\n",
              "    }\n",
              "\n",
              "    .dataframe thead th {\n",
              "        text-align: right;\n",
              "    }\n",
              "</style>\n",
              "<table border=\"1\" class=\"dataframe\">\n",
              "  <thead>\n",
              "    <tr style=\"text-align: right;\">\n",
              "      <th></th>\n",
              "      <th>AtBat</th>\n",
              "      <th>Hits</th>\n",
              "      <th>HmRun</th>\n",
              "      <th>Runs</th>\n",
              "      <th>RBI</th>\n",
              "      <th>Walks</th>\n",
              "      <th>Years</th>\n",
              "      <th>CAtBat</th>\n",
              "      <th>CHits</th>\n",
              "      <th>CHmRun</th>\n",
              "      <th>CRuns</th>\n",
              "      <th>CRBI</th>\n",
              "      <th>CWalks</th>\n",
              "      <th>PutOuts</th>\n",
              "      <th>Assists</th>\n",
              "      <th>Errors</th>\n",
              "      <th>League_is_A</th>\n",
              "      <th>League_is_N</th>\n",
              "      <th>Division_is_E</th>\n",
              "      <th>Division_is_W</th>\n",
              "      <th>NewLeague_A</th>\n",
              "      <th>NewLeague_N</th>\n",
              "    </tr>\n",
              "  </thead>\n",
              "  <tbody>\n",
              "    <tr>\n",
              "      <th>0</th>\n",
              "      <td>-0.027659</td>\n",
              "      <td>1.116345</td>\n",
              "      <td>0.66712</td>\n",
              "      <td>0.834015</td>\n",
              "      <td>0.440291</td>\n",
              "      <td>0.611493</td>\n",
              "      <td>-0.062699</td>\n",
              "      <td>0.133956</td>\n",
              "      <td>-0.425182</td>\n",
              "      <td>0.295638</td>\n",
              "      <td>0.385982</td>\n",
              "      <td>0.334227</td>\n",
              "      <td>-0.308422</td>\n",
              "      <td>0.3104</td>\n",
              "      <td>0.04637</td>\n",
              "      <td>-0.522536</td>\n",
              "      <td>-0.43954</td>\n",
              "      <td>-0.080477</td>\n",
              "      <td>1.421864</td>\n",
              "      <td>-1.508916</td>\n",
              "      <td>0.087125</td>\n",
              "      <td>-0.05966</td>\n",
              "    </tr>\n",
              "  </tbody>\n",
              "</table>\n",
              "</div>"
            ],
            "text/plain": [
              "      AtBat      Hits    HmRun  ...  Division_is_W  NewLeague_A  NewLeague_N\n",
              "0 -0.027659  1.116345  0.66712  ...      -1.508916     0.087125     -0.05966\n",
              "\n",
              "[1 rows x 22 columns]"
            ]
          },
          "metadata": {
            "tags": []
          },
          "execution_count": 46
        }
      ]
    }
  ]
}