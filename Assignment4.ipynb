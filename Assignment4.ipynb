{
  "nbformat": 4,
  "nbformat_minor": 0,
  "metadata": {
    "colab": {
      "name": "Assignment4.ipynb",
      "provenance": [],
      "authorship_tag": "ABX9TyOSp4NFB6g9r/spxM162A+I",
      "include_colab_link": true
    },
    "kernelspec": {
      "name": "python3",
      "display_name": "Python 3"
    },
    "language_info": {
      "name": "python"
    }
  },
  "cells": [
    {
      "cell_type": "markdown",
      "metadata": {
        "id": "view-in-github",
        "colab_type": "text"
      },
      "source": [
        "<a href=\"https://colab.research.google.com/github/GuptaNavdeep1983/CS767/blob/main/Assignment4.ipynb\" target=\"_parent\"><img src=\"https://colab.research.google.com/assets/colab-badge.svg\" alt=\"Open In Colab\"/></a>"
      ]
    },
    {
      "cell_type": "code",
      "metadata": {
        "id": "0vkOKqUPFY0t"
      },
      "source": [
        "class Layer():\n",
        "  def __init__(self, name, units, input_dim):\n",
        "    self.name = name\n",
        "    self.w = [[random.uniform(-2,2) for _ in range(input_dim)] for _ in range(units)]\n",
        "    self.b = [0 for _ in range(units)]\n",
        "    self.output = [bias for bias in self.b]\n",
        "  def call(self, inputs):\n",
        "    self.output = [bias for bias in self.b]\n",
        "    for row_index, col in range(len(self.w)):\n",
        "      for col_index, weight in range(len(col)):\n",
        "        self.output[row_index] += weight * inputs[col_index]\n",
        "      self.output[row_index] = 1.0 if self.output[row_index] > 0.0 else 0.0\n",
        "    return self.output \n",
        "  def update_weights(expected_output, inputs):\n",
        "    for row_index, col in range(len(self.w)):\n",
        "      for col_index, weight in range(len(col)):\n",
        "        error = self.output[row_index] - expected_output\n",
        "        self.w[row_index][col_index] = self.w[row_index][col_index] - (error * inputs[row_index])\n",
        "    "
      ],
      "execution_count": 45,
      "outputs": []
    },
    {
      "cell_type": "code",
      "metadata": {
        "colab": {
          "base_uri": "https://localhost:8080/"
        },
        "id": "SLEqMj-uWIHC",
        "outputId": "4e98d168-f1dc-42f8-e2dd-c25d7d84ee0b"
      },
      "source": [
        "from pprint import pprint\n",
        "layer1 = Layer(\"Hidden1\", 3, 3)\n",
        "layer2 = Layer(\"Output\", 3, 3)\n",
        "\n",
        "layers = [layer1, layer2]\n",
        "pprint(vars(layer1))\n",
        "pprint(vars(layer2))"
      ],
      "execution_count": 47,
      "outputs": [
        {
          "output_type": "stream",
          "text": [
            "{'b': [0, 0, 0],\n",
            " 'name': 'Hidden1',\n",
            " 'output': [0, 0, 0],\n",
            " 'w': [[1.8640948969639464, -1.9070156691436115, 1.2860123652997104],\n",
            "       [0.49246780554550673, 0.5196057972898176, -1.3236709193863039],\n",
            "       [-1.699439722368345, -0.3972276167550248, 0.0798427851818877]]}\n",
            "{'b': [0, 0, 0],\n",
            " 'name': 'Output',\n",
            " 'output': [0, 0, 0],\n",
            " 'w': [[1.5038643176179538, -1.338909034954138, 0.06958006183710319],\n",
            "       [-0.14830082005529688, -0.359288338452326, 0.31937482819107554],\n",
            "       [0.7885429653733333, -0.2242564955695725, -0.9351073576933877]]}\n"
          ],
          "name": "stdout"
        }
      ]
    },
    {
      "cell_type": "code",
      "metadata": {
        "id": "dGA9egPRQ5gh"
      },
      "source": [
        "from sklearn.datasets import load_iris\n",
        "import matplotlib.pyplot as plt\n",
        "import pandas as pd\n",
        "pd.options.mode.chained_assignment = None\n",
        "import numpy as np"
      ],
      "execution_count": 4,
      "outputs": []
    },
    {
      "cell_type": "code",
      "metadata": {
        "id": "NHMYuFAERXRP"
      },
      "source": [
        "iris = load_iris()\n",
        "\n",
        "iris_columns = ['sepal_len', 'sepal_width', 'petal_length', 'petal_width', 'target']\n",
        "df = pd.DataFrame(data= np.c_[iris['data'], iris['target']],\n",
        "                     columns= iris_columns)"
      ],
      "execution_count": 5,
      "outputs": []
    },
    {
      "cell_type": "code",
      "metadata": {
        "id": "J359lR1SRnyu"
      },
      "source": [
        "from sklearn.model_selection import train_test_split\n",
        "X = df[['sepal_len', 'sepal_width', 'petal_length', 'petal_width']]\n",
        "y = df[['target']]\n",
        "X_train, X_test, y_train, y_test = train_test_split(X, y, \n",
        "                                                    test_size=0.2,\n",
        "                                                    random_state = 10)\n",
        "\n",
        "X_train.reset_index(level=0, inplace=True)\n",
        "y_train.reset_index(level=0, inplace=True)"
      ],
      "execution_count": 31,
      "outputs": []
    },
    {
      "cell_type": "code",
      "metadata": {
        "id": "kBdWTT0pSJU_"
      },
      "source": [
        "import random\n",
        "random.seed(34)\n",
        "selected_rows = random.sample(range(0,119),   5)"
      ],
      "execution_count": 35,
      "outputs": []
    },
    {
      "cell_type": "code",
      "metadata": {
        "colab": {
          "base_uri": "https://localhost:8080/",
          "height": 203
        },
        "id": "YmdWwns5U23f",
        "outputId": "06a70fad-f39a-4823-e035-83f09b5b9826"
      },
      "source": [
        "X_train.loc[selected_rows, :]"
      ],
      "execution_count": 36,
      "outputs": [
        {
          "output_type": "execute_result",
          "data": {
            "text/html": [
              "<div>\n",
              "<style scoped>\n",
              "    .dataframe tbody tr th:only-of-type {\n",
              "        vertical-align: middle;\n",
              "    }\n",
              "\n",
              "    .dataframe tbody tr th {\n",
              "        vertical-align: top;\n",
              "    }\n",
              "\n",
              "    .dataframe thead th {\n",
              "        text-align: right;\n",
              "    }\n",
              "</style>\n",
              "<table border=\"1\" class=\"dataframe\">\n",
              "  <thead>\n",
              "    <tr style=\"text-align: right;\">\n",
              "      <th></th>\n",
              "      <th>index</th>\n",
              "      <th>sepal_len</th>\n",
              "      <th>sepal_width</th>\n",
              "      <th>petal_length</th>\n",
              "      <th>petal_width</th>\n",
              "    </tr>\n",
              "  </thead>\n",
              "  <tbody>\n",
              "    <tr>\n",
              "      <th>67</th>\n",
              "      <td>80</td>\n",
              "      <td>5.5</td>\n",
              "      <td>2.4</td>\n",
              "      <td>3.8</td>\n",
              "      <td>1.1</td>\n",
              "    </tr>\n",
              "    <tr>\n",
              "      <th>45</th>\n",
              "      <td>133</td>\n",
              "      <td>6.3</td>\n",
              "      <td>2.8</td>\n",
              "      <td>5.1</td>\n",
              "      <td>1.5</td>\n",
              "    </tr>\n",
              "    <tr>\n",
              "      <th>74</th>\n",
              "      <td>11</td>\n",
              "      <td>4.8</td>\n",
              "      <td>3.4</td>\n",
              "      <td>1.6</td>\n",
              "      <td>0.2</td>\n",
              "    </tr>\n",
              "    <tr>\n",
              "      <th>3</th>\n",
              "      <td>114</td>\n",
              "      <td>5.8</td>\n",
              "      <td>2.8</td>\n",
              "      <td>5.1</td>\n",
              "      <td>2.4</td>\n",
              "    </tr>\n",
              "    <tr>\n",
              "      <th>107</th>\n",
              "      <td>16</td>\n",
              "      <td>5.4</td>\n",
              "      <td>3.9</td>\n",
              "      <td>1.3</td>\n",
              "      <td>0.4</td>\n",
              "    </tr>\n",
              "  </tbody>\n",
              "</table>\n",
              "</div>"
            ],
            "text/plain": [
              "     index  sepal_len  sepal_width  petal_length  petal_width\n",
              "67      80        5.5          2.4           3.8          1.1\n",
              "45     133        6.3          2.8           5.1          1.5\n",
              "74      11        4.8          3.4           1.6          0.2\n",
              "3      114        5.8          2.8           5.1          2.4\n",
              "107     16        5.4          3.9           1.3          0.4"
            ]
          },
          "metadata": {
            "tags": []
          },
          "execution_count": 36
        }
      ]
    },
    {
      "cell_type": "code",
      "metadata": {
        "colab": {
          "base_uri": "https://localhost:8080/"
        },
        "id": "IzwEWlmlRvLb",
        "outputId": "6a166742-e721-4ab1-b987-65c03c33ed16"
      },
      "source": [
        "def train_weights_using_mini_batch_gradient_descent(X_train, y_train, num_epochs, learning_rate, layers):\n",
        "  # weights for all the features \n",
        "  index = 0;\n",
        "  df_plot = []\n",
        "  while index < num_epochs:\n",
        "    mini_batch = X_train.loc[selected_rows, :]\n",
        "    y_train = y_train.loc[selected_rows, :]\n",
        "    for rowIndex, row in mini_batch.iterrows():\n",
        "      for layer in layers:\n",
        "        layer(row)\n",
        "    bias = bias + learning_rate * (mse/mini_batch.shape[0])\n",
        "    weights = [weight + learning_rate * (total_gradient[weight_index]/mini_batch.shape[0]) for weight_index, weight in enumerate(weights)]\n",
        "    print('>epoch=%d, lrate=%.3f, error=%.3f' % (index, learning_rate, mse/mini_batch.shape[0]))\n",
        "    df_plot.append({mse/mini_batch.shape[0], index})\n",
        "    index = index + 1\n",
        "  df_plot = pd.DataFrame(df_plot, columns=['mse', 'epoch'])\n",
        "  return weights, bias, df_plot\n",
        "\n",
        "\n",
        "print(\"Creating model using training data\")\n",
        "(weights_using_mini_batch_gradient_descent_train, bias_using_mini_batch_gradient_descent_train, df_plot_train) = \\\n",
        "  train_weights_using_mini_batch_gradient_descent(X_train, y_train, 10, 0.1, layers)\n",
        "print(weights_using_mini_batch_gradient_descent_train)"
      ],
      "execution_count": 37,
      "outputs": [
        {
          "output_type": "stream",
          "text": [
            "Creating model using training data\n",
            ">epoch=0, lrate=0.100, error=1.800\n",
            ">epoch=1, lrate=0.100, error=0.800\n",
            ">epoch=2, lrate=0.100, error=0.800\n",
            ">epoch=3, lrate=0.100, error=0.800\n",
            ">epoch=4, lrate=0.100, error=0.800\n",
            ">epoch=5, lrate=0.100, error=0.800\n",
            ">epoch=6, lrate=0.100, error=0.800\n",
            ">epoch=7, lrate=0.100, error=0.800\n",
            ">epoch=8, lrate=0.100, error=0.800\n",
            ">epoch=9, lrate=0.100, error=0.800\n",
            "[56.64002778469252, 1.0805608661440433, -0.006592187992660023, 2.0026005541560683]\n"
          ],
          "name": "stdout"
        }
      ]
    }
  ]
}