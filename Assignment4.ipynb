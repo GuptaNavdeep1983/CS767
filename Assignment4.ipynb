{
  "nbformat": 4,
  "nbformat_minor": 0,
  "metadata": {
    "colab": {
      "name": "Untitled34.ipynb",
      "provenance": [],
      "authorship_tag": "ABX9TyPxkIOI64J6fPb9SNtpnr/U",
      "include_colab_link": true
    },
    "kernelspec": {
      "name": "python3",
      "display_name": "Python 3"
    },
    "language_info": {
      "name": "python"
    }
  },
  "cells": [
    {
      "cell_type": "markdown",
      "metadata": {
        "id": "view-in-github",
        "colab_type": "text"
      },
      "source": [
        "<a href=\"https://colab.research.google.com/github/GuptaNavdeep1983/CS767/blob/main/Assignment4.ipynb\" target=\"_parent\"><img src=\"https://colab.research.google.com/assets/colab-badge.svg\" alt=\"Open In Colab\"/></a>"
      ]
    },
    {
      "cell_type": "code",
      "metadata": {
        "id": "8vQJmcamlg-B"
      },
      "source": [
        "from sklearn.datasets import load_iris\n",
        "import matplotlib.pyplot as plt\n",
        "import pandas as pd\n",
        "pd.options.mode.chained_assignment = None\n",
        "import numpy as np\n",
        "from sklearn.model_selection import train_test_split"
      ],
      "execution_count": 2,
      "outputs": []
    },
    {
      "cell_type": "code",
      "metadata": {
        "colab": {
          "base_uri": "https://localhost:8080/"
        },
        "id": "PGRx04hrlZQ0",
        "outputId": "62a5b19d-1136-445c-e94e-44b85bbbe65f"
      },
      "source": [
        "iris = load_iris()\n",
        "\n",
        "iris_columns = ['sepal_len', 'sepal_width', 'petal_length', 'petal_width', 'target']\n",
        "df = pd.DataFrame(data= np.c_[iris['data'], iris['target']],\n",
        "                     columns= iris_columns)\n",
        "\n",
        "df['target']"
      ],
      "execution_count": 3,
      "outputs": [
        {
          "output_type": "execute_result",
          "data": {
            "text/plain": [
              "0      0.0\n",
              "1      0.0\n",
              "2      0.0\n",
              "3      0.0\n",
              "4      0.0\n",
              "      ... \n",
              "145    2.0\n",
              "146    2.0\n",
              "147    2.0\n",
              "148    2.0\n",
              "149    2.0\n",
              "Name: target, Length: 150, dtype: float64"
            ]
          },
          "metadata": {
            "tags": []
          },
          "execution_count": 3
        }
      ]
    },
    {
      "cell_type": "code",
      "metadata": {
        "id": "bGkY9_VE4rRH"
      },
      "source": [
        "import random\n",
        "random.seed(68)\n",
        "samples = random.sample( range(0,149),   5)\n"
      ],
      "execution_count": 4,
      "outputs": []
    },
    {
      "cell_type": "code",
      "metadata": {
        "id": "owbtBRSYmFaP"
      },
      "source": [
        "X = df[['sepal_width','petal_length']]\n",
        "y = df[['target']]\n",
        "mini_batch = X.iloc[samples]"
      ],
      "execution_count": 5,
      "outputs": []
    },
    {
      "cell_type": "code",
      "metadata": {
        "colab": {
          "base_uri": "https://localhost:8080/"
        },
        "id": "Cy4e6noe5elW",
        "outputId": "83fd60bf-e966-4095-cf92-ce7c22e3abf3"
      },
      "source": [
        "def init(inp, out):\n",
        "  return np.random.randn(inp, out)/np.sqrt(inp)\n",
        "def create_architecture(input_layer, first_layer, output_layer, random_seed=0):\n",
        "  np.random.seed(random_seed)\n",
        "  layers = input_layer.shape[1]+1, first_layer, output_layer\n",
        "  arch = list(zip(layers[:-1], layers[1:]))\n",
        "  print(arch)\n",
        "  weights = [init(inp, out) for inp, out in arch]\n",
        "  return weights\n",
        "\n",
        "def sigmoid(z):\n",
        "  return 1/(1+np.exp(-z))\n",
        "\n",
        "def sigmoid_prime(s):\n",
        "  return s * (1-s)\n",
        "\n",
        "def feed_forward(X, weights):\n",
        "  a = X.copy()\n",
        "  out = list()\n",
        "  for W in weights:\n",
        "    z = np.dot(a, W)\n",
        "    a = sigmoid(z)\n",
        "    out.append(a)\n",
        "  return out\n",
        "\n",
        "def accuracy(true_label, predicted):\n",
        "  correct_preds = np.ravel(predicted)==true_label\n",
        "  return np.sum(correct_preds) / len(true_label)\n",
        "\n",
        "\n"
      ],
      "execution_count": 7,
      "outputs": [
        {
          "output_type": "stream",
          "text": [
            "[(3, 3), (3, 3)]\n"
          ],
          "name": "stdout"
        },
        {
          "output_type": "execute_result",
          "data": {
            "text/plain": [
              "[array([[-0.54529368,  0.1154375 , -0.88932346],\n",
              "        [ 0.48384364,  0.2279298 ,  0.10535749],\n",
              "        [ 0.23357223,  0.26647142,  0.02022641]]),\n",
              " array([[ 0.26501704,  0.35502519,  0.00564568],\n",
              "        [ 0.26578932,  0.80919394, -0.23599098],\n",
              "        [-0.24680807,  1.10943109,  0.17291256]])]"
            ]
          },
          "metadata": {
            "tags": []
          },
          "execution_count": 7
        }
      ]
    },
    {
      "cell_type": "code",
      "metadata": {
        "id": "bfcfUwfWp4Sa"
      },
      "source": [
        ""
      ],
      "execution_count": null,
      "outputs": []
    }
  ]
}