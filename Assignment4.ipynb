{
  "nbformat": 4,
  "nbformat_minor": 0,
  "metadata": {
    "colab": {
      "name": "Assignment4.ipynb",
      "provenance": [],
      "authorship_tag": "ABX9TyMhRqfKKcijWPEOgOvdEhP7",
      "include_colab_link": true
    },
    "kernelspec": {
      "name": "python3",
      "display_name": "Python 3"
    },
    "language_info": {
      "name": "python"
    }
  },
  "cells": [
    {
      "cell_type": "markdown",
      "metadata": {
        "id": "view-in-github",
        "colab_type": "text"
      },
      "source": [
        "<a href=\"https://colab.research.google.com/github/GuptaNavdeep1983/CS767/blob/main/Assignment4.ipynb\" target=\"_parent\"><img src=\"https://colab.research.google.com/assets/colab-badge.svg\" alt=\"Open In Colab\"/></a>"
      ]
    },
    {
      "cell_type": "code",
      "metadata": {
        "id": "DA3_HENeBQVT"
      },
      "source": [
        "import random\n",
        "from sklearn.datasets import load_iris\n",
        "import matplotlib.pyplot as plt\n",
        "import pandas as pd\n",
        "pd.options.mode.chained_assignment = None\n",
        "import numpy as np\n",
        "import math\n",
        "from sklearn import preprocessing\n",
        "from sklearn.metrics import log_loss"
      ],
      "execution_count": 126,
      "outputs": []
    },
    {
      "cell_type": "code",
      "metadata": {
        "id": "fWw7ta9INmAc"
      },
      "source": [
        "def softmax(x):\n",
        "    \"\"\"Compute softmax values for each sets of scores in x.\"\"\"\n",
        "    e_x = np.exp(x - np.max(x))\n",
        "    return e_x / e_x.sum(axis=0) # only difference\n",
        "def relu(x):\n",
        "  output = [0] * len(x)\n",
        "  for index, item in enumerate(x): \n",
        "    output[index] = item if item > 0.0 else 0.0 \n",
        "  return output"
      ],
      "execution_count": 99,
      "outputs": []
    },
    {
      "cell_type": "code",
      "metadata": {
        "id": "0vkOKqUPFY0t"
      },
      "source": [
        "class Layer():\n",
        "  def __init__(self, name, units, input_dim):\n",
        "    self.name = name\n",
        "    self.w = [[random.uniform(-2,2) for _ in range(input_dim)] for _ in range(units)]\n",
        "    self.b = [0 for _ in range(units)]\n",
        "    self.output = [bias for bias in self.b]\n",
        "  def calculate_output(self, inputs, activation=sigmoid):\n",
        "    self.output = [bias for bias in self.b]\n",
        "    for row_index, col in enumerate(self.w):\n",
        "      for col_index, weight in enumerate(col):\n",
        "        self.output[row_index] += weight * inputs[row_index]\n",
        "    self.output = activation(self.output)\n",
        "    return self.output \n",
        "  def update_weights(expected_output, inputs):\n",
        "    for row_index, col in enumerate(self.w):\n",
        "      for col_index, weight in enumerate(col):\n",
        "        error = self.output[row_index] - expected_output\n",
        "        self.w[row_index][col_index] = self.w[row_index][col_index] + (error * inputs[row_index])\n",
        "  def updated_output():\n",
        "    "
      ],
      "execution_count": 88,
      "outputs": []
    },
    {
      "cell_type": "code",
      "metadata": {
        "colab": {
          "base_uri": "https://localhost:8080/"
        },
        "id": "SLEqMj-uWIHC",
        "outputId": "64089796-0b65-4022-e4d8-03d34fe89688"
      },
      "source": [
        "from pprint import pprint\n",
        "layer1 = Layer(\"Hidden1\", 3, 4)\n",
        "layer2 = Layer(\"Output\", 3, 4)\n",
        "\n",
        "layers = [layer1, layer2]\n",
        "pprint(vars(layer1))\n",
        "pprint(vars(layer2))"
      ],
      "execution_count": 90,
      "outputs": [
        {
          "output_type": "stream",
          "text": [
            "{'b': [0, 0, 0],\n",
            " 'name': 'Hidden1',\n",
            " 'output': [0, 0, 0],\n",
            " 'w': [[0.6140459213378167,\n",
            "        1.7399374232390987,\n",
            "        -1.294715532982241,\n",
            "        1.6482569449220001],\n",
            "       [1.841374243124395,\n",
            "        0.6199576876564672,\n",
            "        -0.5753909466090628,\n",
            "        1.7836395890508445],\n",
            "       [-1.9803039422291273,\n",
            "        0.8399453984550393,\n",
            "        0.5307812997567027,\n",
            "        1.9957125405550808]]}\n",
            "{'b': [0, 0, 0],\n",
            " 'name': 'Output',\n",
            " 'output': [0, 0, 0],\n",
            " 'w': [[-0.7905731416947108,\n",
            "        1.3422972215976565,\n",
            "        -0.9933314901811352,\n",
            "        -1.1826429521724235],\n",
            "       [-1.2593110805814214,\n",
            "        -1.3948104520615114,\n",
            "        -1.1818415635510164,\n",
            "        -1.4210833753073047],\n",
            "       [1.0665465173631814,\n",
            "        -1.4367320120747324,\n",
            "        0.6044884402707349,\n",
            "        -0.7405204386511519]]}\n"
          ],
          "name": "stdout"
        }
      ]
    },
    {
      "cell_type": "code",
      "metadata": {
        "id": "NHMYuFAERXRP"
      },
      "source": [
        "iris = load_iris()\n",
        "\n",
        "iris_columns = ['sepal_len', 'sepal_width', 'petal_length', 'petal_width', 'target']\n",
        "df = pd.DataFrame(data= np.c_[iris['data'], iris['target']],\n",
        "                     columns= iris_columns)"
      ],
      "execution_count": 6,
      "outputs": []
    },
    {
      "cell_type": "code",
      "metadata": {
        "id": "J359lR1SRnyu"
      },
      "source": [
        "from sklearn.model_selection import train_test_split\n",
        "X = df[['sepal_len', 'sepal_width', 'petal_length', 'petal_width']]\n",
        "y = df[['target']]\n",
        "X_train, X_test, y_train, y_test = train_test_split(X, y, \n",
        "                                                    test_size=0.2,\n",
        "                                                    random_state = 10)\n",
        "\n",
        "\n",
        "X_train.reset_index(drop=True, inplace=True)\n",
        "y_train.reset_index(drop=True, inplace=True)"
      ],
      "execution_count": 117,
      "outputs": []
    },
    {
      "cell_type": "code",
      "metadata": {
        "id": "kBdWTT0pSJU_"
      },
      "source": [
        "import random\n",
        "random.seed(34)\n",
        "selected_rows = random.sample(range(0,119),   5)"
      ],
      "execution_count": 8,
      "outputs": []
    },
    {
      "cell_type": "code",
      "metadata": {
        "colab": {
          "base_uri": "https://localhost:8080/"
        },
        "id": "YmdWwns5U23f",
        "outputId": "10b8976e-0a85-45a9-bc5f-2b5538e5f8f0"
      },
      "source": [
        "lb = preprocessing.LabelBinarizer()\n",
        "lb.fit([0,1,2])\n",
        "lb.transform([0])\n"
      ],
      "execution_count": 121,
      "outputs": [
        {
          "output_type": "execute_result",
          "data": {
            "text/plain": [
              "array([[1, 0, 0]])"
            ]
          },
          "metadata": {
            "tags": []
          },
          "execution_count": 121
        }
      ]
    },
    {
      "cell_type": "code",
      "metadata": {
        "colab": {
          "base_uri": "https://localhost:8080/",
          "height": 205
        },
        "id": "PNifbPL-Bfk4",
        "outputId": "eaeab79b-d1af-460e-a9c6-3abce58c1cb2"
      },
      "source": [
        "X_train.loc[selected_rows, :]"
      ],
      "execution_count": 61,
      "outputs": [
        {
          "output_type": "execute_result",
          "data": {
            "text/html": [
              "<div>\n",
              "<style scoped>\n",
              "    .dataframe tbody tr th:only-of-type {\n",
              "        vertical-align: middle;\n",
              "    }\n",
              "\n",
              "    .dataframe tbody tr th {\n",
              "        vertical-align: top;\n",
              "    }\n",
              "\n",
              "    .dataframe thead th {\n",
              "        text-align: right;\n",
              "    }\n",
              "</style>\n",
              "<table border=\"1\" class=\"dataframe\">\n",
              "  <thead>\n",
              "    <tr style=\"text-align: right;\">\n",
              "      <th></th>\n",
              "      <th>sepal_len</th>\n",
              "      <th>sepal_width</th>\n",
              "      <th>petal_length</th>\n",
              "      <th>petal_width</th>\n",
              "    </tr>\n",
              "  </thead>\n",
              "  <tbody>\n",
              "    <tr>\n",
              "      <th>67</th>\n",
              "      <td>5.5</td>\n",
              "      <td>2.4</td>\n",
              "      <td>3.8</td>\n",
              "      <td>1.1</td>\n",
              "    </tr>\n",
              "    <tr>\n",
              "      <th>45</th>\n",
              "      <td>6.3</td>\n",
              "      <td>2.8</td>\n",
              "      <td>5.1</td>\n",
              "      <td>1.5</td>\n",
              "    </tr>\n",
              "    <tr>\n",
              "      <th>74</th>\n",
              "      <td>4.8</td>\n",
              "      <td>3.4</td>\n",
              "      <td>1.6</td>\n",
              "      <td>0.2</td>\n",
              "    </tr>\n",
              "    <tr>\n",
              "      <th>3</th>\n",
              "      <td>5.8</td>\n",
              "      <td>2.8</td>\n",
              "      <td>5.1</td>\n",
              "      <td>2.4</td>\n",
              "    </tr>\n",
              "    <tr>\n",
              "      <th>107</th>\n",
              "      <td>5.4</td>\n",
              "      <td>3.9</td>\n",
              "      <td>1.3</td>\n",
              "      <td>0.4</td>\n",
              "    </tr>\n",
              "  </tbody>\n",
              "</table>\n",
              "</div>"
            ],
            "text/plain": [
              "     sepal_len  sepal_width  petal_length  petal_width\n",
              "67         5.5          2.4           3.8          1.1\n",
              "45         6.3          2.8           5.1          1.5\n",
              "74         4.8          3.4           1.6          0.2\n",
              "3          5.8          2.8           5.1          2.4\n",
              "107        5.4          3.9           1.3          0.4"
            ]
          },
          "metadata": {
            "tags": []
          },
          "execution_count": 61
        }
      ]
    },
    {
      "cell_type": "code",
      "metadata": {
        "id": "NRmzSqyQUEeN"
      },
      "source": [
        "def categorical_cross_entropy(actual, predicted):\n",
        "\tsum_score = 0.0\n",
        "\tfor i in range(len(actual)):\n",
        "\t\t\tsum_score += actual[i] * math.log(1e-15 + predicted[i])\n",
        "\tmean_sum_score = (1.0 / len(actual)) * sum_score\n",
        "\treturn -mean_sum_score"
      ],
      "execution_count": 164,
      "outputs": []
    },
    {
      "cell_type": "code",
      "metadata": {
        "colab": {
          "base_uri": "https://localhost:8080/"
        },
        "id": "S8DSfWyFcLPy",
        "outputId": "efd90d38-ed25-4682-e0b3-81777b0983bd"
      },
      "source": [
        ""
      ],
      "execution_count": 148,
      "outputs": [
        {
          "output_type": "execute_result",
          "data": {
            "text/plain": [
              "1.0"
            ]
          },
          "metadata": {
            "tags": []
          },
          "execution_count": 148
        }
      ]
    },
    {
      "cell_type": "code",
      "metadata": {
        "colab": {
          "base_uri": "https://localhost:8080/"
        },
        "id": "IzwEWlmlRvLb",
        "outputId": "bdda4c19-d266-4560-fa74-f00bd28a9aaa"
      },
      "source": [
        "def train_weights_using_mini_batch_gradient_descent(X_train, y_train, num_epochs, learning_rate, layers):\n",
        "  # weights for all the features \n",
        "  index = 0;\n",
        "  df_plot = []\n",
        "  error = 0\n",
        "  mini_batch = X_train.loc[selected_rows, :]\n",
        "  y_train = y_train.loc[selected_rows, :]\n",
        "  while index < num_epochs:\n",
        "    for rowIndex, row in mini_batch.iterrows():\n",
        "      print(y_train.loc[rowIndex,'target'])\n",
        "      output = row\n",
        "      for layer_idx, layer in enumerate(layers):\n",
        "        if layer_idx == len(layers) - 1:\n",
        "          output = layer.calculate_output(output, softmax)\n",
        "        else:\n",
        "          output = layer.calculate_output(output, relu)\n",
        "      print(output)\n",
        "      # print(lb.transform([y_train.loc[rowIndex,'target']]))\n",
        "      print(categorical_cross_entropy(lb.transform([y_train.loc[rowIndex,'target']])[0], output))\n",
        "      error += log_loss([y_train.loc[rowIndex,'target']], [output], labels=[0.0, 1.0, 2.0])\n",
        "    average_error = error/mini_batch.shape[0]\n",
        "    # for layer_idx, layer in enumerate(layers):\n",
        "    #   layer.update_weights()\n",
        "    index = index + 1\n",
        "  # df_plot = pd.DataFrame(df_plot, columns=['mse', 'epoch'])\n",
        "  return\n",
        "\n",
        "\n",
        "print(\"Creating model using training data\")\n",
        "train_weights_using_mini_batch_gradient_descent(X_train, y_train, 1, 0.1, layers)"
      ],
      "execution_count": 165,
      "outputs": [
        {
          "output_type": "stream",
          "text": [
            "Creating model using training data\n",
            "1.0\n",
            "[4.50378481e-10 1.12383829e-19 1.00000000e+00]\n",
            "11.512888005798846\n",
            "2.0\n",
            "[3.32522210e-11 1.24636912e-22 1.00000000e+00]\n",
            "1.1083763536792906e-11\n",
            "0.0\n",
            "[2.08968348e-09 1.00516433e-28 9.99999998e-01]\n",
            "6.6620842499556305\n",
            "2.0\n",
            "[2.99756535e-10 1.24636912e-22 1.00000000e+00]\n",
            "9.9918480911571e-11\n",
            "0.0\n",
            "[1.20982181e-10 5.26980272e-33 1.00000000e+00]\n",
            "7.611789860511054\n"
          ],
          "name": "stdout"
        }
      ]
    }
  ]
}