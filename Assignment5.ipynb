{
  "nbformat": 4,
  "nbformat_minor": 0,
  "metadata": {
    "colab": {
      "name": "Assignment5.ipynb",
      "provenance": [],
      "authorship_tag": "ABX9TyOqve9c/nkZpVPb4crnHZdY",
      "include_colab_link": true
    },
    "kernelspec": {
      "name": "python3",
      "display_name": "Python 3"
    },
    "language_info": {
      "name": "python"
    }
  },
  "cells": [
    {
      "cell_type": "markdown",
      "metadata": {
        "id": "view-in-github",
        "colab_type": "text"
      },
      "source": [
        "<a href=\"https://colab.research.google.com/github/GuptaNavdeep1983/CS767/blob/main/Assignment5.ipynb\" target=\"_parent\"><img src=\"https://colab.research.google.com/assets/colab-badge.svg\" alt=\"Open In Colab\"/></a>"
      ]
    },
    {
      "cell_type": "markdown",
      "metadata": {
        "id": "0jUK0HHx3uDl"
      },
      "source": [
        "# Question 1)\n",
        "## Keras.io References/learnings\n",
        "\n",
        "* Keras Tuner (https://keras.io/keras_tuner/)\n",
        "Keras Tuner is an optimization framework that solves the pain of hyperparameter search.\n",
        "\n",
        "* Transfer learning & fine-tuning (https://keras.io/guides/transfer_learning/)\n",
        "Transfer learning consists of taking features learned on one problem, and leveraging them on a new, similar problem. \n",
        "\n",
        "* Making layers and models via subclassing (https://keras.io/guides/making_new_layers_and_models_via_subclassing/)\n",
        "Keras provides an option to inherit and customize the layers and create custom models\n",
        "\n",
        "* Dropout layer (https://keras.io/api/layers/regularization_layers/dropout/)\n",
        "The Dropout layer randomly sets input units to 0 with a frequency of rate at each step during training time, which helps prevent overfitting\n",
        "\n",
        "* ModelCheckpoint (https://keras.io/api/callbacks/model_checkpoint/)\n",
        "ModelCheckpoint callback is used in conjunction with training using model.fit() to save a model or weights (in a checkpoint file) at some interval, so the model or weights can be loaded later to continue the training from the state saved."
      ]
    },
    {
      "cell_type": "code",
      "metadata": {
        "id": "0n1n6v9XSCOv"
      },
      "source": [
        "import tensorflow as tf\n",
        "from tensorflow import keras\n",
        "import pandas as pd\n",
        "import matplotlib.pyplot as plt\n",
        "import numpy as np\n",
        "from sklearn import preprocessing\n"
      ],
      "execution_count": 2,
      "outputs": []
    },
    {
      "cell_type": "markdown",
      "metadata": {
        "id": "sCtFXCYy2qaz"
      },
      "source": [
        "# Question A)"
      ]
    },
    {
      "cell_type": "code",
      "metadata": {
        "id": "edqODL3aTrGn",
        "colab": {
          "base_uri": "https://localhost:8080/"
        },
        "outputId": "3b14112d-46be-4dab-e36e-3350de0a7b60"
      },
      "source": [
        "\n",
        "\n",
        "fashion_mnist = keras.datasets.fashion_mnist\n",
        "\n",
        "# Load dataset  \n",
        "(X_train_full, Y_train_full), (X_test, Y_test) = fashion_mnist.load_data()\n",
        "\n",
        "# Check shape of inputs\n",
        "X_train_full.shape"
      ],
      "execution_count": 3,
      "outputs": [
        {
          "output_type": "stream",
          "text": [
            "Downloading data from https://storage.googleapis.com/tensorflow/tf-keras-datasets/train-labels-idx1-ubyte.gz\n",
            "32768/29515 [=================================] - 0s 0us/step\n",
            "Downloading data from https://storage.googleapis.com/tensorflow/tf-keras-datasets/train-images-idx3-ubyte.gz\n",
            "26427392/26421880 [==============================] - 0s 0us/step\n",
            "Downloading data from https://storage.googleapis.com/tensorflow/tf-keras-datasets/t10k-labels-idx1-ubyte.gz\n",
            "8192/5148 [===============================================] - 0s 0us/step\n",
            "Downloading data from https://storage.googleapis.com/tensorflow/tf-keras-datasets/t10k-images-idx3-ubyte.gz\n",
            "4423680/4422102 [==============================] - 0s 0us/step\n"
          ],
          "name": "stdout"
        },
        {
          "output_type": "execute_result",
          "data": {
            "text/plain": [
              "(60000, 28, 28)"
            ]
          },
          "metadata": {
            "tags": []
          },
          "execution_count": 3
        }
      ]
    },
    {
      "cell_type": "markdown",
      "metadata": {
        "id": "zkgYqBcb2v3X"
      },
      "source": [
        "# Question B)"
      ]
    },
    {
      "cell_type": "code",
      "metadata": {
        "id": "UicvcOa2UOAb"
      },
      "source": [
        "# divide datasets into training and validation set\n",
        "X_valid, X_train = X_train_full[:6000] , X_train_full[6000:]\n",
        "Y_valid, Y_train = Y_train_full[:6000] , Y_train_full[6000:]"
      ],
      "execution_count": 4,
      "outputs": []
    },
    {
      "cell_type": "markdown",
      "metadata": {
        "id": "j_Uv9Uay2zum"
      },
      "source": [
        "# Question C) "
      ]
    },
    {
      "cell_type": "code",
      "metadata": {
        "id": "i3mFsqGisP2q"
      },
      "source": [
        "# min-max normalization\n",
        "min_max_scaler = preprocessing.MinMaxScaler()\n",
        "X_train_normalized = []\n",
        "X_valid_normalized = []\n",
        "X_test_normalized = []\n",
        "for image_idx, image in enumerate(X_train):\n",
        "  X_train_normalized.append(min_max_scaler.fit_transform(image))\n",
        "for image_idx, image in enumerate(X_valid):\n",
        "  X_valid_normalized.append(min_max_scaler.fit_transform(image))\n",
        "for image_idx, image in enumerate(X_test):\n",
        "  X_test_normalized.append(min_max_scaler.fit_transform(image))\n",
        "\n",
        "# convert to arrays\n",
        "X_train = np.array(X_train_normalized)\n",
        "X_valid = np.array(X_valid_normalized)\n",
        "X_test = np.array(X_test_normalized)"
      ],
      "execution_count": 5,
      "outputs": []
    },
    {
      "cell_type": "markdown",
      "metadata": {
        "id": "TWylSnrh27K3"
      },
      "source": [
        "# Question D, E)"
      ]
    },
    {
      "cell_type": "code",
      "metadata": {
        "id": "ghOsnZw3Ww8E",
        "colab": {
          "base_uri": "https://localhost:8080/"
        },
        "outputId": "294290d6-9428-4f5e-d870-0586ec534ab6"
      },
      "source": [
        "# create layers input, hidden and output respectively and create the model\n",
        "input1 = keras.layers.Flatten(input_shape=[28,28])\n",
        "hidden1 = keras.layers.Dense(100, activation='relu', name=\"Hidden1\")\n",
        "output = keras.layers.Dense(10, activation='softmax', name=\"Output\" )\n",
        "\n",
        "model1 = keras.models.Sequential([input1, hidden1, output])\n",
        "\n",
        "# compile the model with the loss, optimizer and metrics\n",
        "model1.compile(loss='sparse_categorical_crossentropy', optimizer='SGD', metrics=['accuracy'])\n",
        "\n",
        "# check model summary\n",
        "model1.summary()"
      ],
      "execution_count": 6,
      "outputs": [
        {
          "output_type": "stream",
          "text": [
            "Model: \"sequential\"\n",
            "_________________________________________________________________\n",
            "Layer (type)                 Output Shape              Param #   \n",
            "=================================================================\n",
            "flatten (Flatten)            (None, 784)               0         \n",
            "_________________________________________________________________\n",
            "Hidden1 (Dense)              (None, 100)               78500     \n",
            "_________________________________________________________________\n",
            "Output (Dense)               (None, 10)                1010      \n",
            "=================================================================\n",
            "Total params: 79,510\n",
            "Trainable params: 79,510\n",
            "Non-trainable params: 0\n",
            "_________________________________________________________________\n"
          ],
          "name": "stdout"
        }
      ]
    },
    {
      "cell_type": "code",
      "metadata": {
        "colab": {
          "base_uri": "https://localhost:8080/"
        },
        "id": "G5CtvinLX6mS",
        "outputId": "614920cf-27db-4b87-860e-381c0a336a06"
      },
      "source": [
        "# train the model\n",
        "# the batch size control the number of steps executed in each step in each epoch\n",
        "# for 54000 images, 1688 steps are executed to complete one pass through all the images with a batch size of 32\n",
        "hist1 = model1.fit(X_train, Y_train,epochs=20, batch_size=32, validation_data=(X_valid, Y_valid), verbose=2)"
      ],
      "execution_count": 7,
      "outputs": [
        {
          "output_type": "stream",
          "text": [
            "Epoch 1/20\n",
            "1688/1688 - 3s - loss: 0.7101 - accuracy: 0.7605 - val_loss: 0.5339 - val_accuracy: 0.8155\n",
            "Epoch 2/20\n",
            "1688/1688 - 2s - loss: 0.5021 - accuracy: 0.8217 - val_loss: 0.4737 - val_accuracy: 0.8357\n",
            "Epoch 3/20\n",
            "1688/1688 - 2s - loss: 0.4592 - accuracy: 0.8369 - val_loss: 0.4558 - val_accuracy: 0.8397\n",
            "Epoch 4/20\n",
            "1688/1688 - 2s - loss: 0.4340 - accuracy: 0.8451 - val_loss: 0.4283 - val_accuracy: 0.8540\n",
            "Epoch 5/20\n",
            "1688/1688 - 2s - loss: 0.4158 - accuracy: 0.8509 - val_loss: 0.4142 - val_accuracy: 0.8573\n",
            "Epoch 6/20\n",
            "1688/1688 - 2s - loss: 0.4012 - accuracy: 0.8570 - val_loss: 0.4092 - val_accuracy: 0.8573\n",
            "Epoch 7/20\n",
            "1688/1688 - 2s - loss: 0.3892 - accuracy: 0.8611 - val_loss: 0.4028 - val_accuracy: 0.8583\n",
            "Epoch 8/20\n",
            "1688/1688 - 2s - loss: 0.3796 - accuracy: 0.8642 - val_loss: 0.3940 - val_accuracy: 0.8610\n",
            "Epoch 9/20\n",
            "1688/1688 - 2s - loss: 0.3708 - accuracy: 0.8672 - val_loss: 0.3901 - val_accuracy: 0.8630\n",
            "Epoch 10/20\n",
            "1688/1688 - 2s - loss: 0.3627 - accuracy: 0.8700 - val_loss: 0.3781 - val_accuracy: 0.8660\n",
            "Epoch 11/20\n",
            "1688/1688 - 2s - loss: 0.3555 - accuracy: 0.8719 - val_loss: 0.3798 - val_accuracy: 0.8643\n",
            "Epoch 12/20\n",
            "1688/1688 - 2s - loss: 0.3495 - accuracy: 0.8733 - val_loss: 0.3787 - val_accuracy: 0.8650\n",
            "Epoch 13/20\n",
            "1688/1688 - 2s - loss: 0.3432 - accuracy: 0.8759 - val_loss: 0.3664 - val_accuracy: 0.8697\n",
            "Epoch 14/20\n",
            "1688/1688 - 2s - loss: 0.3377 - accuracy: 0.8781 - val_loss: 0.3680 - val_accuracy: 0.8678\n",
            "Epoch 15/20\n",
            "1688/1688 - 2s - loss: 0.3322 - accuracy: 0.8811 - val_loss: 0.3648 - val_accuracy: 0.8693\n",
            "Epoch 16/20\n",
            "1688/1688 - 2s - loss: 0.3272 - accuracy: 0.8817 - val_loss: 0.3544 - val_accuracy: 0.8722\n",
            "Epoch 17/20\n",
            "1688/1688 - 2s - loss: 0.3225 - accuracy: 0.8832 - val_loss: 0.3849 - val_accuracy: 0.8600\n",
            "Epoch 18/20\n",
            "1688/1688 - 2s - loss: 0.3180 - accuracy: 0.8844 - val_loss: 0.3489 - val_accuracy: 0.8747\n",
            "Epoch 19/20\n",
            "1688/1688 - 2s - loss: 0.3129 - accuracy: 0.8872 - val_loss: 0.3464 - val_accuracy: 0.8760\n",
            "Epoch 20/20\n",
            "1688/1688 - 2s - loss: 0.3095 - accuracy: 0.8875 - val_loss: 0.3461 - val_accuracy: 0.8732\n"
          ],
          "name": "stdout"
        }
      ]
    },
    {
      "cell_type": "markdown",
      "metadata": {
        "id": "JY_1t-Cq3V8w"
      },
      "source": [
        "# Question F\n",
        "## 1) "
      ]
    },
    {
      "cell_type": "code",
      "metadata": {
        "colab": {
          "base_uri": "https://localhost:8080/",
          "height": 282
        },
        "id": "TLuhcE8Bd0zk",
        "outputId": "beba6678-38ba-4f15-be8f-7c215423743d"
      },
      "source": [
        "# use model metrics and plot to check the trends for loss, accuracy, validation loss and validation accuracy.\n",
        "df = pd.DataFrame(hist1.history)\n",
        "plt.plot(df)\n",
        "plt.legend(df.columns)"
      ],
      "execution_count": 8,
      "outputs": [
        {
          "output_type": "execute_result",
          "data": {
            "text/plain": [
              "<matplotlib.legend.Legend at 0x7f5437cb0bd0>"
            ]
          },
          "metadata": {
            "tags": []
          },
          "execution_count": 8
        },
        {
          "output_type": "display_data",
          "data": {
            "image/png": "[encoded data removed]",
            "text/plain": [
              "<Figure size 432x288 with 1 Axes>"
            ]
          },
          "metadata": {
            "tags": [],
            "needs_background": "light"
          }
        }
      ]
    },
    {
      "cell_type": "markdown",
      "metadata": {
        "id": "1oSiceGf3eb3"
      },
      "source": [
        "# Question F\n",
        "## 2)"
      ]
    },
    {
      "cell_type": "code",
      "metadata": {
        "id": "A5HjYjP4YsQj"
      },
      "source": [
        "# create layers input, hidden1, hidden2 and output respectively and create the model\n",
        "input1 = keras.layers.Flatten(input_shape=[28,28])\n",
        "hidden1 = keras.layers.Dense(100, activation='relu', name=\"Hidden1\")\n",
        "hidden2 = keras.layers.Dense(100, activation='relu', name=\"Hidden2\")\n",
        "output = keras.layers.Dense(10, activation='softmax', name=\"Output\" )\n",
        "model2 = keras.models.Sequential([input1, hidden1, hidden2, output])\n",
        "model2.compile(loss='sparse_categorical_crossentropy', optimizer='SGD', metrics=['accuracy'])"
      ],
      "execution_count": 9,
      "outputs": []
    },
    {
      "cell_type": "code",
      "metadata": {
        "id": "yzLfwCVvkkil",
        "colab": {
          "base_uri": "https://localhost:8080/"
        },
        "outputId": "0bd6a582-2391-46e3-b0a4-e251c4d8f38a"
      },
      "source": [
        "hist2 = model2.fit(X_train, Y_train, epochs=20, validation_data=(X_valid, Y_valid), verbose=2)"
      ],
      "execution_count": 10,
      "outputs": [
        {
          "output_type": "stream",
          "text": [
            "Epoch 1/20\n",
            "1688/1688 - 3s - loss: 0.7268 - accuracy: 0.7523 - val_loss: 0.5342 - val_accuracy: 0.8072\n",
            "Epoch 2/20\n",
            "1688/1688 - 2s - loss: 0.4864 - accuracy: 0.8238 - val_loss: 0.4537 - val_accuracy: 0.8402\n",
            "Epoch 3/20\n",
            "1688/1688 - 2s - loss: 0.4428 - accuracy: 0.8393 - val_loss: 0.4256 - val_accuracy: 0.8448\n",
            "Epoch 4/20\n",
            "1688/1688 - 2s - loss: 0.4164 - accuracy: 0.8494 - val_loss: 0.4074 - val_accuracy: 0.8557\n",
            "Epoch 5/20\n",
            "1688/1688 - 2s - loss: 0.3962 - accuracy: 0.8561 - val_loss: 0.4079 - val_accuracy: 0.8540\n",
            "Epoch 6/20\n",
            "1688/1688 - 2s - loss: 0.3813 - accuracy: 0.8606 - val_loss: 0.3876 - val_accuracy: 0.8610\n",
            "Epoch 7/20\n",
            "1688/1688 - 2s - loss: 0.3687 - accuracy: 0.8661 - val_loss: 0.4136 - val_accuracy: 0.8520\n",
            "Epoch 8/20\n",
            "1688/1688 - 2s - loss: 0.3564 - accuracy: 0.8701 - val_loss: 0.3816 - val_accuracy: 0.8615\n",
            "Epoch 9/20\n",
            "1688/1688 - 2s - loss: 0.3469 - accuracy: 0.8738 - val_loss: 0.3859 - val_accuracy: 0.8592\n",
            "Epoch 10/20\n",
            "1688/1688 - 2s - loss: 0.3386 - accuracy: 0.8767 - val_loss: 0.3650 - val_accuracy: 0.8667\n",
            "Epoch 11/20\n",
            "1688/1688 - 3s - loss: 0.3310 - accuracy: 0.8782 - val_loss: 0.3849 - val_accuracy: 0.8623\n",
            "Epoch 12/20\n",
            "1688/1688 - 2s - loss: 0.3224 - accuracy: 0.8819 - val_loss: 0.3566 - val_accuracy: 0.8712\n",
            "Epoch 13/20\n",
            "1688/1688 - 3s - loss: 0.3171 - accuracy: 0.8838 - val_loss: 0.3633 - val_accuracy: 0.8687\n",
            "Epoch 14/20\n",
            "1688/1688 - 3s - loss: 0.3103 - accuracy: 0.8874 - val_loss: 0.3449 - val_accuracy: 0.8748\n",
            "Epoch 15/20\n",
            "1688/1688 - 3s - loss: 0.3050 - accuracy: 0.8880 - val_loss: 0.3451 - val_accuracy: 0.8787\n",
            "Epoch 16/20\n",
            "1688/1688 - 3s - loss: 0.2991 - accuracy: 0.8904 - val_loss: 0.3656 - val_accuracy: 0.8637\n",
            "Epoch 17/20\n",
            "1688/1688 - 2s - loss: 0.2932 - accuracy: 0.8927 - val_loss: 0.3304 - val_accuracy: 0.8843\n",
            "Epoch 18/20\n",
            "1688/1688 - 2s - loss: 0.2891 - accuracy: 0.8946 - val_loss: 0.3493 - val_accuracy: 0.8728\n",
            "Epoch 19/20\n",
            "1688/1688 - 2s - loss: 0.2835 - accuracy: 0.8958 - val_loss: 0.3368 - val_accuracy: 0.8772\n",
            "Epoch 20/20\n",
            "1688/1688 - 2s - loss: 0.2785 - accuracy: 0.8994 - val_loss: 0.3359 - val_accuracy: 0.8798\n"
          ],
          "name": "stdout"
        }
      ]
    },
    {
      "cell_type": "code",
      "metadata": {
        "id": "2SHlOFP1us0c",
        "outputId": "bfbfd276-468e-4081-8e72-4095e9cc733a",
        "colab": {
          "base_uri": "https://localhost:8080/"
        }
      },
      "source": [
        "print(hist2.history)\n",
        "print(model2.get_weights())\n"
      ],
      "execution_count": 18,
      "outputs": [
        {
          "output_type": "stream",
          "text": [
            "{'loss': [0.7268450260162354, 0.4863717555999756, 0.4427616596221924, 0.41635408997535706, 0.39616474509239197, 0.3812730312347412, 0.3686857223510742, 0.3563603162765503, 0.3469293713569641, 0.33863064646720886, 0.33101987838745117, 0.32238849997520447, 0.31706735491752625, 0.3102729022502899, 0.30496859550476074, 0.2990511655807495, 0.29323241114616394, 0.2891199588775635, 0.2834647595882416, 0.2784998416900635], 'accuracy': [0.7522592544555664, 0.823796272277832, 0.8392592668533325, 0.8494259119033813, 0.8560925722122192, 0.8606111407279968, 0.8660555481910706, 0.8701481223106384, 0.8738333582878113, 0.8766852021217346, 0.8782036900520325, 0.8818703889846802, 0.8837592601776123, 0.8873518705368042, 0.8880370259284973, 0.8904259204864502, 0.8927222490310669, 0.8946481347084045, 0.895814836025238, 0.8994073867797852], 'val_loss': [0.5342085957527161, 0.4537025988101959, 0.42563894391059875, 0.4074294865131378, 0.4079037308692932, 0.38760071992874146, 0.4135732054710388, 0.3815644085407257, 0.38592082262039185, 0.3650411069393158, 0.3849449157714844, 0.3566477596759796, 0.36331892013549805, 0.34492290019989014, 0.3450612425804138, 0.36556681990623474, 0.3304058909416199, 0.3492611348628998, 0.33676907420158386, 0.3358749449253082], 'val_accuracy': [0.8071666955947876, 0.8401666879653931, 0.8448333144187927, 0.8556666374206543, 0.8539999723434448, 0.8610000014305115, 0.8519999980926514, 0.8615000247955322, 0.85916668176651, 0.8666666746139526, 0.862333357334137, 0.8711666464805603, 0.8686666488647461, 0.874833345413208, 0.8786666393280029, 0.8636666536331177, 0.8843333125114441, 0.8728333115577698, 0.8771666884422302, 0.8798333406448364]}\n",
            "[array([[-0.01849065,  0.06351727,  0.02537624, ...,  0.00424125,\n",
            "        -0.00240962, -0.06619482],\n",
            "       [ 0.00307677,  0.05269423,  0.08000277, ..., -0.05003032,\n",
            "         0.03647643, -0.02734277],\n",
            "       [-0.05299926, -0.014695  ,  0.00901341, ..., -0.02784333,\n",
            "         0.05813427,  0.07609281],\n",
            "       ...,\n",
            "       [-0.06914534, -0.04680029,  0.04626922, ..., -0.07122568,\n",
            "        -0.03386267,  0.06835385],\n",
            "       [-0.02982701,  0.0607883 ,  0.07231265, ...,  0.07240068,\n",
            "         0.04234087, -0.05769006],\n",
            "       [ 0.02922931, -0.02606566,  0.02729707, ...,  0.07731095,\n",
            "         0.00428419,  0.03484165]], dtype=float32), array([-0.00575663, -0.12595488,  0.06797085,  0.02286938,  0.10292792,\n",
            "        0.02878386,  0.16110191, -0.04153885,  0.06792066,  0.01297082,\n",
            "        0.02537166,  0.05177444,  0.09938662,  0.07173032,  0.00331866,\n",
            "        0.05853918,  0.11946959, -0.00378628,  0.00031868,  0.0560495 ,\n",
            "       -0.0141903 ,  0.06620373, -0.12059525,  0.02109304, -0.01638056,\n",
            "       -0.07487881,  0.03646971, -0.02271004,  0.11607835, -0.03056414,\n",
            "        0.00769447, -0.00309395,  0.17155519, -0.01365639,  0.00715013,\n",
            "        0.01657435,  0.01568914, -0.01117213,  0.07868355,  0.09047261,\n",
            "        0.07351547, -0.0950083 , -0.04293838,  0.04886633,  0.03280589,\n",
            "        0.00153199, -0.12960492,  0.11626393,  0.02843184,  0.0631442 ,\n",
            "        0.00379467,  0.07071931, -0.01100442,  0.00385692, -0.00227335,\n",
            "        0.0039928 ,  0.09093909, -0.01259171,  0.01469503,  0.0521652 ,\n",
            "        0.09997103, -0.01025047,  0.04960418, -0.03820061,  0.03125521,\n",
            "        0.04188748,  0.04897204,  0.02042791,  0.24364227,  0.10069003,\n",
            "       -0.21535581, -0.18883969,  0.02636112,  0.12704808,  0.01806545,\n",
            "        0.19059514, -0.09500597, -0.1067301 ,  0.16952315, -0.10193317,\n",
            "        0.05845429,  0.0264016 ,  0.04642385,  0.1743678 , -0.02534263,\n",
            "       -0.01903309, -0.00448024,  0.04834649, -0.12758249,  0.01212699,\n",
            "        0.00209983,  0.1732751 ,  0.06864198,  0.02182777,  0.03196265,\n",
            "        0.06643794, -0.09096566,  0.08362278, -0.00039616,  0.0696335 ],\n",
            "      dtype=float32), array([[-0.10613541,  0.0926303 , -0.10478067, ...,  0.10100601,\n",
            "        -0.14594245, -0.1701252 ],\n",
            "       [-0.05852678,  0.11515293, -0.07039817, ..., -0.06580175,\n",
            "         0.1720718 ,  0.18259813],\n",
            "       [ 0.11946765,  0.06831726,  0.03129529, ...,  0.03027705,\n",
            "         0.2092053 ,  0.18274139],\n",
            "       ...,\n",
            "       [ 0.15396358, -0.12352421,  0.09575971, ..., -0.04962724,\n",
            "        -0.05628599, -0.19571392],\n",
            "       [-0.11704971, -0.03463162,  0.16299763, ...,  0.00094819,\n",
            "        -0.06615463,  0.13326025],\n",
            "       [-0.1552643 , -0.12500578, -0.10257499, ..., -0.04191284,\n",
            "        -0.10917225, -0.04597309]], dtype=float32), array([ 0.05888028, -0.02111934, -0.02675898, -0.01285061, -0.13105267,\n",
            "       -0.02518526, -0.02446841, -0.01043603, -0.08552206,  0.0362759 ,\n",
            "       -0.14030214,  0.02251078, -0.01722865, -0.0223205 , -0.06091058,\n",
            "        0.04959717,  0.02663413, -0.00774936, -0.01696051, -0.0649323 ,\n",
            "        0.01420912,  0.09088387,  0.11403923,  0.05127314,  0.14669104,\n",
            "        0.00342968, -0.03233519,  0.08364333,  0.00753144,  0.0730205 ,\n",
            "        0.07055296,  0.08645497,  0.01544403, -0.00549641, -0.00571321,\n",
            "        0.10417577, -0.0980664 , -0.02190782, -0.01727148, -0.0878415 ,\n",
            "       -0.01671772,  0.03000013,  0.09719023,  0.08296982, -0.05441245,\n",
            "       -0.09370514,  0.01228587, -0.00777331,  0.10600155, -0.03381687,\n",
            "        0.05195107,  0.14449227, -0.09962437,  0.05011149, -0.00052655,\n",
            "        0.14985144, -0.00112342,  0.13869832,  0.14570744, -0.02817265,\n",
            "       -0.05330175,  0.05230017,  0.03501968,  0.03003495,  0.03875466,\n",
            "       -0.05134826,  0.16476865, -0.02538018, -0.00085172,  0.00463034,\n",
            "       -0.03577921, -0.03227133, -0.01155426,  0.00187224, -0.10471132,\n",
            "        0.05922169,  0.00495459,  0.06966886,  0.0696661 , -0.01887833,\n",
            "        0.01600789,  0.00594683, -0.00488482,  0.10056228,  0.00421087,\n",
            "       -0.00637143,  0.06745522, -0.02169009,  0.00823395, -0.03533835,\n",
            "        0.03441258,  0.08653512, -0.02182846,  0.03552186,  0.15263309,\n",
            "        0.01976707,  0.02241249,  0.03123308,  0.00696722, -0.07976191],\n",
            "      dtype=float32), array([[-1.67753816e-01, -2.26983711e-01, -3.54850829e-01,\n",
            "         2.00696960e-01, -9.77823585e-02, -1.67542145e-01,\n",
            "         2.60212719e-01, -2.17414662e-01,  1.91961639e-02,\n",
            "        -7.34411478e-02],\n",
            "       [ 1.54819280e-01, -5.89772239e-02, -3.64089608e-01,\n",
            "        -2.60623991e-01,  1.33117497e-01,  2.98090935e-01,\n",
            "        -6.55898601e-02, -1.67463601e-01,  1.07648343e-01,\n",
            "         2.30555013e-01],\n",
            "       [-2.26381034e-01,  1.01861052e-01, -3.79908010e-02,\n",
            "         3.12708914e-01, -3.18033472e-02, -3.50908726e-01,\n",
            "        -3.88947219e-01,  1.96526691e-01,  6.38708845e-02,\n",
            "         3.67867082e-01],\n",
            "       [ 1.56618342e-01,  6.44758493e-02,  1.59002617e-01,\n",
            "         9.56291854e-02,  1.38645530e-01, -1.48618698e-01,\n",
            "        -5.24625108e-02, -1.09948725e-01,  1.37554452e-01,\n",
            "        -5.16824126e-02],\n",
            "       [ 3.07898909e-01,  2.45842353e-01,  1.76013604e-01,\n",
            "        -4.12355572e-01, -3.67518440e-02, -4.22575414e-01,\n",
            "         1.42503545e-01, -1.47974655e-01,  3.85476127e-02,\n",
            "         4.50627923e-01],\n",
            "       [-1.07146755e-01,  1.92692608e-01,  1.30511537e-01,\n",
            "        -1.60027612e-02,  1.01944152e-02,  1.85888305e-01,\n",
            "        -2.85957396e-01, -1.57203212e-01,  1.37782335e-01,\n",
            "         3.12275738e-01],\n",
            "       [ 4.71858203e-01, -2.17922479e-01,  8.06505755e-02,\n",
            "        -2.61441410e-01,  4.20345403e-02, -1.58327892e-01,\n",
            "         3.04808438e-01, -4.08183098e-01,  1.92871734e-01,\n",
            "        -3.80296975e-01],\n",
            "       [ 2.97806174e-01,  1.95155427e-01, -2.48382539e-01,\n",
            "        -4.83408064e-01, -3.15091163e-01,  2.35116053e-02,\n",
            "         1.44222692e-01, -8.12629908e-02,  1.00615192e-02,\n",
            "        -2.38517020e-02],\n",
            "       [ 1.75597370e-01, -3.04774637e-03, -7.44252950e-02,\n",
            "        -1.38069093e-01, -2.63336062e-01, -3.71468067e-01,\n",
            "         7.76673928e-02,  2.10557655e-01,  1.41000271e-01,\n",
            "         4.55731481e-01],\n",
            "       [ 1.97844490e-01,  1.70005813e-01,  1.81770369e-01,\n",
            "         2.18086201e-03, -2.62134016e-01,  1.28284097e-01,\n",
            "         3.04540902e-01, -2.19986722e-01, -3.71563643e-01,\n",
            "         5.42683788e-02],\n",
            "       [ 5.49716782e-03, -7.41391182e-02,  5.66968089e-03,\n",
            "         1.05559886e-01,  3.59784395e-01, -2.70660967e-01,\n",
            "        -1.31592095e-01, -3.03803980e-01,  2.79706925e-01,\n",
            "         2.30292872e-01],\n",
            "       [ 3.89305323e-01, -1.27833307e-01, -2.27209911e-01,\n",
            "        -2.31718775e-02, -1.12453833e-01,  3.26622516e-01,\n",
            "         1.67080667e-02, -3.38391423e-01,  2.98516721e-01,\n",
            "        -5.52298389e-02],\n",
            "       [ 7.60979503e-02, -1.14128932e-01,  1.25952484e-02,\n",
            "        -1.54167220e-01,  7.15562189e-03, -2.02543810e-01,\n",
            "        -5.27449250e-02,  1.63553506e-01,  1.53429180e-01,\n",
            "         1.73662439e-01],\n",
            "       [-7.72008114e-03, -2.38514036e-01, -3.18708806e-03,\n",
            "         1.57111868e-01,  1.76566392e-01, -1.93727061e-01,\n",
            "        -2.42455974e-02,  1.18192583e-01,  5.12546673e-02,\n",
            "        -4.95966673e-02],\n",
            "       [-2.40147084e-01, -2.79074442e-02,  1.85534924e-01,\n",
            "         1.37137741e-01,  2.91703850e-01,  2.09558681e-01,\n",
            "        -2.20738962e-01, -1.01011731e-01,  2.98233151e-01,\n",
            "         2.25197837e-01],\n",
            "       [ 3.59440893e-02, -2.09466442e-01,  1.21083125e-01,\n",
            "         2.89681971e-01, -3.08238536e-01,  3.41126621e-01,\n",
            "        -1.13941789e-01, -3.69933963e-01,  9.16829333e-02,\n",
            "         1.24690466e-01],\n",
            "       [-1.13390528e-01,  3.45054090e-01, -1.51938334e-01,\n",
            "         1.94041342e-01, -2.67625570e-01, -1.10806674e-01,\n",
            "        -4.32495922e-01,  3.24732989e-01, -1.92196034e-02,\n",
            "         2.96126038e-01],\n",
            "       [-8.19516554e-02,  1.02240220e-01,  8.58148411e-02,\n",
            "         1.84793517e-01, -1.62435248e-01, -1.53051287e-01,\n",
            "        -9.31114256e-02,  1.70775950e-01, -5.13733253e-02,\n",
            "         2.99170502e-02],\n",
            "       [-3.64258975e-01, -2.57530771e-02,  1.38899192e-01,\n",
            "         9.06382725e-02,  5.80444634e-02, -2.04397857e-01,\n",
            "        -3.36232811e-01,  3.38760205e-02,  1.34777546e-01,\n",
            "        -9.58613157e-02],\n",
            "       [ 7.37131983e-02, -2.19244003e-01, -1.64485648e-01,\n",
            "        -3.15000534e-01, -2.36260332e-02, -1.64147094e-01,\n",
            "        -1.29846871e-01, -1.77681208e-01,  3.49825799e-01,\n",
            "        -8.71214457e-03],\n",
            "       [-3.56450737e-01,  2.70526379e-01,  1.64779603e-01,\n",
            "        -1.22502111e-01,  1.74307078e-02,  3.26529413e-01,\n",
            "        -2.58480608e-01, -8.25115293e-02,  2.43451774e-01,\n",
            "        -1.78057566e-01],\n",
            "       [ 1.49469763e-01, -2.55824715e-01,  6.28471300e-02,\n",
            "         3.52401048e-01,  1.06564455e-01,  5.88164255e-02,\n",
            "         3.48652989e-01, -3.33735347e-01, -1.72615424e-01,\n",
            "        -1.80409506e-01],\n",
            "       [-2.87484765e-01, -2.15232030e-01, -3.63309197e-02,\n",
            "         1.35214627e-01, -9.95027274e-03,  3.60178441e-01,\n",
            "        -1.91057190e-01,  2.73724765e-01, -2.33449787e-01,\n",
            "        -1.04122475e-01],\n",
            "       [-8.37934166e-02, -2.96201538e-02, -2.19014883e-01,\n",
            "         1.42326765e-02,  2.68251330e-01,  5.29256880e-01,\n",
            "         2.21579596e-01, -4.32761848e-01, -3.40816677e-01,\n",
            "         1.64299402e-02],\n",
            "       [-2.66279072e-01,  1.87002733e-01, -2.89802045e-01,\n",
            "         2.77931929e-01, -3.34631443e-01,  1.15889229e-01,\n",
            "         5.30619845e-02,  3.73048246e-01,  3.78338210e-02,\n",
            "         1.80184066e-01],\n",
            "       [-5.62922210e-02,  2.07812309e-01, -1.02443568e-01,\n",
            "        -9.06158611e-02, -1.33612558e-01, -8.56648833e-02,\n",
            "        -6.57356251e-03, -2.25737378e-01,  6.98572248e-02,\n",
            "         1.24187611e-01],\n",
            "       [ 1.01029970e-01, -5.60536347e-02,  4.41384390e-02,\n",
            "         5.95399961e-02, -1.18880317e-01, -1.29253611e-01,\n",
            "        -2.85233080e-01,  7.17067868e-02,  3.31763327e-01,\n",
            "        -1.85735941e-01],\n",
            "       [ 1.69647355e-02, -2.61545181e-01, -1.19489559e-03,\n",
            "         1.48799628e-01,  2.44269073e-01,  2.26364404e-01,\n",
            "        -2.68180758e-01,  5.42442083e-01,  1.85996324e-01,\n",
            "        -1.94608241e-01],\n",
            "       [ 2.08421364e-01,  1.86070457e-01, -1.69966981e-01,\n",
            "        -2.67430022e-02, -2.47159705e-01,  1.43036649e-01,\n",
            "        -1.87364310e-01,  8.81571248e-02,  3.49593699e-01,\n",
            "         1.91385359e-01],\n",
            "       [ 7.29159489e-02, -8.34374204e-02,  2.13101774e-01,\n",
            "        -3.18652391e-01, -2.17202932e-01,  3.81064594e-01,\n",
            "         2.30202109e-01, -8.90874788e-02, -2.25317776e-01,\n",
            "         2.67847955e-01],\n",
            "       [-1.80651486e-01, -3.38726997e-01,  2.31842563e-01,\n",
            "         2.89383054e-01, -2.50553757e-01,  4.84591164e-02,\n",
            "        -2.67374553e-02, -1.38124838e-01,  2.34407052e-01,\n",
            "        -5.28190881e-02],\n",
            "       [ 8.57733563e-03,  2.90033817e-01, -1.94556728e-01,\n",
            "         4.02039468e-01,  1.63416475e-01,  6.85736760e-02,\n",
            "         3.14105421e-01,  6.32934645e-02, -4.45384324e-01,\n",
            "         9.68271866e-02],\n",
            "       [-6.19900189e-02,  3.08644116e-01,  2.29165833e-02,\n",
            "        -1.32242829e-01, -2.62956798e-01,  4.28804457e-02,\n",
            "        -3.65044862e-01, -1.26546249e-01,  9.06816646e-02,\n",
            "        -8.22852254e-02],\n",
            "       [ 1.16843767e-01, -1.66113935e-02,  5.87233379e-02,\n",
            "        -2.65067089e-02,  8.90922770e-02,  8.80399439e-03,\n",
            "        -2.93454714e-02, -1.27506442e-02,  9.07651484e-02,\n",
            "        -7.11704493e-02],\n",
            "       [ 8.57849941e-02, -2.32685253e-01, -3.19358818e-02,\n",
            "         2.29041398e-01,  5.41871116e-02, -1.57320753e-01,\n",
            "        -8.77675787e-03,  5.32916375e-02,  5.98267056e-02,\n",
            "         8.85789935e-03],\n",
            "       [ 8.86513367e-02, -2.35351160e-01,  1.37657315e-01,\n",
            "         1.00507267e-01, -5.38099208e-04,  6.40082598e-01,\n",
            "        -7.00793341e-02, -3.28633398e-01,  8.70151818e-02,\n",
            "        -3.38995457e-01],\n",
            "       [-1.80990577e-01,  1.07988805e-01,  9.68153477e-02,\n",
            "        -3.06040406e-01,  1.59044847e-01, -1.08068824e-01,\n",
            "        -2.25465298e-01, -2.20410913e-01, -4.75946292e-02,\n",
            "         4.78665233e-01],\n",
            "       [ 3.71120155e-01,  9.45719406e-02,  2.92706847e-01,\n",
            "         1.65956125e-01,  2.31737897e-01, -4.88845825e-01,\n",
            "         1.87492132e-01, -3.89368862e-01, -4.17369694e-01,\n",
            "         3.90279405e-02],\n",
            "       [-1.96884155e-01, -2.24682540e-01, -6.51024207e-02,\n",
            "        -6.93207011e-02,  9.50968266e-03, -2.79352907e-02,\n",
            "         2.25718975e-01, -2.42848858e-01, -1.88704118e-01,\n",
            "         9.60704163e-02],\n",
            "       [-3.66114050e-01,  8.13806579e-02,  3.54598403e-01,\n",
            "        -2.70309746e-01,  5.37584603e-01, -2.75287062e-01,\n",
            "         3.38050753e-01, -2.49209732e-01,  5.25090769e-02,\n",
            "        -8.64333585e-02],\n",
            "       [ 1.48975909e-01,  1.80519104e-01,  1.50807038e-01,\n",
            "         1.60216749e-01,  1.58223927e-01,  2.45662257e-02,\n",
            "        -1.90683529e-01,  5.92721365e-02, -1.77757338e-01,\n",
            "        -1.13535352e-01],\n",
            "       [ 3.29964161e-01,  7.27965459e-02, -3.24716449e-01,\n",
            "        -1.08332545e-01, -1.33822247e-01,  2.27516651e-01,\n",
            "        -6.92828670e-02,  1.76295877e-01,  1.42659321e-01,\n",
            "         2.34360551e-03],\n",
            "       [ 4.59940545e-02, -1.51879236e-01,  1.58377737e-02,\n",
            "        -1.18487976e-01, -5.31449951e-02,  5.26776254e-01,\n",
            "         1.03484668e-01,  2.64702946e-01, -3.72719735e-01,\n",
            "         3.70561443e-02],\n",
            "       [-1.97425634e-01,  4.14677173e-01,  3.16757441e-01,\n",
            "         4.06677127e-01,  3.40027213e-01, -5.03692329e-01,\n",
            "        -5.02550565e-02,  3.54000658e-01, -5.98001242e-01,\n",
            "        -2.73437262e-01],\n",
            "       [ 1.23326741e-01, -3.61476988e-01,  1.12830088e-01,\n",
            "        -2.72766799e-01,  6.81658387e-02, -2.47543097e-01,\n",
            "         2.60822117e-01,  3.53396267e-01,  1.25082910e-01,\n",
            "         2.28985786e-01],\n",
            "       [ 8.54897350e-02, -2.57772446e-01, -6.63514286e-02,\n",
            "        -2.92982515e-02,  1.72259748e-01, -1.48018703e-01,\n",
            "        -1.55937271e-02,  5.79896336e-03,  2.71673858e-01,\n",
            "         1.25436604e-01],\n",
            "       [ 2.71329731e-01, -4.28753812e-03, -1.81624487e-01,\n",
            "         9.34284925e-02, -2.07567420e-02,  7.09548220e-02,\n",
            "         7.33827753e-03,  1.43146932e-01,  1.28865451e-01,\n",
            "        -8.53411108e-02],\n",
            "       [ 3.91006291e-01, -3.24200124e-01,  2.40755692e-01,\n",
            "         2.64229745e-01, -1.07505389e-01,  4.77581425e-03,\n",
            "        -3.18025112e-01, -3.75662804e-01, -1.22741781e-01,\n",
            "        -2.21035004e-01],\n",
            "       [-7.11260512e-02,  2.55118728e-01, -2.41043240e-01,\n",
            "         2.93295711e-01, -4.27066982e-02,  1.84168652e-01,\n",
            "         4.65245873e-01,  1.87560901e-01, -3.30630004e-01,\n",
            "         1.26466468e-01],\n",
            "       [ 4.80214767e-02, -1.51129290e-01, -1.71879709e-01,\n",
            "        -2.14341372e-01,  8.55702758e-02, -3.66785377e-01,\n",
            "         2.29386434e-01,  2.16856897e-01,  2.20349908e-01,\n",
            "         1.06186122e-01],\n",
            "       [ 1.72955319e-01, -1.31097585e-01, -3.09257954e-01,\n",
            "        -2.57518351e-01, -1.89652607e-01,  6.42665327e-02,\n",
            "        -1.47895232e-01,  7.19799176e-02, -3.63164932e-01,\n",
            "        -3.73162031e-02],\n",
            "       [-4.41599227e-02, -3.94533664e-01,  4.26331401e-01,\n",
            "        -3.06703687e-01, -1.28892630e-01,  2.82413065e-01,\n",
            "         3.26006502e-01,  1.08659998e-01,  1.39592871e-01,\n",
            "        -5.12103081e-01],\n",
            "       [ 1.13568008e-01,  3.68348956e-02,  7.64983818e-02,\n",
            "        -2.61889130e-01,  4.94212389e-01,  1.04648568e-01,\n",
            "        -3.38341475e-01, -8.66922140e-02,  4.53342870e-02,\n",
            "        -2.34160498e-01],\n",
            "       [ 6.22115619e-02, -1.56292409e-01,  5.76138534e-02,\n",
            "        -1.17967896e-01,  1.19641699e-01,  2.51496792e-01,\n",
            "        -1.47031114e-01,  2.20059276e-01, -1.46792591e-01,\n",
            "        -2.40401775e-01],\n",
            "       [-4.52028699e-02, -1.99959248e-01,  1.56232700e-01,\n",
            "        -1.82743114e-03,  1.91160336e-01, -1.21725701e-01,\n",
            "         2.04066560e-01,  1.83157220e-01,  1.74198568e-01,\n",
            "        -2.54247747e-02],\n",
            "       [ 1.06739737e-01, -3.70227426e-01,  1.52034238e-01,\n",
            "         3.92199159e-01, -1.13451697e-01, -4.69653279e-01,\n",
            "         5.34270823e-01,  1.47231981e-01, -2.20735550e-01,\n",
            "        -3.65047455e-01],\n",
            "       [ 1.32005081e-01,  3.04595325e-02, -1.18899874e-01,\n",
            "        -1.78234875e-01,  1.23661146e-01, -2.05411032e-01,\n",
            "        -9.02914107e-02,  1.67519987e-01,  2.78336145e-02,\n",
            "        -8.01214948e-02],\n",
            "       [-2.76399851e-01, -2.57834673e-01, -7.68008158e-02,\n",
            "         1.45722613e-01, -1.94509536e-01,  4.48838502e-01,\n",
            "        -1.26867503e-01,  6.50468320e-02, -2.09539726e-01,\n",
            "         1.15972899e-01],\n",
            "       [-1.91568717e-01, -7.32573867e-02, -6.08440563e-02,\n",
            "         1.09357491e-01, -3.06847692e-01,  3.86625201e-01,\n",
            "         4.18376690e-03, -1.41387403e-01,  1.94119900e-01,\n",
            "        -3.06581974e-01],\n",
            "       [-3.31036747e-02, -1.77552700e-01, -1.91911221e-01,\n",
            "        -6.39460161e-02,  1.19845487e-01, -8.27361718e-02,\n",
            "         1.05198845e-01,  1.86295182e-01, -1.08813770e-01,\n",
            "         1.08811356e-01],\n",
            "       [ 3.59850898e-02, -2.28018209e-01, -3.27417016e-01,\n",
            "         7.74675980e-02,  1.57739222e-01, -1.13692567e-01,\n",
            "        -1.10770293e-01,  2.53336698e-01,  5.38194537e-01,\n",
            "         1.46701299e-02],\n",
            "       [ 1.11267775e-01,  4.45789099e-01, -8.08058381e-02,\n",
            "        -1.60366029e-01, -2.48610184e-01,  3.61859143e-01,\n",
            "        -2.45212451e-01, -6.46637976e-02, -5.64388372e-02,\n",
            "        -2.25236386e-01],\n",
            "       [-4.73688208e-02, -1.36060372e-01,  2.43167773e-01,\n",
            "         1.19661801e-01,  1.99251473e-02, -1.08754285e-01,\n",
            "         9.64511633e-02,  2.66866416e-01,  2.93485790e-01,\n",
            "        -2.22960263e-01],\n",
            "       [ 2.56116480e-01, -2.24846542e-01, -8.95353928e-02,\n",
            "        -1.46996021e-01, -1.75285563e-01,  3.82711850e-02,\n",
            "         3.88624102e-01,  1.77634761e-01, -8.79065841e-02,\n",
            "         2.04717562e-01],\n",
            "       [ 1.31451532e-01,  2.41059512e-01, -3.48915868e-02,\n",
            "         3.78885031e-01,  1.53876126e-01, -1.71810508e-01,\n",
            "         7.53786862e-02,  1.67363824e-03, -2.10382059e-01,\n",
            "        -2.29097903e-01],\n",
            "       [-1.16836995e-01,  1.64261311e-01,  2.33662248e-01,\n",
            "         2.07218394e-01,  1.86897993e-01,  1.21784337e-01,\n",
            "        -1.28913477e-01,  1.91503093e-01,  2.35093180e-02,\n",
            "         1.09136820e-01],\n",
            "       [-1.95615515e-01,  1.60201383e-03, -2.87555486e-01,\n",
            "        -3.51158708e-01, -9.82569456e-02,  5.72170138e-01,\n",
            "        -3.43491554e-01,  3.56532186e-01, -2.61253983e-01,\n",
            "        -2.86661321e-03],\n",
            "       [ 9.50263813e-02, -6.15780056e-02, -6.56807274e-02,\n",
            "         4.38824855e-02,  1.22533545e-01, -1.72893032e-01,\n",
            "         5.00605702e-02, -3.29017118e-02,  1.77117273e-01,\n",
            "        -8.22663903e-02],\n",
            "       [-2.12592840e-01, -1.05634458e-01, -2.19012335e-01,\n",
            "        -5.03394864e-02, -5.25537021e-02,  2.79452722e-03,\n",
            "         2.32126772e-01, -3.87580618e-02,  1.75501361e-01,\n",
            "        -2.31887415e-01],\n",
            "       [ 3.60458754e-02,  5.01350686e-02,  1.33445323e-01,\n",
            "        -1.48042738e-01,  1.70731112e-01, -3.53887938e-02,\n",
            "        -2.69383162e-01,  1.04998365e-01,  1.17802151e-01,\n",
            "        -1.34462595e-01],\n",
            "       [ 2.59372026e-01, -1.36025682e-01,  1.69166118e-01,\n",
            "        -3.14210445e-01,  1.67605728e-01,  2.51495123e-01,\n",
            "        -1.89691499e-01, -2.75878191e-01, -6.84575737e-02,\n",
            "         2.06348687e-01],\n",
            "       [ 5.74956276e-02,  4.78791483e-02, -1.42321557e-01,\n",
            "        -2.90709645e-01,  3.24149765e-02,  9.74326357e-02,\n",
            "        -2.11663783e-01,  2.45604634e-01, -8.95629674e-02,\n",
            "         3.91466022e-01],\n",
            "       [-2.07547694e-01,  8.43148082e-02,  2.01617554e-01,\n",
            "         1.24137282e-01,  1.66303932e-03, -5.59942015e-02,\n",
            "        -8.52019619e-03,  5.05434163e-02, -2.25631878e-01,\n",
            "        -6.76144361e-02],\n",
            "       [-2.09913403e-01,  1.32154495e-01, -2.19293267e-01,\n",
            "         1.26471937e-01, -1.66237503e-01,  1.76229894e-01,\n",
            "         5.20078503e-02, -1.02831356e-01, -2.21559167e-01,\n",
            "         1.87950283e-01],\n",
            "       [-5.44395000e-02, -5.01810499e-02,  4.36904818e-01,\n",
            "        -3.10955346e-01,  2.98077077e-01, -1.26127796e-02,\n",
            "        -7.55508766e-02, -3.67461711e-01, -1.27643114e-02,\n",
            "        -1.59889981e-01],\n",
            "       [ 3.04278079e-03, -1.72738984e-01, -2.40681902e-01,\n",
            "         1.35386707e-02, -2.03838691e-01,  7.79686496e-02,\n",
            "        -1.91381380e-01,  3.38265896e-01, -4.22518164e-01,\n",
            "         3.32061410e-01],\n",
            "       [ 2.07194209e-01,  7.28814770e-03,  2.20956340e-01,\n",
            "         8.64865035e-02, -6.10236637e-02, -2.01039493e-01,\n",
            "         8.84271935e-02, -1.13009728e-01,  2.96072513e-01,\n",
            "        -6.09147102e-02],\n",
            "       [ 4.30548817e-01, -3.89263660e-01,  4.07992721e-01,\n",
            "         2.77593136e-01,  1.34523243e-01,  2.15459704e-01,\n",
            "         6.87383711e-02, -2.16813833e-01, -3.23049963e-01,\n",
            "        -1.90820619e-01],\n",
            "       [ 2.44543910e-01,  3.52131091e-02, -3.86450067e-02,\n",
            "         1.34211540e-01, -3.91520083e-01, -1.75379023e-01,\n",
            "         1.48269817e-01,  1.16545737e-01,  9.33722034e-02,\n",
            "         4.74983789e-02],\n",
            "       [ 3.57093483e-01, -3.05728346e-01,  2.46223301e-01,\n",
            "        -2.82452077e-01, -6.41624304e-03,  9.99459550e-02,\n",
            "         3.07021886e-01, -8.03450961e-03,  2.10333809e-01,\n",
            "         1.38497069e-01],\n",
            "       [ 9.37939882e-02,  3.90746534e-01, -2.16069534e-01,\n",
            "        -2.96186879e-02,  3.47541839e-01, -3.33131887e-02,\n",
            "         3.13447654e-01, -3.01623285e-01,  2.01481253e-01,\n",
            "        -4.55027252e-01],\n",
            "       [-6.40906319e-02,  4.75308686e-01, -3.25576179e-02,\n",
            "         3.74217960e-03, -2.36402005e-02, -1.24674149e-01,\n",
            "        -8.48836228e-02, -3.57988119e-01,  8.02214369e-02,\n",
            "        -2.62821168e-01],\n",
            "       [-5.69251850e-02,  1.78121477e-01, -1.67771846e-01,\n",
            "        -1.38903260e-01, -3.13419886e-02, -1.80065170e-01,\n",
            "         8.45470950e-02,  6.29123375e-02,  1.97947770e-01,\n",
            "        -1.32598981e-01],\n",
            "       [ 7.34870061e-02,  1.78695489e-02, -6.81707710e-02,\n",
            "         4.79597449e-01, -3.52326431e-03,  2.37521529e-02,\n",
            "        -5.08496724e-02, -3.37607563e-01,  2.09383518e-02,\n",
            "        -3.03576499e-01],\n",
            "       [ 2.84513801e-01,  3.47912580e-01, -1.75347880e-01,\n",
            "        -1.41747043e-01,  1.04284383e-01,  2.22800672e-01,\n",
            "         6.78864047e-02, -2.51621783e-01, -6.03630058e-02,\n",
            "        -3.28692615e-01],\n",
            "       [ 1.46397367e-01,  6.06587268e-02,  1.00230172e-01,\n",
            "        -1.89249724e-01, -3.37806851e-01, -1.80896044e-01,\n",
            "        -1.05754800e-01,  2.85496134e-02, -1.34119183e-01,\n",
            "        -1.01014622e-01],\n",
            "       [-3.38358819e-01, -4.37120982e-02, -4.43018168e-01,\n",
            "        -2.22563207e-01,  2.75601260e-02,  3.08303297e-01,\n",
            "         5.97322524e-01, -1.99602842e-01, -2.05339049e-03,\n",
            "        -9.50352922e-02],\n",
            "       [-4.59323600e-02,  8.61005634e-02,  4.78253514e-03,\n",
            "        -1.04951993e-01, -6.50812685e-02,  8.40141326e-02,\n",
            "         8.15410465e-02,  1.47915125e-01, -1.91580042e-01,\n",
            "         2.04042450e-01],\n",
            "       [-2.78101973e-02,  3.34554613e-01, -1.44292966e-01,\n",
            "         2.77343333e-01,  1.56386167e-01, -1.51149198e-01,\n",
            "        -2.71657795e-01, -7.48991966e-02, -3.99352066e-05,\n",
            "         1.73584521e-01],\n",
            "       [ 2.69500345e-01, -1.58927634e-01, -6.21847957e-02,\n",
            "        -1.66173220e-01,  1.76928014e-01, -1.11678891e-01,\n",
            "        -2.61424422e-01, -1.86877787e-01,  1.45744309e-01,\n",
            "        -2.16616228e-01],\n",
            "       [-9.38862339e-02, -4.67128515e-01, -2.40017474e-02,\n",
            "         4.08638746e-01,  1.79128647e-01, -6.75306857e-01,\n",
            "         4.00492102e-01,  2.49419525e-01,  5.54943979e-01,\n",
            "         6.84354678e-02],\n",
            "       [-1.79198250e-01,  1.40082061e-01,  4.38176811e-01,\n",
            "         2.79274136e-01, -2.54651040e-01,  8.47117752e-02,\n",
            "         4.78795879e-02,  1.70354590e-01, -1.95836946e-01,\n",
            "        -3.32489431e-01],\n",
            "       [-4.58409861e-02,  2.22671092e-01, -2.23073334e-01,\n",
            "        -3.15752387e-01, -2.85118490e-01, -3.69524568e-01,\n",
            "         1.36136472e-01,  2.82964379e-01,  3.58557612e-01,\n",
            "         1.85961559e-01],\n",
            "       [ 1.97688013e-01,  2.51087546e-01, -1.03700437e-01,\n",
            "         3.19826454e-01,  4.74476099e-01, -4.86946963e-02,\n",
            "        -3.82429302e-01, -1.17332824e-01,  2.81930696e-02,\n",
            "        -4.98583131e-02],\n",
            "       [ 2.25345686e-01,  6.17202111e-02, -2.17275321e-01,\n",
            "        -3.25070694e-02, -2.13015944e-01,  9.28634405e-02,\n",
            "         2.61535913e-01,  1.70364693e-01,  2.76199192e-01,\n",
            "        -4.99290675e-01],\n",
            "       [ 1.76531285e-01, -1.64106954e-02,  1.67044267e-01,\n",
            "        -4.49056737e-02,  1.42717049e-01,  2.78571784e-01,\n",
            "         2.19773322e-01, -2.37833545e-01,  8.10664613e-03,\n",
            "        -1.14698030e-01],\n",
            "       [ 5.59231788e-02, -1.79699123e-01,  2.32640088e-01,\n",
            "        -2.13546380e-01, -2.44476378e-01, -1.22806735e-01,\n",
            "         1.16738185e-01,  1.57968819e-01,  1.69870965e-02,\n",
            "        -1.98615000e-01],\n",
            "       [ 3.71868424e-02,  5.34003556e-01,  5.45505546e-02,\n",
            "        -1.33543283e-01, -1.71312213e-01, -2.86835194e-01,\n",
            "         2.90376604e-01, -4.72616144e-02, -3.20495993e-01,\n",
            "         1.30701020e-01],\n",
            "       [ 1.87988430e-01, -1.57204300e-01,  2.86199629e-01,\n",
            "        -1.34741619e-01, -3.54444198e-02,  1.47300392e-01,\n",
            "         3.58286858e-01, -9.12180468e-02, -2.75586136e-02,\n",
            "         2.08022714e-01],\n",
            "       [ 2.12362617e-01, -8.18599984e-02, -2.01031677e-02,\n",
            "        -1.21195547e-01,  9.91151407e-02,  7.89320748e-03,\n",
            "        -4.15355079e-02, -2.68182248e-01,  9.12458673e-02,\n",
            "         2.32417867e-01]], dtype=float32), array([-0.08014957,  0.00260319, -0.11131007,  0.20276348, -0.20769808,\n",
            "        0.24473988,  0.17719616,  0.04342773, -0.0814095 , -0.19016522],\n",
            "      dtype=float32)]\n"
          ],
          "name": "stdout"
        }
      ]
    },
    {
      "cell_type": "code",
      "metadata": {
        "colab": {
          "base_uri": "https://localhost:8080/",
          "height": 282
        },
        "id": "6kzVsZAblAj7",
        "outputId": "92aadd80-9609-48d9-93d2-bca4f5395daa"
      },
      "source": [
        "df = pd.DataFrame(hist2.history)\n",
        "plt.plot(df)\n",
        "plt.legend(df.columns)"
      ],
      "execution_count": 12,
      "outputs": [
        {
          "output_type": "execute_result",
          "data": {
            "text/plain": [
              "<matplotlib.legend.Legend at 0x7f543b4ecf10>"
            ]
          },
          "metadata": {
            "tags": []
          },
          "execution_count": 12
        },
        {
          "output_type": "display_data",
          "data": {
            "image/png": "[encoded data removed]",
            "text/plain": [
              "<Figure size 432x288 with 1 Axes>"
            ]
          },
          "metadata": {
            "tags": [],
            "needs_background": "light"
          }
        }
      ]
    },
    {
      "cell_type": "markdown",
      "metadata": {
        "id": "dx9cJWGJ3of-"
      },
      "source": [
        "# Question F\n",
        "\n",
        "## 3)"
      ]
    },
    {
      "cell_type": "code",
      "metadata": {
        "colab": {
          "base_uri": "https://localhost:8080/"
        },
        "id": "3e8Q7gr5lHKP",
        "outputId": "7a42db9a-2ae1-4563-8e62-3d2094e08102"
      },
      "source": [
        "# create layers input, hidden1, hidden2, hidden3 and output respectively and create the model\n",
        "input1 = keras.layers.Flatten(input_shape=[28,28])\n",
        "hidden1 = keras.layers.Dense(100, activation='relu', name=\"Hidden1\")\n",
        "hidden2 = keras.layers.Dense(100, activation='relu', name=\"Hidden2\")\n",
        "hidden3 = keras.layers.Dense(100, activation='relu', name=\"Hidden3\")\n",
        "output = keras.layers.Dense(10, activation='softmax', name=\"Output\" )\n",
        "model3 = keras.models.Sequential([input1, hidden1, hidden2, hidden3, output])\n",
        "model3.compile(loss='sparse_categorical_crossentropy', optimizer='SGD', metrics=['accuracy'])\n",
        "model3.summary()"
      ],
      "execution_count": 13,
      "outputs": [
        {
          "output_type": "stream",
          "text": [
            "Model: \"sequential_2\"\n",
            "_________________________________________________________________\n",
            "Layer (type)                 Output Shape              Param #   \n",
            "=================================================================\n",
            "flatten_2 (Flatten)          (None, 784)               0         \n",
            "_________________________________________________________________\n",
            "Hidden1 (Dense)              (None, 100)               78500     \n",
            "_________________________________________________________________\n",
            "Hidden2 (Dense)              (None, 100)               10100     \n",
            "_________________________________________________________________\n",
            "Hidden3 (Dense)              (None, 100)               10100     \n",
            "_________________________________________________________________\n",
            "Output (Dense)               (None, 10)                1010      \n",
            "=================================================================\n",
            "Total params: 99,710\n",
            "Trainable params: 99,710\n",
            "Non-trainable params: 0\n",
            "_________________________________________________________________\n"
          ],
          "name": "stdout"
        }
      ]
    },
    {
      "cell_type": "code",
      "metadata": {
        "id": "wN-KUYWSlRzJ",
        "colab": {
          "base_uri": "https://localhost:8080/"
        },
        "outputId": "58e64647-7fe3-4ea2-d75a-a1d1de85c303"
      },
      "source": [
        "hist3 = model3.fit(X_train, Y_train, epochs=20, validation_data=(X_valid, Y_valid), verbose=2)"
      ],
      "execution_count": 14,
      "outputs": [
        {
          "output_type": "stream",
          "text": [
            "Epoch 1/20\n",
            "1688/1688 - 3s - loss: 0.7525 - accuracy: 0.7430 - val_loss: 0.4987 - val_accuracy: 0.8248\n",
            "Epoch 2/20\n",
            "1688/1688 - 3s - loss: 0.4748 - accuracy: 0.8288 - val_loss: 0.4877 - val_accuracy: 0.8237\n",
            "Epoch 3/20\n",
            "1688/1688 - 3s - loss: 0.4281 - accuracy: 0.8444 - val_loss: 0.4792 - val_accuracy: 0.8210\n",
            "Epoch 4/20\n",
            "1688/1688 - 3s - loss: 0.4022 - accuracy: 0.8545 - val_loss: 0.4262 - val_accuracy: 0.8460\n",
            "Epoch 5/20\n",
            "1688/1688 - 3s - loss: 0.3812 - accuracy: 0.8602 - val_loss: 0.3942 - val_accuracy: 0.8575\n",
            "Epoch 6/20\n",
            "1688/1688 - 3s - loss: 0.3655 - accuracy: 0.8665 - val_loss: 0.3661 - val_accuracy: 0.8667\n",
            "Epoch 7/20\n",
            "1688/1688 - 3s - loss: 0.3531 - accuracy: 0.8700 - val_loss: 0.3676 - val_accuracy: 0.8663\n",
            "Epoch 8/20\n",
            "1688/1688 - 3s - loss: 0.3415 - accuracy: 0.8750 - val_loss: 0.3638 - val_accuracy: 0.8687\n",
            "Epoch 9/20\n",
            "1688/1688 - 3s - loss: 0.3313 - accuracy: 0.8774 - val_loss: 0.3556 - val_accuracy: 0.8718\n",
            "Epoch 10/20\n",
            "1688/1688 - 3s - loss: 0.3212 - accuracy: 0.8821 - val_loss: 0.3636 - val_accuracy: 0.8668\n",
            "Epoch 11/20\n",
            "1688/1688 - 3s - loss: 0.3126 - accuracy: 0.8846 - val_loss: 0.4099 - val_accuracy: 0.8460\n",
            "Epoch 12/20\n",
            "1688/1688 - 3s - loss: 0.3049 - accuracy: 0.8863 - val_loss: 0.3767 - val_accuracy: 0.8628\n",
            "Epoch 13/20\n",
            "1688/1688 - 3s - loss: 0.2980 - accuracy: 0.8897 - val_loss: 0.3341 - val_accuracy: 0.8770\n",
            "Epoch 14/20\n",
            "1688/1688 - 3s - loss: 0.2912 - accuracy: 0.8927 - val_loss: 0.3329 - val_accuracy: 0.8780\n",
            "Epoch 15/20\n",
            "1688/1688 - 2s - loss: 0.2841 - accuracy: 0.8948 - val_loss: 0.3445 - val_accuracy: 0.8765\n",
            "Epoch 16/20\n",
            "1688/1688 - 3s - loss: 0.2781 - accuracy: 0.8984 - val_loss: 0.3266 - val_accuracy: 0.8785\n",
            "Epoch 17/20\n",
            "1688/1688 - 3s - loss: 0.2721 - accuracy: 0.8997 - val_loss: 0.3334 - val_accuracy: 0.8783\n",
            "Epoch 18/20\n",
            "1688/1688 - 3s - loss: 0.2678 - accuracy: 0.9005 - val_loss: 0.3277 - val_accuracy: 0.8820\n",
            "Epoch 19/20\n",
            "1688/1688 - 3s - loss: 0.2627 - accuracy: 0.9030 - val_loss: 0.3457 - val_accuracy: 0.8715\n",
            "Epoch 20/20\n",
            "1688/1688 - 3s - loss: 0.2572 - accuracy: 0.9041 - val_loss: 0.3174 - val_accuracy: 0.8823\n"
          ],
          "name": "stdout"
        }
      ]
    },
    {
      "cell_type": "code",
      "metadata": {
        "id": "sJZbveaEvj99"
      },
      "source": [
        "print(hist3.history)\n",
        "print(model3.get_weights())\n"
      ],
      "execution_count": null,
      "outputs": []
    },
    {
      "cell_type": "code",
      "metadata": {
        "colab": {
          "base_uri": "https://localhost:8080/",
          "height": 282
        },
        "id": "Z0-Akamrllx2",
        "outputId": "2f001832-e750-4e7f-cebb-af28ff07aafb"
      },
      "source": [
        "df = pd.DataFrame(hist3.history)\n",
        "plt.plot(df)\n",
        "plt.legend(df.columns)"
      ],
      "execution_count": 15,
      "outputs": [
        {
          "output_type": "execute_result",
          "data": {
            "text/plain": [
              "<matplotlib.legend.Legend at 0x7f543768b5d0>"
            ]
          },
          "metadata": {
            "tags": []
          },
          "execution_count": 15
        },
        {
          "output_type": "display_data",
          "data": {
            "image/png": "[encoded data removed]",
            "text/plain": [
              "<Figure size 432x288 with 1 Axes>"
            ]
          },
          "metadata": {
            "tags": [],
            "needs_background": "light"
          }
        }
      ]
    }
  ]
}