{
  "nbformat": 4,
  "nbformat_minor": 0,
  "metadata": {
    "colab": {
      "name": "Assignment5.ipynb",
      "provenance": [],
      "authorship_tag": "ABX9TyM9ozUKEM7ZDwrbme1vtwYf",
      "include_colab_link": true
    },
    "kernelspec": {
      "name": "python3",
      "display_name": "Python 3"
    },
    "language_info": {
      "name": "python"
    }
  },
  "cells": [
    {
      "cell_type": "markdown",
      "metadata": {
        "id": "view-in-github",
        "colab_type": "text"
      },
      "source": [
        "<a href=\"https://colab.research.google.com/github/GuptaNavdeep1983/CS767/blob/main/Assignment5.ipynb\" target=\"_parent\"><img src=\"https://colab.research.google.com/assets/colab-badge.svg\" alt=\"Open In Colab\"/></a>"
      ]
    },
    {
      "cell_type": "code",
      "metadata": {
        "id": "0n1n6v9XSCOv"
      },
      "source": [
        "import tensorflow as tf\n",
        "from tensorflow import keras\n",
        "import pandas as pd\n",
        "import matplotlib.pyplot as plt\n",
        "import numpy as np\n"
      ],
      "execution_count": 7,
      "outputs": []
    },
    {
      "cell_type": "code",
      "metadata": {
        "id": "edqODL3aTrGn"
      },
      "source": [
        "fashion_mnist = keras.datasets.fashion_mnist"
      ],
      "execution_count": 8,
      "outputs": []
    },
    {
      "cell_type": "code",
      "metadata": {
        "colab": {
          "base_uri": "https://localhost:8080/"
        },
        "id": "ksBo43rLUFXE",
        "outputId": "1bfe0362-413d-4733-f1bd-a4b1a87a2127"
      },
      "source": [
        "(X_train_full, Y_train_full), (X_test, Y_test) = fashion_mnist.load_data()"
      ],
      "execution_count": 9,
      "outputs": [
        {
          "output_type": "stream",
          "text": [
            "Downloading data from https://storage.googleapis.com/tensorflow/tf-keras-datasets/train-labels-idx1-ubyte.gz\n",
            "32768/29515 [=================================] - 0s 0us/step\n",
            "Downloading data from https://storage.googleapis.com/tensorflow/tf-keras-datasets/train-images-idx3-ubyte.gz\n",
            "26427392/26421880 [==============================] - 0s 0us/step\n",
            "Downloading data from https://storage.googleapis.com/tensorflow/tf-keras-datasets/t10k-labels-idx1-ubyte.gz\n",
            "8192/5148 [===============================================] - 0s 0us/step\n",
            "Downloading data from https://storage.googleapis.com/tensorflow/tf-keras-datasets/t10k-images-idx3-ubyte.gz\n",
            "4423680/4422102 [==============================] - 0s 0us/step\n"
          ],
          "name": "stdout"
        }
      ]
    },
    {
      "cell_type": "code",
      "metadata": {
        "colab": {
          "base_uri": "https://localhost:8080/"
        },
        "id": "g9FioyGsWjIP",
        "outputId": "79442039-68a8-40e0-dbfc-304597bb8ff9"
      },
      "source": [
        "X_train_full.shape"
      ],
      "execution_count": 11,
      "outputs": [
        {
          "output_type": "execute_result",
          "data": {
            "text/plain": [
              "(60000, 28, 28)"
            ]
          },
          "metadata": {
            "tags": []
          },
          "execution_count": 11
        }
      ]
    },
    {
      "cell_type": "code",
      "metadata": {
        "id": "UicvcOa2UOAb"
      },
      "source": [
        "X_valid, X_train = X_train_full[:6000]/255.0 , X_train_full[6000:]/255.0\n",
        "Y_valid, Y_train = Y_train_full[:6000] , Y_train_full[6000:]\n",
        "X_test = X_test / 255.0"
      ],
      "execution_count": 12,
      "outputs": []
    },
    {
      "cell_type": "code",
      "metadata": {
        "id": "ghOsnZw3Ww8E"
      },
      "source": [
        "model = keras.models.Sequential()\n",
        "model.add(keras.layers.Flatten(input_shape=[28,28]))\n",
        "model.add(keras.layers.Dense(100, activation='relu', name=\"Hidden1\"))\n",
        "model.add(keras.layers.Dense(10, activation='softmax',name=\"Output\" ))\n",
        "\n",
        "model.compile(loss='sparse_categorical_crossentropy', optimizer='SGD', metrics=['accuracy'])\n"
      ],
      "execution_count": 35,
      "outputs": []
    },
    {
      "cell_type": "code",
      "metadata": {
        "colab": {
          "base_uri": "https://localhost:8080/"
        },
        "id": "f6yMiR9wiS2A",
        "outputId": "52deb549-6a1e-46d3-93a7-14afa49ad7aa"
      },
      "source": [
        "model.summary()"
      ],
      "execution_count": 44,
      "outputs": [
        {
          "output_type": "stream",
          "text": [
            "Model: \"sequential_3\"\n",
            "_________________________________________________________________\n",
            "Layer (type)                 Output Shape              Param #   \n",
            "=================================================================\n",
            "flatten_3 (Flatten)          (None, 784)               0         \n",
            "_________________________________________________________________\n",
            "Hidden1 (Dense)              (None, 100)               78500     \n",
            "_________________________________________________________________\n",
            "Output (Dense)               (None, 10)                1010      \n",
            "=================================================================\n",
            "Total params: 79,510\n",
            "Trainable params: 79,510\n",
            "Non-trainable params: 0\n",
            "_________________________________________________________________\n"
          ],
          "name": "stdout"
        }
      ]
    },
    {
      "cell_type": "code",
      "metadata": {
        "colab": {
          "base_uri": "https://localhost:8080/"
        },
        "id": "G5CtvinLX6mS",
        "outputId": "5d8984d1-cab3-4e02-d279-d20c39d13cbe"
      },
      "source": [
        "history = model.fit(X_train, Y_train,epochs=20, batch_size=32, validation_data=(X_valid, Y_valid), verbose=1)"
      ],
      "execution_count": 36,
      "outputs": [
        {
          "output_type": "stream",
          "text": [
            "Epoch 1/20\n",
            "1688/1688 [==============================] - 4s 2ms/step - loss: 0.7740 - accuracy: 0.7527 - val_loss: 0.5581 - val_accuracy: 0.8147\n",
            "Epoch 2/20\n",
            "1688/1688 [==============================] - 3s 2ms/step - loss: 0.5231 - accuracy: 0.8217 - val_loss: 0.4956 - val_accuracy: 0.8357\n",
            "Epoch 3/20\n",
            "1688/1688 [==============================] - 3s 2ms/step - loss: 0.4772 - accuracy: 0.8360 - val_loss: 0.4581 - val_accuracy: 0.8443\n",
            "Epoch 4/20\n",
            "1688/1688 [==============================] - 3s 2ms/step - loss: 0.4503 - accuracy: 0.8434 - val_loss: 0.4401 - val_accuracy: 0.8490\n",
            "Epoch 5/20\n",
            "1688/1688 [==============================] - 3s 2ms/step - loss: 0.4325 - accuracy: 0.8497 - val_loss: 0.4501 - val_accuracy: 0.8475\n",
            "Epoch 6/20\n",
            "1688/1688 [==============================] - 3s 2ms/step - loss: 0.4190 - accuracy: 0.8545 - val_loss: 0.4275 - val_accuracy: 0.8525\n",
            "Epoch 7/20\n",
            "1688/1688 [==============================] - 3s 2ms/step - loss: 0.4069 - accuracy: 0.8586 - val_loss: 0.4076 - val_accuracy: 0.8603\n",
            "Epoch 8/20\n",
            "1688/1688 [==============================] - 3s 2ms/step - loss: 0.3969 - accuracy: 0.8618 - val_loss: 0.4047 - val_accuracy: 0.8633\n",
            "Epoch 9/20\n",
            "1688/1688 [==============================] - 3s 2ms/step - loss: 0.3884 - accuracy: 0.8645 - val_loss: 0.3959 - val_accuracy: 0.8645\n",
            "Epoch 10/20\n",
            "1688/1688 [==============================] - 3s 2ms/step - loss: 0.3804 - accuracy: 0.8668 - val_loss: 0.3961 - val_accuracy: 0.8650\n",
            "Epoch 11/20\n",
            "1688/1688 [==============================] - 3s 2ms/step - loss: 0.3737 - accuracy: 0.8686 - val_loss: 0.4001 - val_accuracy: 0.8615\n",
            "Epoch 12/20\n",
            "1688/1688 [==============================] - 3s 2ms/step - loss: 0.3676 - accuracy: 0.8709 - val_loss: 0.4011 - val_accuracy: 0.8612\n",
            "Epoch 13/20\n",
            "1688/1688 [==============================] - 3s 2ms/step - loss: 0.3616 - accuracy: 0.8733 - val_loss: 0.3943 - val_accuracy: 0.8618\n",
            "Epoch 14/20\n",
            "1688/1688 [==============================] - 3s 2ms/step - loss: 0.3555 - accuracy: 0.8737 - val_loss: 0.3820 - val_accuracy: 0.8685\n",
            "Epoch 15/20\n",
            "1688/1688 [==============================] - 3s 2ms/step - loss: 0.3501 - accuracy: 0.8762 - val_loss: 0.3696 - val_accuracy: 0.8715\n",
            "Epoch 16/20\n",
            "1688/1688 [==============================] - 3s 2ms/step - loss: 0.3456 - accuracy: 0.8774 - val_loss: 0.3797 - val_accuracy: 0.8643\n",
            "Epoch 17/20\n",
            "1688/1688 [==============================] - 3s 2ms/step - loss: 0.3409 - accuracy: 0.8796 - val_loss: 0.3606 - val_accuracy: 0.8740\n",
            "Epoch 18/20\n",
            "1688/1688 [==============================] - 3s 2ms/step - loss: 0.3366 - accuracy: 0.8815 - val_loss: 0.3573 - val_accuracy: 0.8742\n",
            "Epoch 19/20\n",
            "1688/1688 [==============================] - 3s 2ms/step - loss: 0.3322 - accuracy: 0.8831 - val_loss: 0.3785 - val_accuracy: 0.8678\n",
            "Epoch 20/20\n",
            "1688/1688 [==============================] - 3s 2ms/step - loss: 0.3284 - accuracy: 0.8846 - val_loss: 0.3677 - val_accuracy: 0.8718\n"
          ],
          "name": "stdout"
        }
      ]
    },
    {
      "cell_type": "code",
      "metadata": {
        "colab": {
          "base_uri": "https://localhost:8080/",
          "height": 283
        },
        "id": "TLuhcE8Bd0zk",
        "outputId": "adb8668c-b906-46d7-d6e6-d5403b119603"
      },
      "source": [
        "df = pd.DataFrame(history.history)\n",
        "plt.plot(df)\n",
        "plt.legend(df.columns)\n"
      ],
      "execution_count": 37,
      "outputs": [
        {
          "output_type": "execute_result",
          "data": {
            "text/plain": [
              "<matplotlib.legend.Legend at 0x7f7ae4fa7f50>"
            ]
          },
          "metadata": {
            "tags": []
          },
          "execution_count": 37
        },
        {
          "output_type": "display_data",
          "data": {
            "image/png": "[encoded data removed]",
            "text/plain": [
              "<Figure size 432x288 with 1 Axes>"
            ]
          },
          "metadata": {
            "tags": [],
            "needs_background": "light"
          }
        }
      ]
    },
    {
      "cell_type": "code",
      "metadata": {
        "colab": {
          "base_uri": "https://localhost:8080/",
          "height": 171
        },
        "id": "A5HjYjP4YsQj",
        "outputId": "3f9b3297-d61a-4156-dc38-151e6f8f7956"
      },
      "source": [
        "model.layers[3]"
      ],
      "execution_count": 43,
      "outputs": [
        {
          "output_type": "error",
          "ename": "IndexError",
          "evalue": "ignored",
          "traceback": [
            "\u001b[0;31m---------------------------------------------------------------------------\u001b[0m",
            "\u001b[0;31mIndexError\u001b[0m                                Traceback (most recent call last)",
            "\u001b[0;32m<ipython-input-43-989601bded3c>\u001b[0m in \u001b[0;36m<module>\u001b[0;34m()\u001b[0m\n\u001b[0;32m----> 1\u001b[0;31m \u001b[0mmodel\u001b[0m\u001b[0;34m.\u001b[0m\u001b[0mlayers\u001b[0m\u001b[0;34m[\u001b[0m\u001b[0;36m3\u001b[0m\u001b[0;34m]\u001b[0m\u001b[0;34m\u001b[0m\u001b[0;34m\u001b[0m\u001b[0m\n\u001b[0m",
            "\u001b[0;31mIndexError\u001b[0m: list index out of range"
          ]
        }
      ]
    }
  ]
}