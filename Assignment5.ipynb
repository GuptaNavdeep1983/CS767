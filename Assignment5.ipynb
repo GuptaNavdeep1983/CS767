{
  "nbformat": 4,
  "nbformat_minor": 0,
  "metadata": {
    "colab": {
      "name": "Assignment5.ipynb",
      "provenance": [],
      "authorship_tag": "ABX9TyMNS0z97DOw98nk4BLkh0Ui",
      "include_colab_link": true
    },
    "kernelspec": {
      "name": "python3",
      "display_name": "Python 3"
    },
    "language_info": {
      "name": "python"
    }
  },
  "cells": [
    {
      "cell_type": "markdown",
      "metadata": {
        "id": "view-in-github",
        "colab_type": "text"
      },
      "source": [
        "<a href=\"https://colab.research.google.com/github/GuptaNavdeep1983/CS767/blob/main/Assignment5.ipynb\" target=\"_parent\"><img src=\"https://colab.research.google.com/assets/colab-badge.svg\" alt=\"Open In Colab\"/></a>"
      ]
    },
    {
      "cell_type": "markdown",
      "metadata": {
        "id": "0jUK0HHx3uDl"
      },
      "source": [
        "# Question 1)\n",
        "## Keras.io References/learnings\n",
        "\n",
        "* Keras Tuner (https://keras.io/keras_tuner/)\n",
        "Keras Tuner is an optimization framework that solves the pain of hyperparameter search.\n",
        "\n",
        "* Transfer learning & fine-tuning (https://keras.io/guides/transfer_learning/)\n",
        "Transfer learning consists of taking features learned on one problem, and leveraging them on a new, similar problem. \n",
        "\n",
        "* Making layers and models via subclassing (https://keras.io/guides/making_new_layers_and_models_via_subclassing/)\n",
        "Keras provides an option to inherit and customize the layers and create custom models\n",
        "\n",
        "* Dropout layer (https://keras.io/api/layers/regularization_layers/dropout/)\n",
        "The Dropout layer randomly sets input units to 0 with a frequency of rate at each step during training time, which helps prevent overfitting\n",
        "\n",
        "* ModelCheckpoint (https://keras.io/api/callbacks/model_checkpoint/)\n",
        "ModelCheckpoint callback is used in conjunction with training using model.fit() to save a model or weights (in a checkpoint file) at some interval, so the model or weights can be loaded later to continue the training from the state saved."
      ]
    },
    {
      "cell_type": "code",
      "metadata": {
        "id": "0n1n6v9XSCOv"
      },
      "source": [
        "import tensorflow as tf\n",
        "from tensorflow import keras\n",
        "import pandas as pd\n",
        "import matplotlib.pyplot as plt\n",
        "import numpy as np\n",
        "from sklearn import preprocessing\n"
      ],
      "execution_count": 1,
      "outputs": []
    },
    {
      "cell_type": "markdown",
      "metadata": {
        "id": "sCtFXCYy2qaz"
      },
      "source": [
        "# Question A)"
      ]
    },
    {
      "cell_type": "code",
      "metadata": {
        "id": "edqODL3aTrGn"
      },
      "source": [
        "\n",
        "\n",
        "fashion_mnist = keras.datasets.fashion_mnist\n",
        "\n",
        "# Load dataset  \n",
        "(X_train_full, Y_train_full), (X_test, Y_test) = fashion_mnist.load_data()\n",
        "\n",
        "# Check shape of inputs\n",
        "X_train_full.shape"
      ],
      "execution_count": 2,
      "outputs": []
    },
    {
      "cell_type": "markdown",
      "metadata": {
        "id": "zkgYqBcb2v3X"
      },
      "source": [
        "# Question B)"
      ]
    },
    {
      "cell_type": "code",
      "metadata": {
        "id": "UicvcOa2UOAb"
      },
      "source": [
        "# divide datasets into training and validation set\n",
        "X_valid, X_train = X_train_full[:6000] , X_train_full[6000:]\n",
        "Y_valid, Y_train = Y_train_full[:6000] , Y_train_full[6000:]"
      ],
      "execution_count": 5,
      "outputs": []
    },
    {
      "cell_type": "markdown",
      "metadata": {
        "id": "j_Uv9Uay2zum"
      },
      "source": [
        "# Question C) "
      ]
    },
    {
      "cell_type": "code",
      "metadata": {
        "id": "i3mFsqGisP2q"
      },
      "source": [
        "# min-max normalization\n",
        "min_max_scaler = preprocessing.MinMaxScaler()\n",
        "X_train_normalized = []\n",
        "X_valid_normalized = []\n",
        "X_test_normalized = []\n",
        "for image_idx, image in enumerate(X_train):\n",
        "  X_train_normalized.append(min_max_scaler.fit_transform(image))\n",
        "for image_idx, image in enumerate(X_valid):\n",
        "  X_valid_normalized.append(min_max_scaler.fit_transform(image))\n",
        "for image_idx, image in enumerate(X_test):\n",
        "  X_test_normalized.append(min_max_scaler.fit_transform(image))\n",
        "\n",
        "# convert to arrays\n",
        "X_train = np.array(X_train_normalized)\n",
        "X_valid = np.array(X_valid_normalized)\n",
        "X_test = np.array(X_test_normalized)"
      ],
      "execution_count": 6,
      "outputs": []
    },
    {
      "cell_type": "markdown",
      "metadata": {
        "id": "TWylSnrh27K3"
      },
      "source": [
        "# Question D, E)"
      ]
    },
    {
      "cell_type": "code",
      "metadata": {
        "id": "ghOsnZw3Ww8E"
      },
      "source": [
        "# create layers input, hidden and output respectively and create the model\n",
        "input1 = keras.layers.Flatten(input_shape=[28,28])\n",
        "hidden1 = keras.layers.Dense(100, activation='relu', name=\"Hidden1\")\n",
        "output = keras.layers.Dense(10, activation='softmax', name=\"Output\" )\n",
        "\n",
        "model1 = keras.models.Sequential([input1, hidden1, output])\n",
        "\n",
        "# compile the model with the loss, optimizer and metrics\n",
        "model1.compile(loss='sparse_categorical_crossentropy', optimizer='SGD', metrics=['accuracy'])\n",
        "\n",
        "# check model summary\n",
        "model1.summary()"
      ],
      "execution_count": 18,
      "outputs": []
    },
    {
      "cell_type": "code",
      "metadata": {
        "colab": {
          "base_uri": "https://localhost:8080/"
        },
        "id": "G5CtvinLX6mS",
        "outputId": "930cc04a-18ea-4d1f-b51c-a29be1758a46"
      },
      "source": [
        "# train the model\n",
        "# the batch size control the number of steps executed in each step in each epoch\n",
        "# for 54000 images, 1688 steps are executed to complete one pass through all the images with a batch size of 32\n",
        "hist1 = model1.fit(X_train, Y_train,epochs=20, batch_size=32, validation_data=(X_valid, Y_valid), verbose=2)"
      ],
      "execution_count": 19,
      "outputs": [
        {
          "output_type": "stream",
          "text": [
            "Epoch 1/20\n",
            "1688/1688 - 3s - loss: 0.7306 - accuracy: 0.7532 - val_loss: 0.5235 - val_accuracy: 0.8185\n",
            "Epoch 2/20\n",
            "1688/1688 - 2s - loss: 0.4991 - accuracy: 0.8231 - val_loss: 0.4698 - val_accuracy: 0.8400\n",
            "Epoch 3/20\n",
            "1688/1688 - 2s - loss: 0.4552 - accuracy: 0.8371 - val_loss: 0.4552 - val_accuracy: 0.8392\n",
            "Epoch 4/20\n",
            "1688/1688 - 2s - loss: 0.4294 - accuracy: 0.8470 - val_loss: 0.4286 - val_accuracy: 0.8507\n",
            "Epoch 5/20\n",
            "1688/1688 - 2s - loss: 0.4108 - accuracy: 0.8539 - val_loss: 0.4204 - val_accuracy: 0.8515\n",
            "Epoch 6/20\n",
            "1688/1688 - 2s - loss: 0.3966 - accuracy: 0.8573 - val_loss: 0.3991 - val_accuracy: 0.8618\n",
            "Epoch 7/20\n",
            "1688/1688 - 2s - loss: 0.3844 - accuracy: 0.8622 - val_loss: 0.4021 - val_accuracy: 0.8540\n",
            "Epoch 8/20\n",
            "1688/1688 - 2s - loss: 0.3740 - accuracy: 0.8660 - val_loss: 0.3763 - val_accuracy: 0.8670\n",
            "Epoch 9/20\n",
            "1688/1688 - 2s - loss: 0.3652 - accuracy: 0.8694 - val_loss: 0.3964 - val_accuracy: 0.8560\n",
            "Epoch 10/20\n",
            "1688/1688 - 2s - loss: 0.3578 - accuracy: 0.8714 - val_loss: 0.4024 - val_accuracy: 0.8505\n",
            "Epoch 11/20\n",
            "1688/1688 - 2s - loss: 0.3500 - accuracy: 0.8739 - val_loss: 0.3663 - val_accuracy: 0.8715\n",
            "Epoch 12/20\n",
            "1688/1688 - 2s - loss: 0.3439 - accuracy: 0.8768 - val_loss: 0.3566 - val_accuracy: 0.8692\n",
            "Epoch 13/20\n",
            "1688/1688 - 2s - loss: 0.3382 - accuracy: 0.8790 - val_loss: 0.3535 - val_accuracy: 0.8715\n",
            "Epoch 14/20\n",
            "1688/1688 - 2s - loss: 0.3335 - accuracy: 0.8789 - val_loss: 0.3557 - val_accuracy: 0.8728\n",
            "Epoch 15/20\n",
            "1688/1688 - 2s - loss: 0.3277 - accuracy: 0.8821 - val_loss: 0.3532 - val_accuracy: 0.8713\n",
            "Epoch 16/20\n",
            "1688/1688 - 2s - loss: 0.3229 - accuracy: 0.8844 - val_loss: 0.3592 - val_accuracy: 0.8742\n",
            "Epoch 17/20\n",
            "1688/1688 - 2s - loss: 0.3195 - accuracy: 0.8850 - val_loss: 0.3526 - val_accuracy: 0.8742\n",
            "Epoch 18/20\n",
            "1688/1688 - 2s - loss: 0.3142 - accuracy: 0.8857 - val_loss: 0.3452 - val_accuracy: 0.8767\n",
            "Epoch 19/20\n",
            "1688/1688 - 2s - loss: 0.3100 - accuracy: 0.8882 - val_loss: 0.3418 - val_accuracy: 0.8797\n",
            "Epoch 20/20\n",
            "1688/1688 - 2s - loss: 0.3063 - accuracy: 0.8890 - val_loss: 0.3360 - val_accuracy: 0.8793\n"
          ],
          "name": "stdout"
        }
      ]
    },
    {
      "cell_type": "markdown",
      "metadata": {
        "id": "JY_1t-Cq3V8w"
      },
      "source": [
        "# Question F\n",
        "## 1) "
      ]
    },
    {
      "cell_type": "code",
      "metadata": {
        "colab": {
          "base_uri": "https://localhost:8080/",
          "height": 282
        },
        "id": "TLuhcE8Bd0zk",
        "outputId": "137e93a2-de01-4751-dfd1-f01518918b2d"
      },
      "source": [
        "# use model metrics and plot to check the trends for loss, accuracy, validation loss and validation accuracy.\n",
        "df = pd.DataFrame(hist1.history)\n",
        "plt.plot(df)\n",
        "plt.legend(df.columns)"
      ],
      "execution_count": 11,
      "outputs": [
        {
          "output_type": "execute_result",
          "data": {
            "text/plain": [
              "<matplotlib.legend.Legend at 0x7fa2b4c3f690>"
            ]
          },
          "metadata": {
            "tags": []
          },
          "execution_count": 11
        },
        {
          "output_type": "display_data",
          "data": {
            "image/png": "[encoded data removed]",
            "text/plain": [
              "<Figure size 432x288 with 1 Axes>"
            ]
          },
          "metadata": {
            "tags": [],
            "needs_background": "light"
          }
        }
      ]
    },
    {
      "cell_type": "markdown",
      "metadata": {
        "id": "1oSiceGf3eb3"
      },
      "source": [
        "# Question F\n",
        "## 2)"
      ]
    },
    {
      "cell_type": "code",
      "metadata": {
        "id": "A5HjYjP4YsQj"
      },
      "source": [
        "# create layers input, hidden1, hidden2 and output respectively and create the model\n",
        "input1 = keras.layers.Flatten(input_shape=[28,28])\n",
        "hidden1 = keras.layers.Dense(100, activation='relu', name=\"Hidden1\")\n",
        "hidden2 = keras.layers.Dense(100, activation='relu', name=\"Hidden2\")\n",
        "output = keras.layers.Dense(10, activation='softmax', name=\"Output\" )\n",
        "model2 = keras.models.Sequential([input1, hidden1, hidden2, output])\n",
        "model2.compile(loss='sparse_categorical_crossentropy', optimizer='SGD', metrics=['accuracy'])"
      ],
      "execution_count": 12,
      "outputs": []
    },
    {
      "cell_type": "code",
      "metadata": {
        "id": "yzLfwCVvkkil"
      },
      "source": [
        "hist2 = model2.fit(X_train, Y_train, epochs=20, validation_data=(X_valid, Y_valid), verbose=2)"
      ],
      "execution_count": 13,
      "outputs": []
    },
    {
      "cell_type": "code",
      "metadata": {
        "colab": {
          "base_uri": "https://localhost:8080/",
          "height": 282
        },
        "id": "6kzVsZAblAj7",
        "outputId": "ab437df1-8a77-45b3-883e-5f6a5d460baf"
      },
      "source": [
        "df = pd.DataFrame(hist2.history)\n",
        "plt.plot(df)\n",
        "plt.legend(df.columns)"
      ],
      "execution_count": 14,
      "outputs": [
        {
          "output_type": "execute_result",
          "data": {
            "text/plain": [
              "<matplotlib.legend.Legend at 0x7fa2b4c51490>"
            ]
          },
          "metadata": {
            "tags": []
          },
          "execution_count": 14
        },
        {
          "output_type": "display_data",
          "data": {
            "image/png": "[encoded data removed]",
            "text/plain": [
              "<Figure size 432x288 with 1 Axes>"
            ]
          },
          "metadata": {
            "tags": [],
            "needs_background": "light"
          }
        }
      ]
    },
    {
      "cell_type": "markdown",
      "metadata": {
        "id": "dx9cJWGJ3of-"
      },
      "source": [
        "# Question F\n",
        "\n",
        "## 3)"
      ]
    },
    {
      "cell_type": "code",
      "metadata": {
        "colab": {
          "base_uri": "https://localhost:8080/"
        },
        "id": "3e8Q7gr5lHKP",
        "outputId": "ac3b1231-8245-4334-ce02-f09fce70a55e"
      },
      "source": [
        "# create layers input, hidden1, hidden2, hidden3 and output respectively and create the model\n",
        "input1 = keras.layers.Flatten(input_shape=[28,28])\n",
        "hidden1 = keras.layers.Dense(100, activation='relu', name=\"Hidden1\")\n",
        "hidden2 = keras.layers.Dense(100, activation='relu', name=\"Hidden2\")\n",
        "hidden3 = keras.layers.Dense(100, activation='relu', name=\"Hidden3\")\n",
        "output = keras.layers.Dense(10, activation='softmax', name=\"Output\" )\n",
        "model3 = keras.models.Sequential([input1, hidden1, hidden2, hidden3, output])\n",
        "model3.compile(loss='sparse_categorical_crossentropy', optimizer='SGD', metrics=['accuracy'])\n",
        "model3.summary()"
      ],
      "execution_count": 15,
      "outputs": [
        {
          "output_type": "stream",
          "text": [
            "Model: \"sequential_2\"\n",
            "_________________________________________________________________\n",
            "Layer (type)                 Output Shape              Param #   \n",
            "=================================================================\n",
            "flatten_2 (Flatten)          (None, 784)               0         \n",
            "_________________________________________________________________\n",
            "Hidden1 (Dense)              (None, 100)               78500     \n",
            "_________________________________________________________________\n",
            "Hidden2 (Dense)              (None, 100)               10100     \n",
            "_________________________________________________________________\n",
            "Hidden3 (Dense)              (None, 100)               10100     \n",
            "_________________________________________________________________\n",
            "Output (Dense)               (None, 10)                1010      \n",
            "=================================================================\n",
            "Total params: 99,710\n",
            "Trainable params: 99,710\n",
            "Non-trainable params: 0\n",
            "_________________________________________________________________\n"
          ],
          "name": "stdout"
        }
      ]
    },
    {
      "cell_type": "code",
      "metadata": {
        "id": "wN-KUYWSlRzJ"
      },
      "source": [
        "hist3 = model3.fit(X_train, Y_train, epochs=20, validation_data=(X_valid, Y_valid), verbose=2)"
      ],
      "execution_count": 16,
      "outputs": []
    },
    {
      "cell_type": "code",
      "metadata": {
        "colab": {
          "base_uri": "https://localhost:8080/",
          "height": 282
        },
        "id": "Z0-Akamrllx2",
        "outputId": "caccf6aa-be6d-4915-f538-16b8dc0ef426"
      },
      "source": [
        "df = pd.DataFrame(hist3.history)\n",
        "plt.plot(df)\n",
        "plt.legend(df.columns)"
      ],
      "execution_count": 17,
      "outputs": [
        {
          "output_type": "execute_result",
          "data": {
            "text/plain": [
              "<matplotlib.legend.Legend at 0x7fa2b35c92d0>"
            ]
          },
          "metadata": {
            "tags": []
          },
          "execution_count": 17
        },
        {
          "output_type": "display_data",
          "data": {
            "image/png": "[encoded data removed]",
            "text/plain": [
              "<Figure size 432x288 with 1 Axes>"
            ]
          },
          "metadata": {
            "tags": [],
            "needs_background": "light"
          }
        }
      ]
    }
  ]
}