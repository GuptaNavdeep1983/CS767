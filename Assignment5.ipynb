{
  "nbformat": 4,
  "nbformat_minor": 0,
  "metadata": {
    "colab": {
      "name": "Assignment5.ipynb",
      "provenance": [],
      "authorship_tag": "ABX9TyOJGAndX0BpTJDHSWAMNhDO",
      "include_colab_link": true
    },
    "kernelspec": {
      "name": "python3",
      "display_name": "Python 3"
    },
    "language_info": {
      "name": "python"
    }
  },
  "cells": [
    {
      "cell_type": "markdown",
      "metadata": {
        "id": "view-in-github",
        "colab_type": "text"
      },
      "source": [
        "<a href=\"https://colab.research.google.com/github/GuptaNavdeep1983/CS767/blob/main/Assignment5.ipynb\" target=\"_parent\"><img src=\"https://colab.research.google.com/assets/colab-badge.svg\" alt=\"Open In Colab\"/></a>"
      ]
    },
    {
      "cell_type": "code",
      "metadata": {
        "id": "0n1n6v9XSCOv"
      },
      "source": [
        "import tensorflow as tf\n",
        "from tensorflow import keras\n",
        "import pandas as pd\n",
        "import matplotlib.pyplot as plt\n",
        "import numpy as np"
      ],
      "execution_count": 1,
      "outputs": []
    },
    {
      "cell_type": "code",
      "metadata": {
        "id": "edqODL3aTrGn"
      },
      "source": [
        "fashion_mnist = keras.datasets.fashion_mnist"
      ],
      "execution_count": 2,
      "outputs": []
    },
    {
      "cell_type": "code",
      "metadata": {
        "id": "ksBo43rLUFXE"
      },
      "source": [
        "(X_train_full, Y_train_full), (X_test, Y_test) = fashion_mnist.load_data()"
      ],
      "execution_count": 3,
      "outputs": []
    },
    {
      "cell_type": "code",
      "metadata": {
        "colab": {
          "base_uri": "https://localhost:8080/"
        },
        "id": "g9FioyGsWjIP",
        "outputId": "1f7d61d8-463d-48b6-f6df-5e2f2eda5de7"
      },
      "source": [
        "X_train_full.shape"
      ],
      "execution_count": 4,
      "outputs": [
        {
          "output_type": "execute_result",
          "data": {
            "text/plain": [
              "(60000, 28, 28)"
            ]
          },
          "metadata": {
            "tags": []
          },
          "execution_count": 4
        }
      ]
    },
    {
      "cell_type": "code",
      "metadata": {
        "id": "UicvcOa2UOAb"
      },
      "source": [
        "X_valid, X_train = X_train_full[:6000]/255.0 , X_train_full[6000:]/255.0\n",
        "Y_valid, Y_train = Y_train_full[:6000] , Y_train_full[6000:]\n",
        "X_test = X_test / 255.0"
      ],
      "execution_count": 5,
      "outputs": []
    },
    {
      "cell_type": "code",
      "metadata": {
        "id": "ghOsnZw3Ww8E"
      },
      "source": [
        "input1 = keras.layers.Flatten(input_shape=[28,28])\n",
        "hidden1 = keras.layers.Dense(100, activation='relu', name=\"Hidden1\")\n",
        "output = keras.layers.Dense(10, activation='softmax', name=\"Output\" )\n",
        "model1 = keras.models.Sequential([input1, hidden1, output])\n",
        "model1.compile(loss='sparse_categorical_crossentropy', optimizer='SGD', metrics=['accuracy'])\n"
      ],
      "execution_count": 6,
      "outputs": []
    },
    {
      "cell_type": "code",
      "metadata": {
        "colab": {
          "base_uri": "https://localhost:8080/"
        },
        "id": "f6yMiR9wiS2A",
        "outputId": "5aec0b81-b84a-4ca3-f27a-226b6e5213f7"
      },
      "source": [
        "model1.summary()"
      ],
      "execution_count": 7,
      "outputs": [
        {
          "output_type": "stream",
          "text": [
            "Model: \"sequential\"\n",
            "_________________________________________________________________\n",
            "Layer (type)                 Output Shape              Param #   \n",
            "=================================================================\n",
            "flatten (Flatten)            (None, 784)               0         \n",
            "_________________________________________________________________\n",
            "Hidden1 (Dense)              (None, 100)               78500     \n",
            "_________________________________________________________________\n",
            "Output (Dense)               (None, 10)                1010      \n",
            "=================================================================\n",
            "Total params: 79,510\n",
            "Trainable params: 79,510\n",
            "Non-trainable params: 0\n",
            "_________________________________________________________________\n"
          ],
          "name": "stdout"
        }
      ]
    },
    {
      "cell_type": "code",
      "metadata": {
        "colab": {
          "base_uri": "https://localhost:8080/"
        },
        "id": "G5CtvinLX6mS",
        "outputId": "775fc933-dcb7-4564-a27c-38113b868af6"
      },
      "source": [
        "hist1 = model1.fit(X_train, Y_train,epochs=20, batch_size=32, validation_data=(X_valid, Y_valid), verbose=0)"
      ],
      "execution_count": 8,
      "outputs": [
        {
          "output_type": "stream",
          "text": [
            "Epoch 1/20\n",
            "1688/1688 [==============================] - 4s 2ms/step - loss: 0.7733 - accuracy: 0.7527 - val_loss: 0.5584 - val_accuracy: 0.8162\n",
            "Epoch 2/20\n",
            "1688/1688 [==============================] - 3s 2ms/step - loss: 0.5290 - accuracy: 0.8203 - val_loss: 0.5175 - val_accuracy: 0.8222\n",
            "Epoch 3/20\n",
            "1688/1688 [==============================] - 3s 2ms/step - loss: 0.4820 - accuracy: 0.8337 - val_loss: 0.4773 - val_accuracy: 0.8355\n",
            "Epoch 4/20\n",
            "1688/1688 [==============================] - 3s 2ms/step - loss: 0.4559 - accuracy: 0.8422 - val_loss: 0.4424 - val_accuracy: 0.8480\n",
            "Epoch 5/20\n",
            "1688/1688 [==============================] - 3s 2ms/step - loss: 0.4377 - accuracy: 0.8490 - val_loss: 0.4417 - val_accuracy: 0.8497\n",
            "Epoch 6/20\n",
            "1688/1688 [==============================] - 3s 2ms/step - loss: 0.4236 - accuracy: 0.8529 - val_loss: 0.4233 - val_accuracy: 0.8522\n",
            "Epoch 7/20\n",
            "1688/1688 [==============================] - 3s 2ms/step - loss: 0.4118 - accuracy: 0.8577 - val_loss: 0.4200 - val_accuracy: 0.8545\n",
            "Epoch 8/20\n",
            "1688/1688 [==============================] - 3s 2ms/step - loss: 0.4024 - accuracy: 0.8603 - val_loss: 0.3984 - val_accuracy: 0.8623\n",
            "Epoch 9/20\n",
            "1688/1688 [==============================] - 3s 2ms/step - loss: 0.3939 - accuracy: 0.8623 - val_loss: 0.3978 - val_accuracy: 0.8608\n",
            "Epoch 10/20\n",
            "1688/1688 [==============================] - 3s 2ms/step - loss: 0.3861 - accuracy: 0.8662 - val_loss: 0.4020 - val_accuracy: 0.8605\n",
            "Epoch 11/20\n",
            "1688/1688 [==============================] - 3s 2ms/step - loss: 0.3784 - accuracy: 0.8688 - val_loss: 0.3897 - val_accuracy: 0.8612\n",
            "Epoch 12/20\n",
            "1688/1688 [==============================] - 3s 2ms/step - loss: 0.3726 - accuracy: 0.8702 - val_loss: 0.3811 - val_accuracy: 0.8673\n",
            "Epoch 13/20\n",
            "1688/1688 [==============================] - 3s 2ms/step - loss: 0.3663 - accuracy: 0.8721 - val_loss: 0.3800 - val_accuracy: 0.8655\n",
            "Epoch 14/20\n",
            "1688/1688 [==============================] - 3s 2ms/step - loss: 0.3612 - accuracy: 0.8741 - val_loss: 0.3754 - val_accuracy: 0.8650\n",
            "Epoch 15/20\n",
            "1688/1688 [==============================] - 3s 2ms/step - loss: 0.3559 - accuracy: 0.8760 - val_loss: 0.3876 - val_accuracy: 0.8660\n",
            "Epoch 16/20\n",
            "1688/1688 [==============================] - 3s 2ms/step - loss: 0.3522 - accuracy: 0.8774 - val_loss: 0.3893 - val_accuracy: 0.8618\n",
            "Epoch 17/20\n",
            "1688/1688 [==============================] - 3s 2ms/step - loss: 0.3466 - accuracy: 0.8782 - val_loss: 0.3628 - val_accuracy: 0.8728\n",
            "Epoch 18/20\n",
            "1688/1688 [==============================] - 3s 2ms/step - loss: 0.3422 - accuracy: 0.8799 - val_loss: 0.3607 - val_accuracy: 0.8762\n",
            "Epoch 19/20\n",
            "1688/1688 [==============================] - 3s 2ms/step - loss: 0.3380 - accuracy: 0.8816 - val_loss: 0.3618 - val_accuracy: 0.8728\n",
            "Epoch 20/20\n",
            "1688/1688 [==============================] - 3s 2ms/step - loss: 0.3342 - accuracy: 0.8827 - val_loss: 0.3671 - val_accuracy: 0.8692\n"
          ],
          "name": "stdout"
        }
      ]
    },
    {
      "cell_type": "code",
      "metadata": {
        "colab": {
          "base_uri": "https://localhost:8080/",
          "height": 285
        },
        "id": "TLuhcE8Bd0zk",
        "outputId": "77ffd9df-1df9-4545-9e92-e85f0754e88f"
      },
      "source": [
        "df = pd.DataFrame(hist1.history)\n",
        "plt.plot(df)\n",
        "plt.legend(df.columns)\n"
      ],
      "execution_count": 9,
      "outputs": [
        {
          "output_type": "execute_result",
          "data": {
            "text/plain": [
              "<matplotlib.legend.Legend at 0x7fbe51ff1cd0>"
            ]
          },
          "metadata": {
            "tags": []
          },
          "execution_count": 9
        },
        {
          "output_type": "display_data",
          "data": {
            "image/png": "[encoded data removed]",
            "text/plain": [
              "<Figure size 432x288 with 1 Axes>"
            ]
          },
          "metadata": {
            "tags": [],
            "needs_background": "light"
          }
        }
      ]
    },
    {
      "cell_type": "code",
      "metadata": {
        "id": "A5HjYjP4YsQj"
      },
      "source": [
        "input1 = keras.layers.Flatten(input_shape=[28,28])\n",
        "hidden1 = keras.layers.Dense(100, activation='relu', name=\"Hidden1\")\n",
        "hidden2 = keras.layers.Dense(100, activation='relu', name=\"Hidden2\")\n",
        "output = keras.layers.Dense(10, activation='softmax', name=\"Output\" )\n",
        "model2 = keras.models.Sequential([input1, hidden1, hidden2, output])\n",
        "model2.compile(loss='sparse_categorical_crossentropy', optimizer='SGD', metrics=['accuracy'])"
      ],
      "execution_count": 10,
      "outputs": []
    },
    {
      "cell_type": "code",
      "metadata": {
        "id": "yzLfwCVvkkil"
      },
      "source": [
        "hist2 = model2.fit(X_train, Y_train, epochs=20, validation_data=(X_valid, Y_valid), verbose=0)"
      ],
      "execution_count": 11,
      "outputs": []
    },
    {
      "cell_type": "code",
      "metadata": {
        "colab": {
          "base_uri": "https://localhost:8080/",
          "height": 283
        },
        "id": "6kzVsZAblAj7",
        "outputId": "150ddf41-7945-4549-c96b-2226f8b6b460"
      },
      "source": [
        "df = pd.DataFrame(hist2.history)\n",
        "plt.plot(df)\n",
        "plt.legend(df.columns)"
      ],
      "execution_count": 12,
      "outputs": [
        {
          "output_type": "execute_result",
          "data": {
            "text/plain": [
              "<matplotlib.legend.Legend at 0x7fbe5095bb10>"
            ]
          },
          "metadata": {
            "tags": []
          },
          "execution_count": 12
        },
        {
          "output_type": "display_data",
          "data": {
            "image/png": "[encoded data removed]",
            "text/plain": [
              "<Figure size 432x288 with 1 Axes>"
            ]
          },
          "metadata": {
            "tags": [],
            "needs_background": "light"
          }
        }
      ]
    },
    {
      "cell_type": "code",
      "metadata": {
        "colab": {
          "base_uri": "https://localhost:8080/"
        },
        "id": "3e8Q7gr5lHKP",
        "outputId": "4923799f-7d56-4a48-8c40-dcff0b0bb3bd"
      },
      "source": [
        "input1 = keras.layers.Flatten(input_shape=[28,28])\n",
        "hidden1 = keras.layers.Dense(100, activation='relu', name=\"Hidden1\")\n",
        "hidden2 = keras.layers.Dense(100, activation='relu', name=\"Hidden2\")\n",
        "hidden3 = keras.layers.Dense(100, activation='relu', name=\"Hidden3\")\n",
        "output = keras.layers.Dense(10, activation='softmax', name=\"Output\" )\n",
        "model3 = keras.models.Sequential([input1, hidden1, hidden2, hidden3, output])\n",
        "model3.compile(loss='sparse_categorical_crossentropy', optimizer='SGD', metrics=['accuracy'])\n",
        "model3.summary()"
      ],
      "execution_count": 13,
      "outputs": [
        {
          "output_type": "stream",
          "text": [
            "Model: \"sequential_2\"\n",
            "_________________________________________________________________\n",
            "Layer (type)                 Output Shape              Param #   \n",
            "=================================================================\n",
            "flatten_2 (Flatten)          (None, 784)               0         \n",
            "_________________________________________________________________\n",
            "Hidden1 (Dense)              (None, 100)               78500     \n",
            "_________________________________________________________________\n",
            "Hidden2 (Dense)              (None, 100)               10100     \n",
            "_________________________________________________________________\n",
            "Hidden3 (Dense)              (None, 100)               10100     \n",
            "_________________________________________________________________\n",
            "Output (Dense)               (None, 10)                1010      \n",
            "=================================================================\n",
            "Total params: 99,710\n",
            "Trainable params: 99,710\n",
            "Non-trainable params: 0\n",
            "_________________________________________________________________\n"
          ],
          "name": "stdout"
        }
      ]
    },
    {
      "cell_type": "code",
      "metadata": {
        "id": "wN-KUYWSlRzJ"
      },
      "source": [
        "hist3 = model3.fit(X_train, Y_train, epochs=20, validation_data=(X_valid, Y_valid), verbose=0)"
      ],
      "execution_count": 14,
      "outputs": []
    },
    {
      "cell_type": "code",
      "metadata": {
        "colab": {
          "base_uri": "https://localhost:8080/",
          "height": 283
        },
        "id": "Z0-Akamrllx2",
        "outputId": "62c82c09-fe81-49c9-a745-4952bca5577c"
      },
      "source": [
        "df = pd.DataFrame(hist3.history)\n",
        "plt.plot(df)\n",
        "plt.legend(df.columns)"
      ],
      "execution_count": 15,
      "outputs": [
        {
          "output_type": "execute_result",
          "data": {
            "text/plain": [
              "<matplotlib.legend.Legend at 0x7fbe4f770650>"
            ]
          },
          "metadata": {
            "tags": []
          },
          "execution_count": 15
        },
        {
          "output_type": "display_data",
          "data": {
            "image/png": "[encoded data removed]",
            "text/plain": [
              "<Figure size 432x288 with 1 Axes>"
            ]
          },
          "metadata": {
            "tags": [],
            "needs_background": "light"
          }
        }
      ]
    }
  ]
}