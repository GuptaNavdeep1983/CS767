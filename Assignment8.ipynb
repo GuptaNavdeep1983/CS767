{
  "nbformat": 4,
  "nbformat_minor": 0,
  "metadata": {
    "colab": {
      "name": "Assignment8.ipynb",
      "provenance": [],
      "authorship_tag": "ABX9TyPxvG9UmdoEofx2yrNHkq4X",
      "include_colab_link": true
    },
    "kernelspec": {
      "name": "python3",
      "display_name": "Python 3"
    },
    "language_info": {
      "name": "python"
    },
    "accelerator": "GPU"
  },
  "cells": [
    {
      "cell_type": "markdown",
      "metadata": {
        "id": "view-in-github",
        "colab_type": "text"
      },
      "source": [
        "<a href=\"https://colab.research.google.com/github/GuptaNavdeep1983/CS767/blob/main/Assignment8.ipynb\" target=\"_parent\"><img src=\"https://colab.research.google.com/assets/colab-badge.svg\" alt=\"Open In Colab\"/></a>"
      ]
    },
    {
      "cell_type": "code",
      "metadata": {
        "id": "6Z6hpQqyLx2u"
      },
      "source": [
        "import keras\n",
        "import tensorflow as tf\n",
        "from numpy import expand_dims\n",
        "from keras.preprocessing.image import load_img\n",
        "from keras.preprocessing.image import img_to_array\n",
        "from keras.preprocessing.image import ImageDataGenerator\n",
        "import numpy as np\n",
        "from sklearn.model_selection import StratifiedKFold, train_test_split"
      ],
      "execution_count": 2,
      "outputs": []
    },
    {
      "cell_type": "code",
      "metadata": {
        "colab": {
          "base_uri": "https://localhost:8080/"
        },
        "id": "Lb01QHDhzLxZ",
        "outputId": "09dcf18c-e66b-46cc-9d34-4d4d4e0ecf32"
      },
      "source": [
        "print(tf.__version__)"
      ],
      "execution_count": 3,
      "outputs": [
        {
          "output_type": "stream",
          "text": [
            "2.5.0\n"
          ],
          "name": "stdout"
        }
      ]
    },
    {
      "cell_type": "markdown",
      "metadata": {
        "id": "S93rMkWAqlJn"
      },
      "source": [
        "#Question 1"
      ]
    },
    {
      "cell_type": "code",
      "metadata": {
        "colab": {
          "base_uri": "https://localhost:8080/"
        },
        "id": "-1Y_uqlAqkTm",
        "outputId": "864577c4-9a00-4b60-a78d-89eadd4ab2f7"
      },
      "source": [
        "model = keras.models.Sequential()\n",
        "model.add(keras.layers.Conv2D(filters=100,kernel_size=(3,3), strides=2, input_shape=(720, 1280, 3), padding=\"SAME\"))\n",
        "model.add(keras.layers.Conv2D(filters=200,kernel_size=(3,3), strides=2, padding=\"SAME\"))\n",
        "model.add(keras.layers.Conv2D(filters=400,kernel_size=(3,3), strides=2, padding=\"SAME\"))\n",
        "model.summary()"
      ],
      "execution_count": 4,
      "outputs": [
        {
          "output_type": "stream",
          "text": [
            "Model: \"sequential\"\n",
            "_________________________________________________________________\n",
            "Layer (type)                 Output Shape              Param #   \n",
            "=================================================================\n",
            "conv2d (Conv2D)              (None, 360, 640, 100)     2800      \n",
            "_________________________________________________________________\n",
            "conv2d_1 (Conv2D)            (None, 180, 320, 200)     180200    \n",
            "_________________________________________________________________\n",
            "conv2d_2 (Conv2D)            (None, 90, 160, 400)      720400    \n",
            "=================================================================\n",
            "Total params: 903,400\n",
            "Trainable params: 903,400\n",
            "Non-trainable params: 0\n",
            "_________________________________________________________________\n"
          ],
          "name": "stdout"
        }
      ]
    },
    {
      "cell_type": "markdown",
      "metadata": {
        "id": "wZbfGisGrKOb"
      },
      "source": [
        "#Subquestion: 1\n",
        "This model has 903400 parameters. \n",
        "#Subquestion: 2\n",
        "Since each parameter is stored in 4 Byte float, so the toal RAM required to store all the parameters would be 903400 X 4 = 3.44 MB RAM.\n",
        "#Subquestion: 3\n",
        "Since each parameter is stored in 8 bits(1 Byte), so the total RAM required to store all the parameters would be 0.86 MB.\n",
        "#Subquestion: 4\n",
        "Since the weights are only stored once for the entire network, training on a mini batch of 20 images will not change the RAM required to store the parameters. "
      ]
    },
    {
      "cell_type": "code",
      "metadata": {
        "colab": {
          "base_uri": "https://localhost:8080/"
        },
        "id": "D66zuEClZ2VJ",
        "outputId": "e385bb29-4465-48de-f0db-66cb0f615387"
      },
      "source": [
        "(X_train_full, y_train_full), (X_test, y_test) = tf.keras.datasets.mnist.load_data()"
      ],
      "execution_count": 5,
      "outputs": [
        {
          "output_type": "stream",
          "text": [
            "Downloading data from https://storage.googleapis.com/tensorflow/tf-keras-datasets/mnist.npz\n",
            "11493376/11490434 [==============================] - 0s 0us/step\n"
          ],
          "name": "stdout"
        }
      ]
    },
    {
      "cell_type": "code",
      "metadata": {
        "id": "PU_--51qweVp"
      },
      "source": [
        "X_train_full = np.expand_dims(X_train_full, axis=3)\n",
        "X_test = np.expand_dims(X_test, axis=3)"
      ],
      "execution_count": 6,
      "outputs": []
    },
    {
      "cell_type": "code",
      "metadata": {
        "id": "1mCETsFGuTS8"
      },
      "source": [
        "X_train_full = tf.map_fn(lambda frame: tf.image.per_image_standardization(frame), X_train_full, dtype=tf.float32).numpy()"
      ],
      "execution_count": 7,
      "outputs": []
    },
    {
      "cell_type": "code",
      "metadata": {
        "id": "BdFtayeevpwx"
      },
      "source": [
        "X_test = tf.map_fn(lambda frame: tf.image.per_image_standardization(frame), X_test, dtype=tf.float32).numpy()"
      ],
      "execution_count": 8,
      "outputs": []
    },
    {
      "cell_type": "code",
      "metadata": {
        "id": "kjeZuIUfv946"
      },
      "source": [
        "x_train, x_valid, y_train, y_valid = train_test_split(X_train_full, y_train_full, test_size=0.1, random_state=42, stratify=y_train_full)"
      ],
      "execution_count": 9,
      "outputs": []
    },
    {
      "cell_type": "code",
      "metadata": {
        "id": "n9AK9Kqlz21G"
      },
      "source": [
        "def step_decay2(epoch, lr):\n",
        "     return lr * tf.math.exp(-0.1)\n",
        "\n",
        "lrate2 = tf.keras.callbacks.LearningRateScheduler(step_decay2)"
      ],
      "execution_count": 10,
      "outputs": []
    },
    {
      "cell_type": "code",
      "metadata": {
        "colab": {
          "base_uri": "https://localhost:8080/"
        },
        "id": "LzVC1X_CL0Qs",
        "outputId": "943e4a95-7637-4892-9176-25dc0de37f1e"
      },
      "source": [
        "earlystopping_cb = keras.callbacks.EarlyStopping (patience=10, restore_best_weights=True)\n",
        "checkpoint_cb = keras.callbacks.ModelCheckpoint (\"mnist_fashion.model.h5\" , save_best_only=True,monitor='val_accuracy')\n",
        "\n",
        "model = keras.models.Sequential()\n",
        "model.add(keras.layers.Conv2D(filters=64,kernel_size=(3,3), input_shape=(28, 28, 1), activation='relu', padding=\"SAME\"))\n",
        "model.add(keras.layers.BatchNormalization())\n",
        "model.add(keras.layers.Conv2D(filters=64,kernel_size=(3,3), activation='relu', padding=\"SAME\"))\n",
        "model.add(keras.layers.BatchNormalization())\n",
        "model.add(keras.layers.MaxPool2D(pool_size=(2,2), strides=2))\n",
        "model.add(keras.layers.Dropout(rate=0.25))\n",
        "model.add(keras.layers.Flatten())\n",
        "model.add(keras.layers.Dense(128, activation='relu'))\n",
        "model.add(keras.layers.BatchNormalization())\n",
        "model.add(keras.layers.Dropout(0.5))\n",
        "model.add(keras.layers.Dense(10, activation='softmax'))\n",
        "\n",
        "model.compile(loss='sparse_categorical_crossentropy', optimizer='Adam', metrics=['accuracy'])\n",
        "print(model.summary())\n",
        "\n",
        "datagen = ImageDataGenerator(width_shift_range=0.2, height_shift_range=0.2, horizontal_flip=True, rotation_range=10, fill_mode='nearest', zoom_range=0.2, shear_range=0.2)\n",
        "it = datagen.flow(x_train, y_train)\n",
        "model.fit(it, epochs=100, batch_size=128, validation_data=(x_valid, y_valid), verbose=2, callbacks=[checkpoint_cb, earlystopping_cb, lrate2])"
      ],
      "execution_count": 15,
      "outputs": [
        {
          "output_type": "stream",
          "text": [
            "Model: \"sequential_5\"\n",
            "_________________________________________________________________\n",
            "Layer (type)                 Output Shape              Param #   \n",
            "=================================================================\n",
            "conv2d_11 (Conv2D)           (None, 28, 28, 64)        640       \n",
            "_________________________________________________________________\n",
            "batch_normalization_12 (Batc (None, 28, 28, 64)        256       \n",
            "_________________________________________________________________\n",
            "conv2d_12 (Conv2D)           (None, 28, 28, 64)        36928     \n",
            "_________________________________________________________________\n",
            "batch_normalization_13 (Batc (None, 28, 28, 64)        256       \n",
            "_________________________________________________________________\n",
            "max_pooling2d_4 (MaxPooling2 (None, 14, 14, 64)        0         \n",
            "_________________________________________________________________\n",
            "dropout_8 (Dropout)          (None, 14, 14, 64)        0         \n",
            "_________________________________________________________________\n",
            "flatten_4 (Flatten)          (None, 12544)             0         \n",
            "_________________________________________________________________\n",
            "dense_8 (Dense)              (None, 128)               1605760   \n",
            "_________________________________________________________________\n",
            "batch_normalization_14 (Batc (None, 128)               512       \n",
            "_________________________________________________________________\n",
            "dropout_9 (Dropout)          (None, 128)               0         \n",
            "_________________________________________________________________\n",
            "dense_9 (Dense)              (None, 10)                1290      \n",
            "=================================================================\n",
            "Total params: 1,645,642\n",
            "Trainable params: 1,645,130\n",
            "Non-trainable params: 512\n",
            "_________________________________________________________________\n",
            "None\n",
            "Epoch 1/100\n",
            "1688/1688 - 21s - loss: 0.9548 - accuracy: 0.6840 - val_loss: 0.5474 - val_accuracy: 0.8112\n",
            "Epoch 2/100\n",
            "1688/1688 - 18s - loss: 0.4923 - accuracy: 0.8418 - val_loss: 0.2405 - val_accuracy: 0.9265\n",
            "Epoch 3/100\n",
            "1688/1688 - 18s - loss: 0.3873 - accuracy: 0.8782 - val_loss: 0.1667 - val_accuracy: 0.9498\n",
            "Epoch 4/100\n",
            "1688/1688 - 20s - loss: 0.3296 - accuracy: 0.8965 - val_loss: 0.1679 - val_accuracy: 0.9515\n",
            "Epoch 5/100\n",
            "1688/1688 - 19s - loss: 0.2973 - accuracy: 0.9085 - val_loss: 0.1324 - val_accuracy: 0.9610\n",
            "Epoch 6/100\n",
            "1688/1688 - 18s - loss: 0.2777 - accuracy: 0.9148 - val_loss: 0.1101 - val_accuracy: 0.9658\n",
            "Epoch 7/100\n",
            "1688/1688 - 19s - loss: 0.2563 - accuracy: 0.9216 - val_loss: 0.1025 - val_accuracy: 0.9683\n",
            "Epoch 8/100\n",
            "1688/1688 - 19s - loss: 0.2451 - accuracy: 0.9255 - val_loss: 0.1045 - val_accuracy: 0.9668\n",
            "Epoch 9/100\n",
            "1688/1688 - 18s - loss: 0.2359 - accuracy: 0.9269 - val_loss: 0.0967 - val_accuracy: 0.9717\n",
            "Epoch 10/100\n",
            "1688/1688 - 18s - loss: 0.2175 - accuracy: 0.9336 - val_loss: 0.0929 - val_accuracy: 0.9705\n",
            "Epoch 11/100\n",
            "1688/1688 - 19s - loss: 0.2124 - accuracy: 0.9360 - val_loss: 0.0761 - val_accuracy: 0.9783\n",
            "Epoch 12/100\n",
            "1688/1688 - 18s - loss: 0.1973 - accuracy: 0.9404 - val_loss: 0.0814 - val_accuracy: 0.9755\n",
            "Epoch 13/100\n",
            "1688/1688 - 18s - loss: 0.1964 - accuracy: 0.9400 - val_loss: 0.0804 - val_accuracy: 0.9755\n",
            "Epoch 14/100\n",
            "1688/1688 - 18s - loss: 0.1900 - accuracy: 0.9437 - val_loss: 0.0725 - val_accuracy: 0.9778\n",
            "Epoch 15/100\n",
            "1688/1688 - 19s - loss: 0.1834 - accuracy: 0.9463 - val_loss: 0.0776 - val_accuracy: 0.9760\n",
            "Epoch 16/100\n",
            "1688/1688 - 18s - loss: 0.1776 - accuracy: 0.9465 - val_loss: 0.0757 - val_accuracy: 0.9767\n",
            "Epoch 17/100\n",
            "1688/1688 - 18s - loss: 0.1753 - accuracy: 0.9467 - val_loss: 0.0688 - val_accuracy: 0.9800\n",
            "Epoch 18/100\n",
            "1688/1688 - 19s - loss: 0.1727 - accuracy: 0.9481 - val_loss: 0.0741 - val_accuracy: 0.9777\n",
            "Epoch 19/100\n",
            "1688/1688 - 19s - loss: 0.1707 - accuracy: 0.9488 - val_loss: 0.0733 - val_accuracy: 0.9777\n",
            "Epoch 20/100\n",
            "1688/1688 - 19s - loss: 0.1611 - accuracy: 0.9506 - val_loss: 0.0687 - val_accuracy: 0.9780\n",
            "Epoch 21/100\n",
            "1688/1688 - 18s - loss: 0.1640 - accuracy: 0.9515 - val_loss: 0.0675 - val_accuracy: 0.9790\n",
            "Epoch 22/100\n",
            "1688/1688 - 17s - loss: 0.1619 - accuracy: 0.9512 - val_loss: 0.0720 - val_accuracy: 0.9793\n",
            "Epoch 23/100\n",
            "1688/1688 - 18s - loss: 0.1588 - accuracy: 0.9519 - val_loss: 0.0646 - val_accuracy: 0.9818\n",
            "Epoch 24/100\n",
            "1688/1688 - 19s - loss: 0.1613 - accuracy: 0.9515 - val_loss: 0.0675 - val_accuracy: 0.9798\n",
            "Epoch 25/100\n",
            "1688/1688 - 18s - loss: 0.1553 - accuracy: 0.9534 - val_loss: 0.0682 - val_accuracy: 0.9785\n",
            "Epoch 26/100\n",
            "1688/1688 - 17s - loss: 0.1551 - accuracy: 0.9528 - val_loss: 0.0672 - val_accuracy: 0.9807\n",
            "Epoch 27/100\n",
            "1688/1688 - 18s - loss: 0.1587 - accuracy: 0.9522 - val_loss: 0.0639 - val_accuracy: 0.9807\n",
            "Epoch 28/100\n",
            "1688/1688 - 18s - loss: 0.1520 - accuracy: 0.9544 - val_loss: 0.0630 - val_accuracy: 0.9815\n",
            "Epoch 29/100\n",
            "1688/1688 - 17s - loss: 0.1551 - accuracy: 0.9535 - val_loss: 0.0625 - val_accuracy: 0.9812\n",
            "Epoch 30/100\n",
            "1688/1688 - 17s - loss: 0.1515 - accuracy: 0.9541 - val_loss: 0.0616 - val_accuracy: 0.9812\n",
            "Epoch 31/100\n",
            "1688/1688 - 19s - loss: 0.1481 - accuracy: 0.9549 - val_loss: 0.0640 - val_accuracy: 0.9810\n",
            "Epoch 32/100\n",
            "1688/1688 - 18s - loss: 0.1474 - accuracy: 0.9562 - val_loss: 0.0643 - val_accuracy: 0.9813\n",
            "Epoch 33/100\n",
            "1688/1688 - 17s - loss: 0.1461 - accuracy: 0.9558 - val_loss: 0.0634 - val_accuracy: 0.9813\n",
            "Epoch 34/100\n",
            "1688/1688 - 17s - loss: 0.1439 - accuracy: 0.9572 - val_loss: 0.0647 - val_accuracy: 0.9813\n",
            "Epoch 35/100\n",
            "1688/1688 - 19s - loss: 0.1502 - accuracy: 0.9546 - val_loss: 0.0635 - val_accuracy: 0.9812\n",
            "Epoch 36/100\n",
            "1688/1688 - 19s - loss: 0.1449 - accuracy: 0.9567 - val_loss: 0.0631 - val_accuracy: 0.9807\n",
            "Epoch 37/100\n",
            "1688/1688 - 19s - loss: 0.1436 - accuracy: 0.9568 - val_loss: 0.0612 - val_accuracy: 0.9818\n",
            "Epoch 38/100\n",
            "1688/1688 - 17s - loss: 0.1473 - accuracy: 0.9566 - val_loss: 0.0620 - val_accuracy: 0.9810\n",
            "Epoch 39/100\n",
            "1688/1688 - 17s - loss: 0.1443 - accuracy: 0.9563 - val_loss: 0.0614 - val_accuracy: 0.9812\n",
            "Epoch 40/100\n",
            "1688/1688 - 19s - loss: 0.1415 - accuracy: 0.9565 - val_loss: 0.0614 - val_accuracy: 0.9813\n",
            "Epoch 41/100\n",
            "1688/1688 - 18s - loss: 0.1446 - accuracy: 0.9565 - val_loss: 0.0610 - val_accuracy: 0.9822\n",
            "Epoch 42/100\n",
            "1688/1688 - 17s - loss: 0.1476 - accuracy: 0.9558 - val_loss: 0.0607 - val_accuracy: 0.9822\n",
            "Epoch 43/100\n",
            "1688/1688 - 17s - loss: 0.1458 - accuracy: 0.9562 - val_loss: 0.0606 - val_accuracy: 0.9823\n",
            "Epoch 44/100\n",
            "1688/1688 - 19s - loss: 0.1476 - accuracy: 0.9555 - val_loss: 0.0616 - val_accuracy: 0.9822\n",
            "Epoch 45/100\n",
            "1688/1688 - 17s - loss: 0.1473 - accuracy: 0.9562 - val_loss: 0.0601 - val_accuracy: 0.9827\n",
            "Epoch 46/100\n",
            "1688/1688 - 17s - loss: 0.1427 - accuracy: 0.9569 - val_loss: 0.0608 - val_accuracy: 0.9822\n",
            "Epoch 47/100\n",
            "1688/1688 - 17s - loss: 0.1422 - accuracy: 0.9567 - val_loss: 0.0605 - val_accuracy: 0.9823\n",
            "Epoch 48/100\n",
            "1688/1688 - 19s - loss: 0.1453 - accuracy: 0.9562 - val_loss: 0.0596 - val_accuracy: 0.9823\n",
            "Epoch 49/100\n",
            "1688/1688 - 17s - loss: 0.1439 - accuracy: 0.9570 - val_loss: 0.0606 - val_accuracy: 0.9822\n",
            "Epoch 50/100\n",
            "1688/1688 - 17s - loss: 0.1445 - accuracy: 0.9563 - val_loss: 0.0594 - val_accuracy: 0.9820\n",
            "Epoch 51/100\n",
            "1688/1688 - 18s - loss: 0.1422 - accuracy: 0.9580 - val_loss: 0.0594 - val_accuracy: 0.9818\n",
            "Epoch 52/100\n",
            "1688/1688 - 18s - loss: 0.1425 - accuracy: 0.9576 - val_loss: 0.0597 - val_accuracy: 0.9825\n",
            "Epoch 53/100\n",
            "1688/1688 - 17s - loss: 0.1428 - accuracy: 0.9569 - val_loss: 0.0594 - val_accuracy: 0.9823\n",
            "Epoch 54/100\n",
            "1688/1688 - 17s - loss: 0.1406 - accuracy: 0.9572 - val_loss: 0.0589 - val_accuracy: 0.9823\n",
            "Epoch 55/100\n",
            "1688/1688 - 18s - loss: 0.1405 - accuracy: 0.9566 - val_loss: 0.0596 - val_accuracy: 0.9825\n",
            "Epoch 56/100\n",
            "1688/1688 - 18s - loss: 0.1445 - accuracy: 0.9564 - val_loss: 0.0595 - val_accuracy: 0.9820\n",
            "Epoch 57/100\n",
            "1688/1688 - 19s - loss: 0.1440 - accuracy: 0.9569 - val_loss: 0.0593 - val_accuracy: 0.9823\n",
            "Epoch 58/100\n",
            "1688/1688 - 18s - loss: 0.1396 - accuracy: 0.9573 - val_loss: 0.0598 - val_accuracy: 0.9818\n",
            "Epoch 59/100\n",
            "1688/1688 - 17s - loss: 0.1422 - accuracy: 0.9564 - val_loss: 0.0592 - val_accuracy: 0.9825\n",
            "Epoch 60/100\n",
            "1688/1688 - 17s - loss: 0.1438 - accuracy: 0.9564 - val_loss: 0.0593 - val_accuracy: 0.9822\n",
            "Epoch 61/100\n",
            "1688/1688 - 19s - loss: 0.1419 - accuracy: 0.9577 - val_loss: 0.0595 - val_accuracy: 0.9823\n",
            "Epoch 62/100\n",
            "1688/1688 - 17s - loss: 0.1433 - accuracy: 0.9577 - val_loss: 0.0597 - val_accuracy: 0.9827\n",
            "Epoch 63/100\n",
            "1688/1688 - 17s - loss: 0.1431 - accuracy: 0.9570 - val_loss: 0.0593 - val_accuracy: 0.9828\n",
            "Epoch 64/100\n",
            "1688/1688 - 18s - loss: 0.1413 - accuracy: 0.9569 - val_loss: 0.0593 - val_accuracy: 0.9827\n"
          ],
          "name": "stdout"
        },
        {
          "output_type": "execute_result",
          "data": {
            "text/plain": [
              "<keras.callbacks.History at 0x7f29f719f050>"
            ]
          },
          "metadata": {
            "tags": []
          },
          "execution_count": 15
        }
      ]
    }
  ]
}